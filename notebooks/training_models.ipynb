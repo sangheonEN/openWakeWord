{
 "cells": [
  {
   "cell_type": "markdown",
   "id": "825fe381",
   "metadata": {},
   "source": [
    "# Introduction\n",
    "\n",
    "This notebook demonstrates the process of training a new openWakeWord model, using synthetic speech generated with open-source TTS models, and negative data representing music, noise, and speech. While the process here is complete, only small samples of datasets are utilized so that a new model can be trained on CPUs. In practice, much larger volumes of data (both positive and negitive examples) is needed to produce robust models. See the [documentation](https://github.com/dscripka/openWakeWord/tree/main/docs/models) for the pre-trained openWakeWord models for more information about how these models were trained."
   ]
  },
  {
   "cell_type": "markdown",
   "id": "bd8e4597",
   "metadata": {},
   "source": [
    "To start, we'll need to install the requirements needed to train new openWakeWord models."
   ]
  },
  {
   "cell_type": "code",
   "execution_count": 2,
   "id": "1ba07a8f",
   "metadata": {},
   "outputs": [],
   "source": [
    "# Install requirements (it's recommended that you do this in a new virtual environment)\n",
    "\n",
    "# !pip install openwakeword\n",
    "# !pip install speechbrain\n",
    "# !pip install datasets\n",
    "# !pip install scipy matplotlib"
   ]
  },
  {
   "cell_type": "code",
   "execution_count": 2,
   "id": "6de2fb90",
   "metadata": {},
   "outputs": [],
   "source": [
    "# 이미 캐싱된 module을 제거 한 뒤에 다시 import해보자.\n",
    "import sys\n",
    "\n",
    "# 기존 openwakeword 모듈 제거\n",
    "modules_to_remove = [key for key in sys.modules if key.startswith(\"openwakeword\")]\n",
    "for module in modules_to_remove:\n",
    "    del sys.modules[module]\n"
   ]
  },
  {
   "cell_type": "code",
   "execution_count": 3,
   "id": "cb491043",
   "metadata": {},
   "outputs": [
    {
     "name": "stdout",
     "output_type": "stream",
     "text": [
      "Cleaned sys.path: ['/home/openWakeWord', '/usr/lib/python310.zip', '/usr/lib/python3.10', '/usr/lib/python3.10/lib-dynload', '', '/root/.local/lib/python3.10/site-packages', '/usr/local/lib/python3.10/dist-packages', '/usr/lib/python3/dist-packages']\n"
     ]
    }
   ],
   "source": [
    "# /home/openWakeWord 중복 제거 및 하나만 남기기\n",
    "# sys.path 삭제: sys.path.remove(\"/home/openWakeWord\")\n",
    "\n",
    "import sys\n",
    "home_path = \"/home/openWakeWord\"\n",
    "sys.path.insert(0, home_path)\n",
    "unique_paths = []\n",
    "for path in sys.path:\n",
    "    if path not in unique_paths:\n",
    "        unique_paths.append(path)\n",
    "sys.path = unique_paths\n",
    "\n",
    "# 확인\n",
    "print(\"Cleaned sys.path:\", sys.path)"
   ]
  },
  {
   "cell_type": "code",
   "execution_count": 5,
   "id": "c914b0c9",
   "metadata": {
    "ExecuteTime": {
     "end_time": "2023-02-18T03:26:26.308309Z",
     "start_time": "2023-02-18T03:26:24.785801Z"
    }
   },
   "outputs": [
    {
     "name": "stdout",
     "output_type": "stream",
     "text": [
      "The autoreload extension is already loaded. To reload it, use:\n",
      "  %reload_ext autoreload\n"
     ]
    }
   ],
   "source": [
    "# Imports 위에 openwakeword 모듈 초기화 하고 다시 import하는데, 한번 더 import 하는 코드 실행하면 다른 sys.path로 잡힘.\n",
    "\n",
    "%load_ext autoreload\n",
    "%autoreload 2\n",
    "\n",
    "import os\n",
    "import collections\n",
    "import numpy as np\n",
    "from numpy.lib.format import open_memmap\n",
    "from pathlib import Path\n",
    "from tqdm import tqdm\n",
    "\n",
    "import openwakeword\n",
    "import openwakeword.data\n",
    "import openwakeword.utils\n",
    "import openwakeword.metrics\n",
    "\n",
    "import scipy\n",
    "import datasets\n",
    "import matplotlib.pyplot as plt\n",
    "import torch\n",
    "from torch import nn\n",
    "import IPython.display as ipd"
   ]
  },
  {
   "cell_type": "markdown",
   "id": "b40a7f25",
   "metadata": {},
   "source": [
    "# Data Preparation"
   ]
  },
  {
   "cell_type": "markdown",
   "id": "aee94c6e",
   "metadata": {},
   "source": [
    "## Download Data"
   ]
  },
  {
   "cell_type": "markdown",
   "id": "00ea736a",
   "metadata": {},
   "source": [
    "Next we'll load the data used for training. For the purposes of this demonstration, we'll use a small set of positive and negative.\n",
    "\n",
    "For the positive data, there are ~3400 synthetic examples of the phrase \"turn on the office lights\" that were produced with the text-to-speech models documented in a [separate repo](https://github.com/dscripka/synthetic_speech_dataset_generation).\n",
    "\n",
    "These positive examples can be downloaded [here](https://f002.backblazeb2.com/file/openwakeword-resources/data/turn_on_the_office_lights.tar.gz).\n",
    "\n",
    "For negative data, we'll use small, already prepared samples of the [fma-large dataset](https://github.com/mdeff/fma) for music, the [FSD50k dataset](https://zenodo.org/record/4060432#.Y-hA2BzMJhE) for noise, and the [Common Voice 11](https://huggingface.co/datasets/mozilla-foundation/common_voice_11_0) dataset for speech.\n",
    "\n",
    "The fma-large sample can be downloaded [here](https://f002.backblazeb2.com/file/openwakeword-resources/data/fma_sample.zip), and then extracted into the working director.\n",
    "\n",
    "The FSD50k sample can be downloaded [here](https://f002.backblazeb2.com/file/openwakeword-resources/data/fsd50k_sample.zip), and then extracted into the working directory.\n",
    "\n",
    "And we'll use the HuggingFace Datasets library to get a portion of the test split of the Common Voice 11 (CV11) corpus.\n",
    "\n",
    "Note the data provided here is intended for non-commerical applications only; you will need to verify the license status of this (and other) data if you intend to use it for commerical purposes."
   ]
  },
  {
   "cell_type": "code",
   "execution_count": null,
   "id": "a31f760c",
   "metadata": {
    "ExecuteTime": {
     "end_time": "2023-02-12T16:08:32.045657Z",
     "start_time": "2023-02-12T16:07:24.104475Z"
    }
   },
   "outputs": [],
   "source": [
    "# 필요없음.\n",
    "# Download CV11 test split from HuggingFace, and convert the audio into 16 khz, 16-bit wav files\n",
    "\n",
    "cv_11 = datasets.load_dataset(\"mozilla-foundation/common_voice_11_0\", \"en\", split=\"test\", streaming=True)\n",
    "cv_11 = cv_11.cast_column(\"audio\", datasets.Audio(sampling_rate=16000, mono=True)) # convert to 16-khz\n",
    "cv_11 = iter(cv_11)\n",
    "\n",
    "# Convert and save clips (only first 5000)\n",
    "limit = 5000\n",
    "for i in tqdm(range(limit)):\n",
    "    example = next(cv_11)\n",
    "    output = os.path.join(\"cv11_test_clips\", example[\"path\"][0:-4] + \".wav\")\n",
    "    os.makedirs(os.path.dirname(output), exist_ok=True)\n",
    "\n",
    "    wav_data = (example[\"audio\"][\"array\"]*32767).astype(np.int16) # convert to 16-bit PCM format\n",
    "    scipy.io.wavfile.write(output, 16000, wav_data)\n"
   ]
  },
  {
   "cell_type": "markdown",
   "id": "0a12ab3d",
   "metadata": {
    "ExecuteTime": {
     "end_time": "2023-02-12T02:04:47.611837Z",
     "start_time": "2023-02-12T02:04:47.606080Z"
    }
   },
   "source": [
    "## Compute Audio Embeddings"
   ]
  },
  {
   "cell_type": "markdown",
   "id": "bfea6a2b",
   "metadata": {},
   "source": [
    "Once all the data is downloaded, we can now get the audio embeddings for the positive and negative clips. As this part of the openWakeWord model is frozen (i.e., not updated during training), it makes sense to pre-compute these features so that they only need to be prepared once."
   ]
  },
  {
   "cell_type": "code",
   "execution_count": 4,
   "id": "5518caf2",
   "metadata": {},
   "outputs": [],
   "source": [
    "\"\"\"\n",
    "NoSuchFile: [ONNXRuntimeError] : 3 : NO_SUCHFILE : Load model from /usr/local/lib/python3.10/dist-packages/openwakeword/resources/models/melspectrogram.onnx failed:Load model /usr/local/lib/python3.10/dist-packages/openwakeword/resources/models/melspectrogram.onnx failed. File doesn't exist\n",
    "위 같이 melspectrogram.onnx 모델 파일을 찾지 못함. 그래서 해당 코드를 적용하면, 자동으로 /usr/local/lib/python3.10/dist-packages/openwakeword/resources/models/ 경로에 필요한 모델 파일들이 다운로드 됨.\n",
    "\n",
    "root@f68474bc0b98:/usr/local/lib/python3.10/dist-packages/openwakeword/resources/models# ls\n",
    "alexa_v0.1.onnx    embedding_model.onnx    hey_jarvis_v0.1.onnx    hey_mycroft_v0.1.onnx    hey_rhasspy_v0.1.onnx    melspectrogram.onnx    silero_vad.onnx  timer_v0.1.tflite  weather_v0.1.tflite\n",
    "alexa_v0.1.tflite  embedding_model.tflite  hey_jarvis_v0.1.tflite  hey_mycroft_v0.1.tflite  hey_rhasspy_v0.1.tflite  melspectrogram.tflite  timer_v0.1.onnx  weather_v0.1.onnx\n",
    "\"\"\"\n",
    "from openwakeword.utils import download_models\n",
    "download_models()"
   ]
  },
  {
   "cell_type": "code",
   "execution_count": 5,
   "id": "473349ce",
   "metadata": {
    "ExecuteTime": {
     "end_time": "2023-02-18T03:26:45.282504Z",
     "start_time": "2023-02-18T03:26:45.093446Z"
    }
   },
   "outputs": [],
   "source": [
    "# Create audio pre-processing object to get openWakeWord audio embeddings\n",
    "\n",
    "F = openwakeword.utils.AudioFeatures()"
   ]
  },
  {
   "cell_type": "markdown",
   "id": "9e757355",
   "metadata": {
    "ExecuteTime": {
     "end_time": "2023-02-12T02:14:32.160470Z",
     "start_time": "2023-02-12T02:14:32.154438Z"
    }
   },
   "source": [
    "### Negative Clips"
   ]
  },
  {
   "cell_type": "code",
   "execution_count": 9,
   "id": "ab401215",
   "metadata": {
    "ExecuteTime": {
     "end_time": "2023-02-18T03:27:23.911209Z",
     "start_time": "2023-02-18T03:26:47.968057Z"
    }
   },
   "outputs": [
    {
     "name": "stderr",
     "output_type": "stream",
     "text": [
      "0it [00:00, ?it/s]"
     ]
    },
    {
     "name": "stderr",
     "output_type": "stream",
     "text": [
      "50000it [00:20, 2416.20it/s]\n",
      "100%|██████████| 50000/50000 [04:34<00:00, 181.88it/s]\n",
      "4it [00:00, 1587.70it/s]\n",
      "100%|██████████| 4/4 [00:00<00:00, 96.56it/s]\n",
      "114it [00:00, 2359.64it/s]\n",
      "100%|██████████| 114/114 [00:01<00:00, 77.71it/s]\n",
      "5it [00:00, 1902.01it/s]\n",
      "100%|██████████| 5/5 [00:00<00:00, 113.88it/s]\n",
      "2it [00:00, 1330.26it/s]\n",
      "100%|██████████| 2/2 [00:00<00:00, 131.33it/s]\n",
      "596it [00:00, 2611.48it/s]\n",
      "100%|██████████| 596/596 [00:06<00:00, 88.53it/s]\n",
      "271it [00:00, 2635.21it/s]\n",
      "100%|██████████| 271/271 [00:03<00:00, 86.34it/s]\n",
      "9it [00:00, 2058.50it/s]\n",
      "100%|██████████| 9/9 [00:00<00:00, 113.31it/s]\n",
      "3it [00:00, 1641.39it/s]\n",
      "100%|██████████| 3/3 [00:00<00:00, 88.39it/s]\n",
      "26it [00:00, 2333.11it/s]\n",
      "100%|██████████| 26/26 [00:00<00:00, 94.98it/s]\n",
      "113it [00:00, 2495.72it/s]\n",
      "100%|██████████| 113/113 [00:01<00:00, 82.58it/s]\n",
      "6it [00:00, 1769.75it/s]\n",
      "100%|██████████| 6/6 [00:00<00:00, 106.54it/s]\n",
      "25it [00:00, 2330.58it/s]\n",
      "100%|██████████| 25/25 [00:00<00:00, 100.73it/s]\n",
      "316it [00:00, 2490.17it/s]\n",
      "100%|██████████| 316/316 [00:04<00:00, 67.46it/s]\n",
      "44it [00:00, 2297.73it/s]\n",
      "100%|██████████| 44/44 [00:00<00:00, 77.88it/s]\n",
      "80it [00:00, 2400.62it/s]\n",
      "100%|██████████| 80/80 [00:00<00:00, 97.15it/s] \n",
      "1it [00:00, 766.08it/s]\n",
      "100%|██████████| 1/1 [00:00<00:00, 114.14it/s]\n",
      "1it [00:00, 746.18it/s]\n",
      "100%|██████████| 1/1 [00:00<00:00, 115.96it/s]\n",
      "2it [00:00, 1201.63it/s]\n",
      "100%|██████████| 2/2 [00:00<00:00, 108.99it/s]\n",
      "232it [00:00, 2393.03it/s]\n",
      "100%|██████████| 232/232 [00:02<00:00, 90.67it/s] \n",
      "105it [00:00, 2421.80it/s]\n",
      "100%|██████████| 105/105 [00:00<00:00, 107.70it/s]\n",
      "716it [00:00, 2573.86it/s]\n",
      "100%|██████████| 716/716 [00:07<00:00, 91.18it/s] \n",
      "3it [00:00, 1624.65it/s]\n",
      "100%|██████████| 3/3 [00:00<00:00, 112.98it/s]\n",
      "22it [00:00, 2521.03it/s]\n",
      "100%|██████████| 22/22 [00:00<00:00, 120.20it/s]\n",
      "561it [00:00, 2519.48it/s]\n",
      "100%|██████████| 561/561 [00:06<00:00, 89.35it/s]\n",
      "27it [00:00, 2444.81it/s]\n",
      "100%|██████████| 27/27 [00:00<00:00, 94.48it/s]\n",
      "40it [00:00, 2396.33it/s]\n",
      "100%|██████████| 40/40 [00:00<00:00, 114.20it/s]\n",
      "4it [00:00, 1795.31it/s]\n",
      "100%|██████████| 4/4 [00:00<00:00, 109.93it/s]\n",
      "42it [00:00, 2563.31it/s]\n",
      "100%|██████████| 42/42 [00:00<00:00, 122.06it/s]\n",
      "5it [00:00, 1778.45it/s]\n",
      "100%|██████████| 5/5 [00:00<00:00, 89.12it/s]\n",
      "154it [00:00, 1768.45it/s]\n",
      "100%|██████████| 154/154 [00:01<00:00, 83.72it/s]\n",
      "6it [00:00, 1824.80it/s]\n",
      "100%|██████████| 6/6 [00:00<00:00, 41.59it/s]\n",
      "222it [00:00, 2451.70it/s]\n",
      "100%|██████████| 222/222 [00:02<00:00, 90.41it/s]\n",
      "108it [00:00, 2327.31it/s]\n",
      "100%|██████████| 108/108 [00:01<00:00, 107.18it/s]\n",
      "12it [00:00, 2126.75it/s]\n",
      "100%|██████████| 12/12 [00:00<00:00, 98.25it/s]\n",
      "75it [00:00, 2430.17it/s]\n",
      "100%|██████████| 75/75 [00:00<00:00, 104.17it/s]\n",
      "6it [00:00, 1913.90it/s]\n",
      "100%|██████████| 6/6 [00:00<00:00, 94.18it/s]\n",
      "962it [00:00, 2373.24it/s]\n",
      "100%|██████████| 962/962 [00:10<00:00, 87.77it/s] \n",
      "47it [00:00, 2231.57it/s]\n",
      "100%|██████████| 47/47 [00:00<00:00, 105.89it/s]\n",
      "3it [00:00, 111.20it/s]\n",
      "100%|██████████| 3/3 [00:00<00:00, 49.13it/s]\n",
      "352it [00:00, 2001.12it/s]\n",
      "100%|██████████| 352/352 [00:04<00:00, 71.88it/s]\n",
      "74it [00:00, 2455.80it/s]\n",
      "100%|██████████| 74/74 [00:00<00:00, 118.06it/s]\n",
      "13it [00:00, 2026.23it/s]\n",
      "100%|██████████| 13/13 [00:00<00:00, 107.46it/s]\n",
      "61it [00:00, 2434.93it/s]\n",
      "100%|██████████| 61/61 [00:00<00:00, 83.60it/s] \n",
      "264it [00:00, 2417.41it/s]\n",
      "100%|██████████| 264/264 [00:02<00:00, 94.22it/s] \n",
      "13it [00:00, 1938.84it/s]\n",
      "100%|██████████| 13/13 [00:00<00:00, 60.95it/s]\n",
      "13it [00:00, 2039.04it/s]\n",
      "100%|██████████| 13/13 [00:00<00:00, 117.83it/s]\n",
      "8it [00:00, 1888.37it/s]\n",
      "100%|██████████| 8/8 [00:00<00:00, 93.64it/s]\n",
      "5it [00:00, 1715.04it/s]\n",
      "100%|██████████| 5/5 [00:00<00:00, 112.36it/s]\n",
      "8it [00:00, 1878.64it/s]\n",
      "100%|██████████| 8/8 [00:00<00:00, 106.99it/s]\n",
      "36it [00:00, 2335.79it/s]\n",
      "100%|██████████| 36/36 [00:00<00:00, 108.57it/s]\n",
      "5it [00:00, 1693.30it/s]\n",
      "100%|██████████| 5/5 [00:00<00:00, 106.12it/s]\n",
      "2it [00:00, 1136.21it/s]\n",
      "100%|██████████| 2/2 [00:00<00:00, 127.80it/s]\n",
      "1it [00:00, 807.37it/s]\n",
      "100%|██████████| 1/1 [00:00<00:00, 96.31it/s]\n",
      "163it [00:00, 2530.79it/s]\n",
      "100%|██████████| 163/163 [00:01<00:00, 97.03it/s] \n",
      "2it [00:00, 1306.43it/s]\n",
      "100%|██████████| 2/2 [00:00<00:00, 134.19it/s]\n",
      "4it [00:00, 1569.43it/s]\n",
      "100%|██████████| 4/4 [00:00<00:00, 145.42it/s]\n",
      "1it [00:00, 629.49it/s]\n",
      "100%|██████████| 1/1 [00:00<00:00, 101.47it/s]\n",
      "1it [00:00, 809.87it/s]\n",
      "100%|██████████| 1/1 [00:00<00:00, 80.88it/s]"
     ]
    },
    {
     "name": "stdout",
     "output_type": "stream",
     "text": [
      "55979 negative clips after filtering, representing ~28.0 hours\n"
     ]
    },
    {
     "name": "stderr",
     "output_type": "stream",
     "text": [
      "\n"
     ]
    }
   ],
   "source": [
    "# Get negative example paths, filtering out clips that are too long or too short\n",
    "\"\"\"\n",
    "filter_audio_paths 함수는 주어진 디렉토리에서 오디오 파일을 찾고, 지정된 조건(길이 등)에 맞는 오디오 파일만을 필터링\n",
    "\n",
    "\"\"\"\n",
    "\n",
    "negative_clips, negative_durations = openwakeword.data.filter_audio_paths(\n",
    "    [\n",
    "        \"/home/data/openwakeword/piper_negative_sample\",\n",
    "        \"/home/data/openwakeword/일반남여_자유대화_M_1555611171_40_수도권_실내\",\n",
    "        \"/home/data/openwakeword/일반남여_자유대화_M_1556099813_51_수도권_실내\",\n",
    "        \"/home/data/openwakeword/일반남여_자유대화_M_1556099813_51_수도권_실외\",\n",
    "        \"/home/data/openwakeword/일반남여_자유대화_M_1556372575_28_수도권_실내\",\n",
    "        \"/home/data/openwakeword/일반남여_자유대화_M_1556699339_43_수도권_실내\",\n",
    "        \"/home/data/openwakeword/일반남여_자유대화_M_1556733030_20_충청_실내\",\n",
    "        \"/home/data/openwakeword/일반남여_자유대화_M_1558793799_49_수도권_실내\",\n",
    "        \"/home/data/openwakeword/일반남여_자유대화_M_1560004441_36_수도권_실내\",\n",
    "        \"/home/data/openwakeword/일반남여_자유대화_M_1561592011_40_수도권_실내\",\n",
    "        \"/home/data/openwakeword/일반남여_자유대화_M_1561592011_40_충청_실내\",\n",
    "        \"/home/data/openwakeword/일반남여_자유대화_M_1561892242_33_수도권_실내\",\n",
    "        \"/home/data/openwakeword/일반남여_자유대화_M_1561913420_56_수도권_실내\",\n",
    "        \"/home/data/openwakeword/일반남여_자유대화_M_1562186261_57_전라_실내\",\n",
    "        \"/home/data/openwakeword/일반남여_자유대화_M_1562186261_57_전라_실외\",\n",
    "        \"/home/data/openwakeword/일반남여_자유대화_M_1565005422_41_수도권_실내\",\n",
    "        \"/home/data/openwakeword/일반남여_자유대화_M_1566448306_35_수도권_실내\",\n",
    "        \"/home/data/openwakeword/일반남여_자유대화_M_1567793164_37_수도권_실내\",\n",
    "        \"/home/data/openwakeword/일반남여_자유대화_M_1569324717_25_충청_실내\",\n",
    "        \"/home/data/openwakeword/일반남여_자유대화_M_1569387264_22_수도권_실내\",\n",
    "        \"/home/data/openwakeword/일반남여_자유대화_M_1569774336_30_경상_실내\",\n",
    "        \"/home/data/openwakeword/일반남여_자유대화_M_1570546615_33_강원_실내\",\n",
    "        \"/home/data/openwakeword/일반남여_자유대화_M_1570548751_50_수도권_실내\",\n",
    "        \"/home/data/openwakeword/일반남여_자유대화_M_1570658641_44_수도권_실내\",\n",
    "        \"/home/data/openwakeword/일반남여_자유대화_M_1571286728_27_강원_실내\",\n",
    "        \"/home/data/openwakeword/일반남여_자유대화_M_1571527490_28_충청_실내\",\n",
    "        \"/home/data/openwakeword/일반남여_자유대화_M_1571546528_41_수도권_실내\",\n",
    "        \"/home/data/openwakeword/일반남여_자유대화_M_1571674136_39_경상_실내\",\n",
    "        \"/home/data/openwakeword/일반남여_자유대화_M_1572023165_26_수도권_실내\",\n",
    "        \"/home/data/openwakeword/일반남여_자유대화_M_1572134067_32_수도권_실내\",\n",
    "        \"/home/data/openwakeword/일반남여_자유대화_M_1572492209_29_수도권_실내\",\n",
    "        \"/home/data/openwakeword/일반남여_자유대화_M_1572532050_43_수도권_실내\",\n",
    "        \"/home/data/openwakeword/일반남여_자유대화_M_1572796115_58_수도권_실내\",\n",
    "        \"/home/data/openwakeword/일반남여_자유대화_M_1573307262_55_전라_실내\",\n",
    "        \"/home/data/openwakeword/일반남여_자유대화_M_1573535211_24_수도권_실내\",\n",
    "        \"/home/data/openwakeword/일반남여_자유대화_M_1573631404_33_수도권_실내\",\n",
    "        \"/home/data/openwakeword/일반남여_자유대화_M_1573837987_44_경상_실내\",\n",
    "        \"/home/data/openwakeword/일반남여_자유대화_M_1573975642_37_경상_실내\",\n",
    "        \"/home/data/openwakeword/일반남여_자유대화_M_1573975642_37_경상_실외\",\n",
    "        \"/home/data/openwakeword/일반남여_자유대화_M_1574737562_26_전라_실내\",\n",
    "        \"/home/data/openwakeword/일반남여_자유대화_M_1574981522_37_수도권_실내\",\n",
    "        \"/home/data/openwakeword/일반남여_자유대화_M_1575782101_28_경상_실내\",\n",
    "        \"/home/data/openwakeword/일반남여_자유대화_M_1576361575_40_경상_실내\",\n",
    "        \"/home/data/openwakeword/일반남여_자유대화_M_1576376586_46_수도권_실내\",\n",
    "        \"/home/data/openwakeword/일반남여_자유대화_M_1576523737_34_수도권_실내\",\n",
    "        \"/home/data/openwakeword/일반남여_자유대화_M_1576523737_34_수도권_실외\",\n",
    "        \"/home/data/openwakeword/일반남여_자유대화_M_1577116948_44_경상_실내\",\n",
    "        \"/home/data/openwakeword/일반남여_자유대화_M_1577813879_31_수도권_실내\",\n",
    "        \"/home/data/openwakeword/일반남여_자유대화_M_1577966558_26_경상_실내\",\n",
    "        \"/home/data/openwakeword/일반남여_자유대화_M_1578018992_49_충청_실내\",\n",
    "        \"/home/data/openwakeword/일반남여_자유대화_M_1578412985_32_수도권_실내\",\n",
    "        \"/home/data/openwakeword/일반남여_자유대화_M_1579006059_32_강원_실내\",\n",
    "        \"/home/data/openwakeword/일반남여_자유대화_M_1579053800_27_충청_실내\",\n",
    "        \"/home/data/openwakeword/일반남여_자유대화_M_1579323786_25_수도권_실내\",\n",
    "        \"/home/data/openwakeword/일반남여_자유대화_M_1579598480_37_강원_실내\",\n",
    "        \"/home/data/openwakeword/일반남여_자유대화_M_1580225768_30_수도권_실내\",\n",
    "        \"/home/data/openwakeword/일반남여_자유대화_M_1580840411_49_수도권_실내\",\n",
    "        \"/home/data/openwakeword/일반남여_자유대화_M_1581844592_42_경상_실내\",\n",
    "        \"/home/data/openwakeword/일반남여_자유대화_M_1581940186_30_강원_실내\"\n",
    "\n",
    "    ],\n",
    "    min_length_secs = 0.5, # minimum clip length in seconds\n",
    "    max_length_secs = 60*30, # maximum clip length in seconds\n",
    "    duration_method = \"header\" # use the file header to calculate duration\n",
    ")\n",
    "\n",
    "print(f\"{len(negative_clips)} negative clips after filtering, representing ~{sum(negative_durations)//3600} hours\")"
   ]
  },
  {
   "cell_type": "code",
   "execution_count": 10,
   "id": "221d8662",
   "metadata": {
    "ExecuteTime": {
     "end_time": "2023-02-18T03:28:06.568812Z",
     "start_time": "2023-02-18T03:28:06.524651Z"
    }
   },
   "outputs": [],
   "source": [
    "# Use HuggingFace datasets to load files from disk by batches\n",
    "\n",
    "audio_dataset = datasets.Dataset.from_dict({\"audio\": negative_clips})\n",
    "audio_dataset = audio_dataset.cast_column(\"audio\", datasets.Audio(sampling_rate=16000))"
   ]
  },
  {
   "cell_type": "code",
   "execution_count": 11,
   "id": "37ec1163",
   "metadata": {
    "ExecuteTime": {
     "end_time": "2023-02-18T03:30:38.082245Z",
     "start_time": "2023-02-18T03:29:08.355371Z"
    }
   },
   "outputs": [
    {
     "name": "stderr",
     "output_type": "stream",
     "text": [
      "  0%|          | 0/875 [00:00<?, ?it/s]"
     ]
    },
    {
     "name": "stderr",
     "output_type": "stream",
     "text": [
      "100%|█████████▉| 871/875 [06:14<00:01,  2.32it/s]\n",
      "Trimming empty rows: 34it [00:01, 24.94it/s]                        \n"
     ]
    }
   ],
   "source": [
    "# Get audio embeddings (features) for negative clips and save to .npy file\n",
    "# Process files by batch and save to Numpy memory mapped file so that\n",
    "# an array larger than the available system memory can be created\n",
    "\n",
    "batch_size = 64 # number of files to load, compute features, and write to mmap at a time\n",
    "clip_size = 3  # the desired window size (in seconds) for the trained openWakeWord model\n",
    "N_total = int(sum(negative_durations)//clip_size) # maximum number of rows in mmap file\n",
    "n_feature_cols = F.get_embedding_shape(clip_size)\n",
    "\n",
    "output_file = \"negative_features.npy\"\n",
    "output_array_shape = (N_total, n_feature_cols[0], n_feature_cols[1])\n",
    "fp = open_memmap(output_file, mode='w+', dtype=np.float32, shape=output_array_shape)\n",
    "\n",
    "row_counter = 0\n",
    "for i in tqdm(np.arange(0, audio_dataset.num_rows, batch_size)):\n",
    "    # Load data in batches and shape into rectangular array\n",
    "    wav_data = [(j[\"array\"]*32767).astype(np.int16) for j in audio_dataset[i:i+batch_size][\"audio\"]]\n",
    "    wav_data = openwakeword.data.stack_clips(wav_data, clip_size=16000*clip_size).astype(np.int16)\n",
    "    \n",
    "    # Compute features (increase ncpu argument for faster processing)\n",
    "    features = F.embed_clips(x=wav_data, batch_size=1024, ncpu=8)\n",
    "    \n",
    "    # Save computed features to mmap array file (stopping once the desired size is reached)\n",
    "    if row_counter + features.shape[0] > N_total:\n",
    "        fp[row_counter:min(row_counter+features.shape[0], N_total), :, :] = features[0:N_total - row_counter, :, :]\n",
    "        fp.flush()\n",
    "        break\n",
    "    else:\n",
    "        fp[row_counter:row_counter+features.shape[0], :, :] = features\n",
    "        row_counter += features.shape[0]\n",
    "        fp.flush()\n",
    "        \n",
    "# Trip empty rows from the mmapped array\n",
    "openwakeword.data.trim_mmap(output_file)"
   ]
  },
  {
   "cell_type": "markdown",
   "id": "c60aa86d",
   "metadata": {},
   "source": [
    "Now we have all of the negative features prepared, and saved to fixed durations clips in a Numpy array. For this data, the array is small at ~160 MB, but in-practice the memory mapping allows the array to be very large (e.g., 100s of GBs)."
   ]
  },
  {
   "cell_type": "markdown",
   "id": "1b49b9c6",
   "metadata": {},
   "source": [
    "### Positive Clips"
   ]
  },
  {
   "cell_type": "markdown",
   "id": "6f3f9ed0",
   "metadata": {},
   "source": [
    "First, [download](https://f002.backblazeb2.com/file/openwakeword-resources/data/turn_on_the_office_lights.tar.gz) and extract the positive clips into the working directory.\n",
    "\n",
    "Then the positive clips will be prepared in two way:\n",
    "\n",
    "1) Mixing the synthetic positive clips with negative data at random SNRs to simulate noise data\n",
    "\n",
    "2) Aligning the positive clips with background data such that the end of the input window aligns with the end of the positive clip. This way the model will learn to predict the presence of the wakeword/phrase immediately after it is spoken.\n",
    "\n",
    "In practice, there are other possible ways to augment the positive data (e.g., creating reverberation with room impulse response files, mixing with synthetic noise, etc.) but in practice we have observed that mixing with realistic background data provides the best results. Again, see the [documentation](https://github.com/dscripka/openWakeWord/tree/main/docs/models) for the pre-trained openWakeWord models for more information about the types of data augmentation used.\n",
    "\n",
    "After this prepartion, the positive clips will be converted into the openWakeWord features in the same way as the negative files."
   ]
  },
  {
   "cell_type": "code",
   "execution_count": 6,
   "id": "54d973c8",
   "metadata": {},
   "outputs": [
    {
     "name": "stdout",
     "output_type": "stream",
     "text": [
      "cv11_test_clips  openwakeword\n"
     ]
    }
   ],
   "source": [
    "!cd /home/data && ls"
   ]
  },
  {
   "cell_type": "code",
   "execution_count": 12,
   "id": "fe1964fb",
   "metadata": {
    "ExecuteTime": {
     "end_time": "2023-02-18T03:31:01.912793Z",
     "start_time": "2023-02-18T03:30:43.623741Z"
    }
   },
   "outputs": [
    {
     "name": "stderr",
     "output_type": "stream",
     "text": [
      "51010it [00:21, 2393.85it/s]\n",
      "100%|██████████| 51010/51010 [05:07<00:00, 166.09it/s]"
     ]
    },
    {
     "name": "stdout",
     "output_type": "stream",
     "text": [
      "50990 positive clips after filtering\n"
     ]
    },
    {
     "name": "stderr",
     "output_type": "stream",
     "text": [
      "\n"
     ]
    }
   ],
   "source": [
    "# Get positive example paths, filtering out clips that are too long or too short\n",
    "\n",
    "positive_clips, durations = openwakeword.data.filter_audio_paths(\n",
    "    [\n",
    "        \"/home/data/openwakeword/openwakeword_positive_sample\"\n",
    "    ],\n",
    "    # min_length_secs = 1.0, # minimum clip length in seconds\n",
    "    min_length_secs = 0.5, # minimum clip length in seconds\n",
    "    max_length_secs = 2.0, # maximum clip length in seconds\n",
    "    duration_method = \"header\" # use the file header to calculate duration\n",
    ")\n",
    "\n",
    "print(f\"{len(positive_clips)} positive clips after filtering\")"
   ]
  },
  {
   "cell_type": "code",
   "execution_count": 16,
   "id": "5d9dc47b",
   "metadata": {
    "ExecuteTime": {
     "end_time": "2023-02-18T03:31:05.710564Z",
     "start_time": "2023-02-18T03:31:05.699618Z"
    }
   },
   "outputs": [],
   "source": [
    "# Define starting point for each positive clip based on its length, so that each one ends \n",
    "# between 0-200 ms from the end of the total window size chosen for the model.\n",
    "# This results in the model being most confident in the prediction right after the\n",
    "# end of the wakeword in the audio stream, reducing latency in operation.\n",
    "\n",
    "# Get start and end positions for the positive audio in the full window\n",
    "sr = 16000\n",
    "total_length_seconds = 3 # must be the some window length as that used for the negative examples\n",
    "total_length = int(sr*total_length_seconds)\n",
    "\n",
    "jitters = (np.random.uniform(0, 0.2, len(positive_clips))*sr).astype(np.int32)\n",
    "starts = [total_length - (int(np.ceil(i*sr))+j) for i,j in zip(durations, jitters)]\n",
    "ends = [int(i*sr) + j for i, j in zip(durations, starts)]\n",
    "\n",
    "# Create generator to mix the positive audio with background audio\n",
    "batch_size = 8\n",
    "mixing_generator = openwakeword.data.mix_clips_batch(\n",
    "    foreground_clips = positive_clips,\n",
    "    background_clips = negative_clips,\n",
    "    combined_size = total_length,\n",
    "    batch_size = batch_size,\n",
    "    snr_low = 5,\n",
    "    snr_high = 15,\n",
    "    start_index = starts,\n",
    "    volume_augmentation=True, # randomly scale the volume of the audio after mixing\n",
    ")\n"
   ]
  },
  {
   "cell_type": "code",
   "execution_count": 14,
   "id": "70898754",
   "metadata": {
    "ExecuteTime": {
     "end_time": "2023-02-12T03:35:32.377177Z",
     "start_time": "2023-02-12T03:35:32.349576Z"
    }
   },
   "outputs": [
    {
     "data": {
      "text/html": [
       "\n",
       "                <audio  controls=\"controls\" >\n",
       "                    <source src=\"data:audio/wav;base64,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\" type=\"audio/wav\" />\n",
       "                    Your browser does not support the audio element.\n",
       "                </audio>\n",
       "              "
      ],
      "text/plain": [
       "<IPython.lib.display.Audio object>"
      ]
     },
     "metadata": {},
     "output_type": "display_data"
    }
   ],
   "source": [
    "# (Optionally) listen to mixed clips to confirm that the mixing appears correct\n",
    "mixed_clips, labels, background_clips = next(mixing_generator)\n",
    "ipd.display(ipd.Audio(mixed_clips[0], rate=16000, normalize=True, autoplay=False))"
   ]
  },
  {
   "cell_type": "code",
   "execution_count": 17,
   "id": "621c2ee6",
   "metadata": {
    "ExecuteTime": {
     "end_time": "2023-02-18T03:33:35.853508Z",
     "start_time": "2023-02-18T03:31:44.655774Z"
    }
   },
   "outputs": [
    {
     "name": "stderr",
     "output_type": "stream",
     "text": [
      "  2%|▏         | 127/6373 [00:48<38:44,  2.69it/s]  "
     ]
    },
    {
     "name": "stdout",
     "output_type": "stream",
     "text": [
      "bg[start:start + fg.shape[0]].shape < fg.shape 이 경우 fg.shape: torch.Size([48000])\n"
     ]
    },
    {
     "name": "stderr",
     "output_type": "stream",
     "text": [
      " 14%|█▍        | 910/6373 [05:52<33:42,  2.70it/s]  "
     ]
    },
    {
     "name": "stdout",
     "output_type": "stream",
     "text": [
      "bg[start:start + fg.shape[0]].shape < fg.shape 이 경우 fg.shape: torch.Size([48000])\n"
     ]
    },
    {
     "name": "stderr",
     "output_type": "stream",
     "text": [
      " 18%|█▊        | 1140/6373 [07:22<34:41,  2.51it/s]  "
     ]
    },
    {
     "name": "stdout",
     "output_type": "stream",
     "text": [
      "bg[start:start + fg.shape[0]].shape < fg.shape 이 경우 fg.shape: torch.Size([48000])\n"
     ]
    },
    {
     "name": "stderr",
     "output_type": "stream",
     "text": [
      " 20%|█▉        | 1274/6373 [08:13<30:38,  2.77it/s]"
     ]
    },
    {
     "name": "stdout",
     "output_type": "stream",
     "text": [
      "bg[start:start + fg.shape[0]].shape < fg.shape 이 경우 fg.shape: torch.Size([48000])\n"
     ]
    },
    {
     "name": "stderr",
     "output_type": "stream",
     "text": [
      " 33%|███▎      | 2127/6373 [13:43<25:31,  2.77it/s]  "
     ]
    },
    {
     "name": "stdout",
     "output_type": "stream",
     "text": [
      "bg[start:start + fg.shape[0]].shape < fg.shape 이 경우 fg.shape: torch.Size([48000])\n"
     ]
    },
    {
     "name": "stderr",
     "output_type": "stream",
     "text": [
      " 37%|███▋      | 2367/6373 [15:16<24:50,  2.69it/s]/home/openWakeWord/openwakeword/data.py:481: RuntimeWarning: invalid value encountered in cast\n",
      "  mixed_clips_batch = (mixed_clips_batch.numpy()*32767).astype(np.int16)\n",
      " 39%|███▉      | 2510/6373 [16:10<24:45,  2.60it/s]"
     ]
    },
    {
     "name": "stdout",
     "output_type": "stream",
     "text": [
      "bg[start:start + fg.shape[0]].shape < fg.shape 이 경우 fg.shape: torch.Size([48000])\n"
     ]
    },
    {
     "name": "stderr",
     "output_type": "stream",
     "text": [
      " 94%|█████████▍| 5999/6373 [38:43<02:28,  2.53it/s]"
     ]
    },
    {
     "name": "stdout",
     "output_type": "stream",
     "text": [
      "bg[start:start + fg.shape[0]].shape < fg.shape 이 경우 fg.shape: torch.Size([48000])\n"
     ]
    },
    {
     "name": "stderr",
     "output_type": "stream",
     "text": [
      " 97%|█████████▋| 6196/6373 [39:59<01:01,  2.87it/s]"
     ]
    },
    {
     "name": "stdout",
     "output_type": "stream",
     "text": [
      "bg[start:start + fg.shape[0]].shape < fg.shape 이 경우 fg.shape: torch.Size([48000])\n"
     ]
    },
    {
     "name": "stderr",
     "output_type": "stream",
     "text": [
      " 99%|█████████▊| 6292/6373 [40:37<00:30,  2.62it/s]"
     ]
    },
    {
     "name": "stdout",
     "output_type": "stream",
     "text": [
      "bg[start:start + fg.shape[0]].shape < fg.shape 이 경우 fg.shape: torch.Size([48000])\n"
     ]
    },
    {
     "name": "stderr",
     "output_type": "stream",
     "text": [
      "6374it [41:08,  2.58it/s]                          \n",
      "Trimming empty rows: 50it [00:01, 41.15it/s]                        \n"
     ]
    }
   ],
   "source": [
    "# Iterate through the mixing generator, computing audio features for positive examples and saving them\n",
    "\n",
    "\"\"\"\n",
    "bg가 0.5 ~ 2초 음성으로 짧으면, fg보다 작기 때문에 fg를 mix하지 못한다. 그래서 bg는 3초 보다 큰 애들을 대상으로 해야함. 아 근데, piper에서 추출한 데이터는 0.5 ~ 1.0 정도인데, 어떻게 해야하지?\n",
    "\n",
    "짧으면 믹싱하지 말고 그냥 fg를 bg shape으로 패딩해서 return\n",
    "\n",
    "근데 진짜 골때리는게 fg가 48000 사이즈가 넘는건 말이 안되는데\n",
    "\n",
    "\"\"\"\n",
    "\n",
    "N_total = len(positive_clips) # maximum number of rows in mmap file\n",
    "n_feature_cols = F.get_embedding_shape(total_length_seconds)\n",
    "# output_file = \"turn_on_the_office_lights_features.npy\"\n",
    "output_file = \"hey_thomas.npy\"\n",
    "output_array_shape = (N_total, n_feature_cols[0], n_feature_cols[1])\n",
    "# print(f\"N_total: {N_total}, n_feature_cols[0]: {n_feature_cols[0]}, n_feature_cols[1]: {n_feature_cols[1]}\")\n",
    "\n",
    "# fp is numpy.memmap\n",
    "fp = open_memmap(output_file, mode='w+', dtype=np.float32, shape=output_array_shape)\n",
    "# print(f\"fp: {fp}, fp.shape: {fp.shape}\")\n",
    "\n",
    "\n",
    "row_counter = 0\n",
    "for batch in tqdm(mixing_generator, total=N_total//batch_size):\n",
    "    batch, lbls, background = batch[0], batch[1], batch[2]\n",
    "    \n",
    "    # Compute audio features\n",
    "    features = F.embed_clips(batch, batch_size=256)\n",
    "\n",
    "    # Save computed features\n",
    "    fp[row_counter:row_counter+features.shape[0], :, :] = features\n",
    "    row_counter += features.shape[0]\n",
    "    fp.flush()\n",
    "    \n",
    "    if row_counter >= N_total:\n",
    "        break\n",
    "\n",
    "# Trip empty rows from the mmapped array\n",
    "\"\"\"\n",
    "이 코드는 **메모리 매핑된 numpy 배열(Memory-Mapped Array)**에서 빈 행을 제거하고 새 파일로 저장하는 기능을 수행합니다.\n",
    "\"\"\"\n",
    "openwakeword.data.trim_mmap(output_file)\n"
   ]
  },
  {
   "cell_type": "markdown",
   "id": "77a31736",
   "metadata": {},
   "source": [
    "Alright! At this point the positive and negative features have been pre-computed and saved to disk, and now a model can be trained that takes these features and predicts whether the wakeword/phrase is present."
   ]
  },
  {
   "cell_type": "markdown",
   "id": "cab316e2",
   "metadata": {},
   "source": [
    "# Training the Model"
   ]
  },
  {
   "cell_type": "markdown",
   "id": "a514773d",
   "metadata": {},
   "source": [
    "At this point, you are free to use any type of model that you like, but in practice we've observed that a simple full-connected neural network can often perform quite well. For this example notebook, we'll create and train this network in Pytorch, but any framework that can export a model to the [ONNX](https://onnx.ai/) format will also work."
   ]
  },
  {
   "cell_type": "markdown",
   "id": "f0dab37e",
   "metadata": {},
   "source": [
    "## Loading Data"
   ]
  },
  {
   "cell_type": "code",
   "execution_count": 18,
   "id": "c7ed4de5",
   "metadata": {
    "ExecuteTime": {
     "end_time": "2023-02-18T03:33:52.884948Z",
     "start_time": "2023-02-18T03:33:51.191681Z"
    }
   },
   "outputs": [],
   "source": [
    "# Load the data prepared in previous steps (it's small enough to load entirely in memory)\n",
    "\n",
    "negative_features = np.load(\"negative_features.npy\")\n",
    "positive_features = np.load(\"hey_thomas.npy\")\n",
    "\n",
    "X = np.vstack((negative_features, positive_features))\n",
    "y = np.array([0]*len(negative_features) + [1]*len(positive_features)).astype(np.float32)[...,None]\n",
    "\n",
    "# Make Pytorch dataloader\n",
    "batch_size = 256\n",
    "# batch_size = 8\n",
    "training_data = torch.utils.data.DataLoader(\n",
    "    torch.utils.data.TensorDataset(torch.from_numpy(X), torch.from_numpy(y)),\n",
    "    batch_size = batch_size,\n",
    "    shuffle = True\n",
    ")\n"
   ]
  },
  {
   "cell_type": "markdown",
   "id": "1d1ba9e4",
   "metadata": {},
   "source": [
    "## Define Model"
   ]
  },
  {
   "cell_type": "code",
   "execution_count": 19,
   "id": "d7c71798",
   "metadata": {
    "ExecuteTime": {
     "end_time": "2023-02-18T03:33:54.913238Z",
     "start_time": "2023-02-18T03:33:54.896447Z"
    }
   },
   "outputs": [],
   "source": [
    "# Define fully-connected network in PyTorch\n",
    "\n",
    "# layer_dim = 32\n",
    "layer_dim = 64\n",
    "fcn = nn.Sequential(\n",
    "                    nn.Flatten(),\n",
    "                    nn.Linear(X.shape[1]*X.shape[2], layer_dim), # since the input is flattened, it's timesteps*feature columns\n",
    "                    nn.LayerNorm(layer_dim),\n",
    "                    nn.ReLU(),\n",
    "                    nn.Linear(layer_dim, layer_dim),\n",
    "                    nn.LayerNorm(layer_dim),\n",
    "                    nn.ReLU(),\n",
    "                    nn.Linear(layer_dim, 1),\n",
    "                    nn.Sigmoid(),\n",
    "                )\n",
    "\n",
    "loss_function = torch.nn.functional.binary_cross_entropy\n",
    "# optimizer = torch.optim.Adam(fcn.parameters(), lr=0.0005)\n",
    "optimizer = torch.optim.Adam(fcn.parameters(), lr=0.001)\n"
   ]
  },
  {
   "cell_type": "markdown",
   "id": "6bb834c1",
   "metadata": {},
   "source": [
    "## Train Model"
   ]
  },
  {
   "cell_type": "code",
   "execution_count": 20,
   "id": "5bc28f8b",
   "metadata": {
    "ExecuteTime": {
     "end_time": "2023-02-18T03:33:59.286835Z",
     "start_time": "2023-02-18T03:33:57.795926Z"
    }
   },
   "outputs": [
    {
     "name": "stderr",
     "output_type": "stream",
     "text": [
      "100%|██████████| 50/50 [01:14<00:00,  1.48s/it]\n"
     ]
    }
   ],
   "source": [
    "# Define training loop, metrics, and logging\n",
    "\n",
    "n_epochs = 50\n",
    "# n_epochs = 10\n",
    "history = collections.defaultdict(list)\n",
    "for i in tqdm(range(n_epochs), total=n_epochs):\n",
    "    for batch in training_data:\n",
    "        # Get data for batch\n",
    "        x, y = batch[0], batch[1]\n",
    "        \n",
    "        # Get weights for classes, and assign 10x higher weight to negative class\n",
    "        # to help the model learn to not have too many false-positives\n",
    "        # As you have more data (both positive and negative), this is less important\n",
    "        weights = torch.ones(y.shape[0])\n",
    "        weights[y.flatten() == 1] = 0.1\n",
    "        \n",
    "        # Zero gradients\n",
    "        optimizer.zero_grad()\n",
    "        \n",
    "        # Run forward pass\n",
    "        predictions = fcn(x)\n",
    "        \n",
    "        # Update model parameters\n",
    "        loss = loss_function(predictions, y, weights[..., None])\n",
    "        loss.backward()\n",
    "        optimizer.step()\n",
    "        \n",
    "        # Log metrics\n",
    "        history['loss'].append(float(loss.detach().numpy()))\n",
    "        \n",
    "        tp = torch.sum(predictions.flatten()[y.flatten() == 1] >= 0.5)\n",
    "        fn = torch.sum(predictions.flatten()[y.flatten() == 1] < 0.5)\n",
    "        history['recall'].append(float(tp/(tp+fn).detach().numpy()))\n",
    "        \n",
    "        \"\"\"아래 오류로 인해 두 코드 sum()에서 torch.sum()함수로 수정\n",
    "        tp = torch.sum(predictions.flatten()[y.flatten() == 1] >= 0.5)\n",
    "        fn = torch.sum(predictions.flatten()[y.flatten() == 1] < 0.5)\n",
    "        \n",
    "        ---------------------------------------------------------------------------\n",
    "        AttributeError                            Traceback (most recent call last)\n",
    "        Cell In[22], line 33\n",
    "            31 tp = sum(predictions.flatten()[y.flatten() == 1] >= 0.5)\n",
    "            32 fn = sum(predictions.flatten()[y.flatten() == 1] < 0.5)\n",
    "        ---> 33 history['recall'].append(float(tp/(tp+fn).detach().numpy()))\n",
    "\n",
    "        AttributeError: 'int' object has no attribute 'detach'\n",
    "\n",
    "        \"\"\"\n"
   ]
  },
  {
   "cell_type": "code",
   "execution_count": 21,
   "id": "4231dd84",
   "metadata": {
    "ExecuteTime": {
     "end_time": "2023-02-18T03:34:01.172348Z",
     "start_time": "2023-02-18T03:34:01.043030Z"
    }
   },
   "outputs": [
    {
     "data": {
      "text/plain": [
       "(0.0, 1.0)"
      ]
     },
     "execution_count": 21,
     "metadata": {},
     "output_type": "execute_result"
    },
    {
     "data": {
      "image/png": "[encoded data removed]",
      "text/plain": [
       "<Figure size 640x480 with 1 Axes>"
      ]
     },
     "metadata": {},
     "output_type": "display_data"
    }
   ],
   "source": [
    "# Plot training metrics\n",
    "\n",
    "plt.figure()\n",
    "plt.plot(history['loss'], label=\"loss\")\n",
    "plt.plot(history['recall'], label=\"recall\")\n",
    "plt.legend()\n",
    "plt.ylim(0,1)\n"
   ]
  },
  {
   "cell_type": "markdown",
   "id": "03a3ae78",
   "metadata": {},
   "source": [
    "## Try the Model on an Example Clip"
   ]
  },
  {
   "cell_type": "markdown",
   "id": "65c43bb6",
   "metadata": {},
   "source": [
    "To confirm that the model is working as expected, let's test it on an example audio file (obtained from Youtube) of someone talking and then saying the phrase \"turn on the office lights\" at the end of the clip. We'll simulate how the model would be used in production, by predicting every 80 ms (1280 samples) and plotting the predictions over time.\n",
    "\n",
    "This clip is a good sanity test to confirm the model is performing in the right way, as it contains about ~30 seconds of speech that does no contain the target phrase, but does contain related words (e.g., \"lights\") that should not result in an activation. So ideally, the model scores are low up to the end of the recording, where there should then be a spike right after the target spoken phrase."
   ]
  },
  {
   "cell_type": "code",
   "execution_count": 22,
   "id": "d6ad350e",
   "metadata": {
    "ExecuteTime": {
     "end_time": "2023-02-18T03:38:17.596854Z",
     "start_time": "2023-02-18T03:38:16.926888Z"
    }
   },
   "outputs": [
    {
     "name": "stderr",
     "output_type": "stream",
     "text": [
      "  0%|          | 0/129 [00:00<?, ?it/s]/tmp/ipykernel_1298172/3781302127.py:13: DeprecationWarning: Conversion of an array with ndim > 0 to a scalar is deprecated, and will error in future. Ensure you extract a single element from your array before performing this operation. (Deprecated NumPy 1.25.)\n",
      "  scores.append(float(fcn(torch.from_numpy(window)).detach().numpy()))\n",
      "100%|██████████| 129/129 [00:00<00:00, 10157.99it/s]\n"
     ]
    },
    {
     "data": {
      "image/png": "[encoded data removed]",
      "text/plain": [
       "<Figure size 640x480 with 1 Axes>"
      ]
     },
     "metadata": {},
     "output_type": "display_data"
    }
   ],
   "source": [
    "# Load data\n",
    "# sr, dat = scipy.io.wavfile.read(\"/home/data/openwakeword/openwakeword_test_sample/KsponSpeech_000002.wav\")\n",
    "sr, dat = scipy.io.wavfile.read(\"/home/openWakeWord/sample_data/sr16000_hey_thomas.wav\")\n",
    "\n",
    "# Pre-compute audio features using helper function\n",
    "features = F._get_embeddings(dat)\n",
    "\n",
    "# Get predictions for each window\n",
    "scores = []\n",
    "for i in tqdm(range(0, features.shape[0]-28)): # 28 is the number of timestep frames for this model\n",
    "    window = features[i:i+28][None,]\n",
    "    with torch.no_grad():\n",
    "        scores.append(float(fcn(torch.from_numpy(window)).detach().numpy()))\n",
    "    \n",
    "plt.figure()\n",
    "_ = plt.plot(scores)\n",
    "_ = plt.ylim(0,1)\n"
   ]
  },
  {
   "cell_type": "code",
   "execution_count": 23,
   "id": "9f0ceb86",
   "metadata": {},
   "outputs": [
    {
     "name": "stderr",
     "output_type": "stream",
     "text": [
      "/tmp/ipykernel_1298172/3290251235.py:2: WavFileWarning: Chunk (non-data) not understood, skipping it.\n",
      "  sr, dat = scipy.io.wavfile.read(\"/home/data/openwakeword/일반남여_일반통합12_M_honortome_29_기타_실내/일반남여_일반통합12_M_honortome_29_기타_실내_16646.wav\")\n",
      "  0%|          | 0/30 [00:00<?, ?it/s]/tmp/ipykernel_1298172/3290251235.py:12: DeprecationWarning: Conversion of an array with ndim > 0 to a scalar is deprecated, and will error in future. Ensure you extract a single element from your array before performing this operation. (Deprecated NumPy 1.25.)\n",
      "  scores.append(float(fcn(torch.from_numpy(window)).detach().numpy()))\n",
      "100%|██████████| 30/30 [00:00<00:00, 7882.05it/s]\n"
     ]
    },
    {
     "data": {
      "image/png": "[encoded data removed]",
      "text/plain": [
       "<Figure size 640x480 with 1 Axes>"
      ]
     },
     "metadata": {},
     "output_type": "display_data"
    }
   ],
   "source": [
    "# Load data\n",
    "sr, dat = scipy.io.wavfile.read(\"/home/data/openwakeword/일반남여_일반통합12_M_honortome_29_기타_실내/일반남여_일반통합12_M_honortome_29_기타_실내_16646.wav\")\n",
    "\n",
    "# Pre-compute audio features using helper function\n",
    "features = F._get_embeddings(dat)\n",
    "\n",
    "# Get predictions for each window\n",
    "scores = []\n",
    "for i in tqdm(range(0, features.shape[0]-28)): # 28 is the number of timestep frames for this model\n",
    "    window = features[i:i+28][None,]\n",
    "    with torch.no_grad():\n",
    "        scores.append(float(fcn(torch.from_numpy(window)).detach().numpy()))\n",
    "    \n",
    "plt.figure()\n",
    "_ = plt.plot(scores)\n",
    "_ = plt.ylim(0,1)"
   ]
  },
  {
   "cell_type": "markdown",
   "id": "6531eefd",
   "metadata": {},
   "source": [
    "Overall, the model is working well on this test clip. There are a few spikes around the word \"lights\" spoken in other contexts, but the clear activation is around the entire phrase.\n",
    "\n",
    "To make this test a little more difficult, let's arbitrarily mix the test clip with some background music from the fma-large dataset at a low signal-to-noise ratio to simulate a more realistic (and challenging) scenario. Listen to the clip below to get a more intuitive feel of what the type of audio environment this represents."
   ]
  },
  {
   "cell_type": "code",
   "execution_count": null,
   "id": "2f72631b",
   "metadata": {
    "ExecuteTime": {
     "end_time": "2023-02-18T03:40:11.733430Z",
     "start_time": "2023-02-18T03:40:11.721719Z"
    }
   },
   "outputs": [],
   "source": [
    "# Load two clips and mix them\n",
    "_, dat = scipy.io.wavfile.read(\"/home/openWakeWord/sample_data/my_audio_hey_thomas.wav\")\n",
    "_, dat_music = scipy.io.wavfile.read(\"/home/data/openwakeword/일반남여_일반통합12_M_honortome_29_기타_실내/일반남여_일반통합12_M_honortome_29_기타_실내_16646.wav\")\n",
    "# _, dat = scipy.io.wavfile.read(\"turn_on_the_office_lights_test_clip.wav\")\n",
    "# _, dat_music = scipy.io.wavfile.read(\"fma_sample/000182.wav\")\n",
    "\n",
    "dat[-20*16000:] = (dat[-20*16000:] + dat_music[0:20*16000]*.7)/2 #quick manual mixing\n",
    "\n",
    "ipd.display(ipd.Audio(dat[-16000*6:], rate=16000, normalize=True, autoplay=False))"
   ]
  },
  {
   "cell_type": "code",
   "execution_count": 48,
   "id": "344383c7",
   "metadata": {
    "ExecuteTime": {
     "end_time": "2023-02-18T03:40:23.392725Z",
     "start_time": "2023-02-18T03:40:22.770119Z"
    }
   },
   "outputs": [
    {
     "name": "stderr",
     "output_type": "stream",
     "text": [
      "  0%|          | 0/30 [00:00<?, ?it/s]/tmp/ipykernel_214266/4060674433.py:9: DeprecationWarning: Conversion of an array with ndim > 0 to a scalar is deprecated, and will error in future. Ensure you extract a single element from your array before performing this operation. (Deprecated NumPy 1.25.)\n",
      "  scores.append(float(fcn(torch.from_numpy(window)).detach().numpy()))\n",
      "100%|██████████| 30/30 [00:00<00:00, 7268.32it/s]\n"
     ]
    },
    {
     "data": {
      "image/png": "[encoded data removed]",
      "text/plain": [
       "<Figure size 640x480 with 1 Axes>"
      ]
     },
     "metadata": {},
     "output_type": "display_data"
    }
   ],
   "source": [
    "# Pre-compute audio features using helper function\n",
    "features = F._get_embeddings(dat)\n",
    "\n",
    "# Get predictions for each window\n",
    "scores = []\n",
    "for i in tqdm(range(0, features.shape[0]-28)): # 28 is the number of timestep frames for this model\n",
    "    window = features[i:i+28][None,]\n",
    "    with torch.no_grad():\n",
    "        scores.append(float(fcn(torch.from_numpy(window)).detach().numpy()))\n",
    "     \n",
    "plt.figure()\n",
    "_ = plt.plot(scores)\n",
    "_ = plt.ylim(0,1)"
   ]
  },
  {
   "cell_type": "markdown",
   "id": "078a1bc2",
   "metadata": {},
   "source": [
    "The model is now less confidant in it's prediction than before, but the score is still above a default score of 0.5 which confirms that the model at least represents a good starting point."
   ]
  },
  {
   "cell_type": "markdown",
   "id": "0367ee93",
   "metadata": {},
   "source": [
    "# Export the Model"
   ]
  },
  {
   "cell_type": "markdown",
   "id": "f4eb66ce",
   "metadata": {
    "ExecuteTime": {
     "end_time": "2023-02-12T20:00:58.877229Z",
     "start_time": "2023-02-12T20:00:58.868037Z"
    }
   },
   "source": [
    "Now that the model is trained and passes basic performance validation tests, it can be exported to ONNX so that it can be used by the openWakeWord inference engine. With Torch, this process is quite simple."
   ]
  },
  {
   "cell_type": "code",
   "execution_count": 24,
   "id": "75acc3bb",
   "metadata": {
    "ExecuteTime": {
     "end_time": "2023-02-18T03:40:40.474020Z",
     "start_time": "2023-02-18T03:40:40.401258Z"
    }
   },
   "outputs": [],
   "source": [
    "# Export model to ONNX format\n",
    "\n",
    "output_path = \"/home/openWakeWord/models/hey_thomas3.onnx\"\n",
    "torch.onnx.export(fcn, args=torch.zeros((1, 28, 96)), f=output_path) # the 'args' is the shape of a single example"
   ]
  },
  {
   "cell_type": "markdown",
   "id": "03bd9f1e",
   "metadata": {},
   "source": [
    "# Evaluate the Model"
   ]
  },
  {
   "cell_type": "markdown",
   "id": "8c671f55",
   "metadata": {},
   "source": [
    "Let's now load in the ONNX model with openWakeWord, and use that to run some more rigorous testing. First, let's just confirm that the ONNX model works as expected."
   ]
  },
  {
   "cell_type": "code",
   "execution_count": 6,
   "id": "295fd55c",
   "metadata": {
    "ExecuteTime": {
     "end_time": "2023-02-18T03:41:08.824352Z",
     "start_time": "2023-02-18T03:41:08.615724Z"
    }
   },
   "outputs": [],
   "source": [
    "# Create openWakeWord instance\n",
    "\n",
    "oww = openwakeword.Model(\n",
    "    wakeword_models=[\"/home/openWakeWord/models/hey_thomas3.onnx\"],\n",
    "    enable_speex_noise_suppression=True,\n",
    "    vad_threshold=0.5,\n",
    "    inference_framework=\"onnx\"\n",
    ")\n"
   ]
  },
  {
   "cell_type": "code",
   "execution_count": 8,
   "id": "6f009d79",
   "metadata": {
    "ExecuteTime": {
     "end_time": "2023-02-18T03:41:13.924834Z",
     "start_time": "2023-02-18T03:41:12.995975Z"
    }
   },
   "outputs": [
    {
     "data": {
      "image/png": "[encoded data removed]",
      "text/plain": [
       "<Figure size 640x480 with 1 Axes>"
      ]
     },
     "metadata": {},
     "output_type": "display_data"
    }
   ],
   "source": [
    "# Do a quick test prediction on the test clip to confirm that the behavior is still as expected\n",
    "\n",
    "scores = oww.predict_clip(\"/home/openWakeWord/sample_data/48_fixed_male_test1.wav\")\n",
    "\n",
    "plt.figure() \n",
    "_ = plt.plot([i[\"hey_thomas3\"] for i in scores])"
   ]
  },
  {
   "cell_type": "markdown",
   "id": "d26f14af",
   "metadata": {},
   "source": [
    "Since that looks fine, we can now conduct a more rigorous test to evaluate the false-accept rate in something closer to a production scenario. Specifically, we want the openWakeWord models to respond consistently when a user speaks the target wake word/phrase, but also does not activate even in the presence of many hours of continuous background noise and un-related speech.\n",
    "\n",
    "To test that, we'll use a few clips (for a total of ~ 1 hour) from the [Santa Barbara Corpus of Spoken American English](https://www.linguistics.ucsb.edu/research/santa-barbara-corpus) to produce a more realistic metric for the false-activation rate per hour.\n",
    "\n",
    "The combined clip (already converted to a single-channel, 16khz, 16-bit WAV file) can be downloaded [here](https://f002.backblazeb2.com/file/openwakeword-resources/data/santa_barbara_corpus_test_clip.wav).\n"
   ]
  },
  {
   "cell_type": "code",
   "execution_count": 37,
   "id": "756d7100",
   "metadata": {
    "ExecuteTime": {
     "end_time": "2023-02-18T03:43:13.392821Z",
     "start_time": "2023-02-18T03:41:57.091857Z"
    }
   },
   "outputs": [
    {
     "data": {
      "image/png": "[encoded data removed]",
      "text/plain": [
       "<Figure size 640x480 with 1 Axes>"
      ]
     },
     "metadata": {},
     "output_type": "display_data"
    }
   ],
   "source": [
    "# Estimate the false-accept rate on realistic test data (will take up to several minutes an a desktop-grade CPU)\n",
    "\n",
    "scores = oww.predict_clip(\"/home/data/openwakeword/일반남여_일반통합12_M_honortome_29_기타_실내/일반남여_일반통합12_M_honortome_29_기타_실내_16646.wav\")\n",
    "\n",
    "# i[\"onnx model file name\"]으로 설정해야함. oww = openwakeword.Model 이 코드에서 객체 생성할때 내부 클래스에서 저장되는 것 같다.\n",
    "plt.figure()\n",
    "_ = plt.plot([i[\"hey_thomas2\"] for i in scores])\n",
    "_ = plt.ylim(0,1)"
   ]
  },
  {
   "cell_type": "code",
   "execution_count": null,
   "id": "b9e2f282",
   "metadata": {
    "ExecuteTime": {
     "end_time": "2023-02-18T03:43:20.326550Z",
     "start_time": "2023-02-18T03:43:20.309552Z"
    }
   },
   "outputs": [],
   "source": [
    "# Calculate the false-accept rate per hour from this result\n",
    "\n",
    "false_accepts = openwakeword.metrics.get_false_positives(\n",
    "    [i[\"hey_thomas\"] for i in scores], threshold=0.5\n",
    ")\n",
    "\n",
    "print(f\"False-accept rate per hour: {false_accepts/1}\")"
   ]
  },
  {
   "cell_type": "markdown",
   "id": "04d294cf",
   "metadata": {},
   "source": [
    "It looks like the false-accept rate for this model is very high, and would need to be reduced quite significantly to be viable for a production deployment. Of course, this was expected as the model was trained on a very small amount of positive and negative data."
   ]
  },
  {
   "cell_type": "markdown",
   "id": "c758890a",
   "metadata": {},
   "source": [
    "# Create a User-specific Verifier Model"
   ]
  },
  {
   "cell_type": "markdown",
   "id": "362c6812",
   "metadata": {},
   "source": [
    "As we saw, the simple model trained on this dataset performs quite well at detecting the presence of the wakeword/phrase, but often activates when it shouldn't, leading to an unnacceptably high false-accept rate.\n",
    "\n",
    "In practice, there are two ways to improve the performance of the model:\n",
    "\n",
    "1) Train on much larger amounts of positive and negative examples. The models released with openWakeWord are often trained on >100,000 positive examples, and over 30,000 hours of negative data.\n",
    "\n",
    "2) Create a user-specific \"verifier\" model based on examples of a specific person speaking the both the wake word/phrase and unrelated speech. The openWakeWord inference engine uses this verifier model to filter out likely false activations by focusing on only known speakers.\n",
    "\n",
    "We'll demonstrate the 2nd option here, as it's a very quick way to significantly improve performance at the cost of making the model far less likely to work well with other voices. The approach behind this verifier model are relatively simple, and are discussed in more detail in the openWakeWord documentation [here](https://github.com/dscripka/openWakeWord/docs/custom_verifier_models.md).\n",
    "\n",
    "For test data, we'll use 20 examples of the wake phrase generated with the [Tortoise](https://github.com/neonbjb/tortoise-tts) TTS model. While this is also synthetic data, it's very high quality and trained on different data than the TTS models used to generate training data. For unrelated speech, an English [phonetic pangram](https://www.liquisearch.com/list_of_pangrams/english_phonetic_pangrams) sentence was generated with the same TTS voice.\n",
    "\n",
    "This example wake phrase clips and reference negative speech (phonetic pangram) are included in the openWakeWord repo (in the `notebooks/training_tutorial_data` directory)."
   ]
  },
  {
   "cell_type": "code",
   "execution_count": null,
   "id": "f6b88046",
   "metadata": {
    "ExecuteTime": {
     "end_time": "2023-02-18T03:45:18.538259Z",
     "start_time": "2023-02-18T03:45:18.525190Z"
    }
   },
   "outputs": [],
   "source": [
    "# Provide paths to positive and negative speech from the target speaker for training a custom\n",
    "# verifier model\n",
    "\n",
    "reference_clips = [str(i) for i in Path(\"training_tutorial_data/positive/\").glob(\"*.wav\")]\n",
    "negative_clips = [str(i) for i in Path(\"training_tutorial_data/negative/\").glob(\"*.wav\")]\n",
    "\n",
    "# Listen to one of the clips\n",
    "ipd.display(ipd.Audio(reference_clips[0], rate=16000, normalize=True, autoplay=False))"
   ]
  },
  {
   "cell_type": "markdown",
   "id": "937e0df5",
   "metadata": {},
   "source": [
    "Now that we have the data (note that all of the clips *must* be 16 khz, 16-bit PCM WAV files), we can train a custom verifier model. This is simply a scikit-learn logistic regression model, using the same audio features from the normal openWakeWord pre-processor, so it is very fast to train and adds negligble time to the openWakeWord inference engine."
   ]
  },
  {
   "cell_type": "code",
   "execution_count": null,
   "id": "7f965293",
   "metadata": {
    "ExecuteTime": {
     "end_time": "2023-02-18T03:45:57.606472Z",
     "start_time": "2023-02-18T03:45:56.587146Z"
    }
   },
   "outputs": [],
   "source": [
    "# Train verifier model on the reference clips\n",
    "\n",
    "output_model_path = \"turn_on_the_office_lights_verifier.pkl\"\n",
    "openwakeword.train_custom_verifier(\n",
    "    positive_reference_clips = reference_clips[0:3], # use 3 reference examples for the wake phrase\n",
    "    negative_reference_clips = negative_clips,\n",
    "    output_path = output_model_path,\n",
    "    model_name = \"turn_on_the_office_lights.onnx\"\n",
    ")\n"
   ]
  },
  {
   "cell_type": "markdown",
   "id": "4ad4d2ec",
   "metadata": {},
   "source": [
    "After the model is trained, we can instantiate a new openWakeWord instance and include the path to the trained verifier model, as well as set the threshold score from the base model required to invoke the verifier. In practice, you can set this threshold score a bit lower than normal, though as usual actual testing in the deployment environment is recommended."
   ]
  },
  {
   "cell_type": "code",
   "execution_count": null,
   "id": "50b99677",
   "metadata": {
    "ExecuteTime": {
     "end_time": "2023-02-18T03:46:01.357976Z",
     "start_time": "2023-02-18T03:46:01.146646Z"
    }
   },
   "outputs": [],
   "source": [
    "# Create openWakeWord instance with verifier model\n",
    "\n",
    "oww = openwakeword.Model(\n",
    "    wakeword_model_paths=[\"turn_on_the_office_lights.onnx\"],\n",
    "    enable_speex_noise_suppression=True,\n",
    "    vad_threshold=0.5,\n",
    "    custom_verifier_models={\"turn_on_the_office_lights\": \"turn_on_the_office_lights_verifier.pkl\"},\n",
    "    custom_verifier_threshold=0.3,\n",
    ")\n"
   ]
  },
  {
   "cell_type": "markdown",
   "id": "6666dadb",
   "metadata": {},
   "source": [
    "Finally, we can run the model on our test clip from the Santa Barbara corpus and see if the false activation rate has decreased to an acceptable level."
   ]
  },
  {
   "cell_type": "code",
   "execution_count": null,
   "id": "19fd5f51",
   "metadata": {
    "ExecuteTime": {
     "end_time": "2023-02-18T03:47:25.076640Z",
     "start_time": "2023-02-18T03:46:07.021368Z"
    }
   },
   "outputs": [],
   "source": [
    "# Run false-accept rate test again, now with the verifier model\n",
    "\n",
    "scores = oww.predict_clip(\"santa_barbara_corpus_test_clip.wav\")\n",
    "\n",
    "plt.figure()\n",
    "plt.plot([i[\"turn_on_the_office_lights\"] for i in scores])\n",
    "_ = plt.ylim(0,1)\n"
   ]
  },
  {
   "cell_type": "code",
   "execution_count": 30,
   "id": "c59007d2",
   "metadata": {
    "ExecuteTime": {
     "end_time": "2023-02-18T03:47:29.856142Z",
     "start_time": "2023-02-18T03:47:29.836354Z"
    }
   },
   "outputs": [
    {
     "name": "stdout",
     "output_type": "stream",
     "text": [
      "False-accept rate per hour: 0.0\n"
     ]
    }
   ],
   "source": [
    "# Calculate the false-accept rate per hour from this new result\n",
    "\n",
    "false_accepts = openwakeword.metrics.get_false_positives(\n",
    "    [i[\"turn_on_the_office_lights\"] for i in scores], threshold=0.5\n",
    ")\n",
    "\n",
    "print(f\"False-accept rate per hour: {false_accepts/1}\")"
   ]
  },
  {
   "cell_type": "markdown",
   "id": "7c7375c6",
   "metadata": {},
   "source": [
    "Sucess! Now the false-activation rate is at most <1 per hour given that there weren't any false-positives in our ~1 hour test clip, which is an orders of magnitude decrease! This model is now much closer to being ready for a production deployment, assuming that each user is known and can provide the neccessary data to train the verifier model."
   ]
  }
 ],
 "metadata": {
  "kernelspec": {
   "display_name": "Python 3",
   "language": "python",
   "name": "python3"
  },
  "language_info": {
   "codemirror_mode": {
    "name": "ipython",
    "version": 3
   },
   "file_extension": ".py",
   "mimetype": "text/x-python",
   "name": "python",
   "nbconvert_exporter": "python",
   "pygments_lexer": "ipython3",
   "version": "3.10.12"
  },
  "toc": {
   "base_numbering": 1,
   "nav_menu": {},
   "number_sections": true,
   "sideBar": true,
   "skip_h1_title": false,
   "title_cell": "Table of Contents",
   "title_sidebar": "Contents",
   "toc_cell": false,
   "toc_position": {
    "height": "calc(100% - 180px)",
    "left": "10px",
    "top": "150px",
    "width": "384px"
   },
   "toc_section_display": true,
   "toc_window_display": true
  }
 },
 "nbformat": 4,
 "nbformat_minor": 5
}
