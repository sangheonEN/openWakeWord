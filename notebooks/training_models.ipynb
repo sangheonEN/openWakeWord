{
 "cells": [
  {
   "cell_type": "markdown",
   "id": "825fe381",
   "metadata": {},
   "source": [
    "# Introduction\n",
    "\n",
    "This notebook demonstrates the process of training a new openWakeWord model, using synthetic speech generated with open-source TTS models, and negative data representing music, noise, and speech. While the process here is complete, only small samples of datasets are utilized so that a new model can be trained on CPUs. In practice, much larger volumes of data (both positive and negitive examples) is needed to produce robust models. See the [documentation](https://github.com/dscripka/openWakeWord/tree/main/docs/models) for the pre-trained openWakeWord models for more information about how these models were trained."
   ]
  },
  {
   "cell_type": "markdown",
   "id": "bd8e4597",
   "metadata": {},
   "source": [
    "To start, we'll need to install the requirements needed to train new openWakeWord models."
   ]
  },
  {
   "cell_type": "code",
   "execution_count": 1,
   "id": "1ba07a8f",
   "metadata": {},
   "outputs": [],
   "source": [
    "# Install requirements (it's recommended that you do this in a new virtual environment)\n",
    "\n",
    "# !pip install openwakeword\n",
    "# !pip install speechbrain\n",
    "# !pip install datasets\n",
    "# !pip install scipy matplotlib"
   ]
  },
  {
   "cell_type": "code",
   "execution_count": 1,
   "id": "6de2fb90",
   "metadata": {},
   "outputs": [],
   "source": [
    "# 이미 캐싱된 module을 제거 한 뒤에 다시 import해보자.\n",
    "import sys\n",
    "\n",
    "# 기존 openwakeword 모듈 제거\n",
    "modules_to_remove = [key for key in sys.modules if key.startswith(\"openwakeword\")]\n",
    "for module in modules_to_remove:\n",
    "    del sys.modules[module]\n"
   ]
  },
  {
   "cell_type": "code",
   "execution_count": 2,
   "id": "cb491043",
   "metadata": {},
   "outputs": [
    {
     "name": "stdout",
     "output_type": "stream",
     "text": [
      "Cleaned sys.path: ['/home/openWakeWord', '/usr/lib/python310.zip', '/usr/lib/python3.10', '/usr/lib/python3.10/lib-dynload', '', '/root/.local/lib/python3.10/site-packages', '/usr/local/lib/python3.10/dist-packages', '/usr/lib/python3/dist-packages']\n"
     ]
    }
   ],
   "source": [
    "# /home/openWakeWord 중복 제거 및 하나만 남기기\n",
    "# sys.path 삭제: sys.path.remove(\"/home/openWakeWord\")\n",
    "\n",
    "import sys\n",
    "home_path = \"/home/openWakeWord\"\n",
    "sys.path.insert(0, home_path)\n",
    "unique_paths = []\n",
    "for path in sys.path:\n",
    "    if path not in unique_paths:\n",
    "        unique_paths.append(path)\n",
    "sys.path = unique_paths\n",
    "\n",
    "# 확인\n",
    "print(\"Cleaned sys.path:\", sys.path)"
   ]
  },
  {
   "cell_type": "code",
   "execution_count": 3,
   "id": "c914b0c9",
   "metadata": {
    "ExecuteTime": {
     "end_time": "2023-02-18T03:26:26.308309Z",
     "start_time": "2023-02-18T03:26:24.785801Z"
    }
   },
   "outputs": [
    {
     "name": "stderr",
     "output_type": "stream",
     "text": [
      "/usr/local/lib/python3.10/dist-packages/tqdm/auto.py:21: TqdmWarning: IProgress not found. Please update jupyter and ipywidgets. See https://ipywidgets.readthedocs.io/en/stable/user_install.html\n",
      "  from .autonotebook import tqdm as notebook_tqdm\n",
      "INFO:speechbrain.utils.quirks:Applied quirks (see `speechbrain.utils.quirks`): [allow_tf32, disable_jit_profiling]\n",
      "INFO:speechbrain.utils.quirks:Excluded quirks specified by the `SB_DISABLE_QUIRKS` environment (comma-separated list): []\n",
      "INFO:datasets:PyTorch version 2.6.0 available.\n",
      "/usr/local/lib/python3.10/dist-packages/IPython/extensions/autoreload.py:211: UserWarning: Module 'speechbrain.pretrained' was deprecated, redirecting to 'speechbrain.inference'. Please update your script. This is a change from SpeechBrain 1.0. See: https://github.com/speechbrain/speechbrain/releases/tag/v1.0.0\n",
      "  if not hasattr(module, \"__file__\") or module.__file__ is None:\n"
     ]
    }
   ],
   "source": [
    "# Imports 위에 openwakeword 모듈 초기화 하고 다시 import하는데, 한번 더 import 하는 코드 실행하면 다른 sys.path로 잡힘.\n",
    "\n",
    "%load_ext autoreload\n",
    "%autoreload 2\n",
    "\n",
    "import os\n",
    "import collections\n",
    "import numpy as np\n",
    "from numpy.lib.format import open_memmap\n",
    "from pathlib import Path\n",
    "from tqdm import tqdm\n",
    "\n",
    "import openwakeword\n",
    "import openwakeword.data\n",
    "import openwakeword.utils\n",
    "import openwakeword.metrics\n",
    "\n",
    "import scipy\n",
    "import datasets\n",
    "import matplotlib.pyplot as plt\n",
    "import torch\n",
    "from torch import nn\n",
    "import IPython.display as ipd"
   ]
  },
  {
   "cell_type": "markdown",
   "id": "b40a7f25",
   "metadata": {},
   "source": [
    "# Data Preparation"
   ]
  },
  {
   "cell_type": "markdown",
   "id": "aee94c6e",
   "metadata": {},
   "source": [
    "## Download Data"
   ]
  },
  {
   "cell_type": "markdown",
   "id": "00ea736a",
   "metadata": {},
   "source": [
    "Next we'll load the data used for training. For the purposes of this demonstration, we'll use a small set of positive and negative.\n",
    "\n",
    "For the positive data, there are ~3400 synthetic examples of the phrase \"turn on the office lights\" that were produced with the text-to-speech models documented in a [separate repo](https://github.com/dscripka/synthetic_speech_dataset_generation).\n",
    "\n",
    "These positive examples can be downloaded [here](https://f002.backblazeb2.com/file/openwakeword-resources/data/turn_on_the_office_lights.tar.gz).\n",
    "\n",
    "For negative data, we'll use small, already prepared samples of the [fma-large dataset](https://github.com/mdeff/fma) for music, the [FSD50k dataset](https://zenodo.org/record/4060432#.Y-hA2BzMJhE) for noise, and the [Common Voice 11](https://huggingface.co/datasets/mozilla-foundation/common_voice_11_0) dataset for speech.\n",
    "\n",
    "The fma-large sample can be downloaded [here](https://f002.backblazeb2.com/file/openwakeword-resources/data/fma_sample.zip), and then extracted into the working director.\n",
    "\n",
    "The FSD50k sample can be downloaded [here](https://f002.backblazeb2.com/file/openwakeword-resources/data/fsd50k_sample.zip), and then extracted into the working directory.\n",
    "\n",
    "And we'll use the HuggingFace Datasets library to get a portion of the test split of the Common Voice 11 (CV11) corpus.\n",
    "\n",
    "Note the data provided here is intended for non-commerical applications only; you will need to verify the license status of this (and other) data if you intend to use it for commerical purposes."
   ]
  },
  {
   "cell_type": "code",
   "execution_count": null,
   "id": "a31f760c",
   "metadata": {
    "ExecuteTime": {
     "end_time": "2023-02-12T16:08:32.045657Z",
     "start_time": "2023-02-12T16:07:24.104475Z"
    }
   },
   "outputs": [],
   "source": [
    "# 필요없음.\n",
    "# Download CV11 test split from HuggingFace, and convert the audio into 16 khz, 16-bit wav files\n",
    "\n",
    "cv_11 = datasets.load_dataset(\"mozilla-foundation/common_voice_11_0\", \"en\", split=\"test\", streaming=True)\n",
    "cv_11 = cv_11.cast_column(\"audio\", datasets.Audio(sampling_rate=16000, mono=True)) # convert to 16-khz\n",
    "cv_11 = iter(cv_11)\n",
    "\n",
    "# Convert and save clips (only first 5000)\n",
    "limit = 5000\n",
    "for i in tqdm(range(limit)):\n",
    "    example = next(cv_11)\n",
    "    output = os.path.join(\"cv11_test_clips\", example[\"path\"][0:-4] + \".wav\")\n",
    "    os.makedirs(os.path.dirname(output), exist_ok=True)\n",
    "\n",
    "    wav_data = (example[\"audio\"][\"array\"]*32767).astype(np.int16) # convert to 16-bit PCM format\n",
    "    scipy.io.wavfile.write(output, 16000, wav_data)\n"
   ]
  },
  {
   "cell_type": "markdown",
   "id": "0a12ab3d",
   "metadata": {
    "ExecuteTime": {
     "end_time": "2023-02-12T02:04:47.611837Z",
     "start_time": "2023-02-12T02:04:47.606080Z"
    }
   },
   "source": [
    "## Compute Audio Embeddings"
   ]
  },
  {
   "cell_type": "markdown",
   "id": "bfea6a2b",
   "metadata": {},
   "source": [
    "Once all the data is downloaded, we can now get the audio embeddings for the positive and negative clips. As this part of the openWakeWord model is frozen (i.e., not updated during training), it makes sense to pre-compute these features so that they only need to be prepared once."
   ]
  },
  {
   "cell_type": "code",
   "execution_count": 5,
   "id": "5518caf2",
   "metadata": {},
   "outputs": [],
   "source": [
    "\"\"\"\n",
    "NoSuchFile: [ONNXRuntimeError] : 3 : NO_SUCHFILE : Load model from /usr/local/lib/python3.10/dist-packages/openwakeword/resources/models/melspectrogram.onnx failed:Load model /usr/local/lib/python3.10/dist-packages/openwakeword/resources/models/melspectrogram.onnx failed. File doesn't exist\n",
    "위 같이 melspectrogram.onnx 모델 파일을 찾지 못함. 그래서 해당 코드를 적용하면, 자동으로 /usr/local/lib/python3.10/dist-packages/openwakeword/resources/models/ 경로에 필요한 모델 파일들이 다운로드 됨.\n",
    "\n",
    "root@f68474bc0b98:/usr/local/lib/python3.10/dist-packages/openwakeword/resources/models# ls\n",
    "alexa_v0.1.onnx    embedding_model.onnx    hey_jarvis_v0.1.onnx    hey_mycroft_v0.1.onnx    hey_rhasspy_v0.1.onnx    melspectrogram.onnx    silero_vad.onnx  timer_v0.1.tflite  weather_v0.1.tflite\n",
    "alexa_v0.1.tflite  embedding_model.tflite  hey_jarvis_v0.1.tflite  hey_mycroft_v0.1.tflite  hey_rhasspy_v0.1.tflite  melspectrogram.tflite  timer_v0.1.onnx  weather_v0.1.onnx\n",
    "\"\"\"\n",
    "from openwakeword.utils import download_models\n",
    "download_models()"
   ]
  },
  {
   "cell_type": "code",
   "execution_count": 4,
   "id": "473349ce",
   "metadata": {
    "ExecuteTime": {
     "end_time": "2023-02-18T03:26:45.282504Z",
     "start_time": "2023-02-18T03:26:45.093446Z"
    }
   },
   "outputs": [],
   "source": [
    "# Create audio pre-processing object to get openWakeWord audio embeddings\n",
    "# 오디오 데이터를 특징 벡터로 변환하는 파이프라인의 핵심 구성 요소\n",
    "\n",
    "F = openwakeword.utils.AudioFeatures()"
   ]
  },
  {
   "cell_type": "markdown",
   "id": "9e757355",
   "metadata": {
    "ExecuteTime": {
     "end_time": "2023-02-12T02:14:32.160470Z",
     "start_time": "2023-02-12T02:14:32.154438Z"
    }
   },
   "source": [
    "### Negative Clips"
   ]
  },
  {
   "cell_type": "code",
   "execution_count": 5,
   "id": "ab401215",
   "metadata": {
    "ExecuteTime": {
     "end_time": "2023-02-18T03:27:23.911209Z",
     "start_time": "2023-02-18T03:26:47.968057Z"
    }
   },
   "outputs": [
    {
     "name": "stderr",
     "output_type": "stream",
     "text": [
      "0it [00:00, ?it/s]"
     ]
    },
    {
     "name": "stderr",
     "output_type": "stream",
     "text": [
      "50000it [00:19, 2547.71it/s]\n",
      "100%|██████████| 50000/50000 [05:26<00:00, 153.29it/s]\n",
      "120001it [00:46, 2579.38it/s]\n",
      "100%|██████████| 120001/120001 [12:45<00:00, 156.81it/s]\n",
      "685it [00:00, 2634.00it/s]\n",
      "100%|██████████| 685/685 [00:06<00:00, 100.29it/s]\n",
      "39it [00:00, 2431.66it/s]\n",
      "100%|██████████| 39/39 [00:00<00:00, 142.70it/s]\n",
      "120it [00:00, 2695.58it/s]\n",
      "100%|██████████| 120/120 [00:00<00:00, 159.07it/s]"
     ]
    },
    {
     "name": "stdout",
     "output_type": "stream",
     "text": [
      "170827 negative clips after filtering, representing ~161.0 hours\n"
     ]
    },
    {
     "name": "stderr",
     "output_type": "stream",
     "text": [
      "\n"
     ]
    }
   ],
   "source": [
    "# Get negative example paths, filtering out clips that are too long or too short\n",
    "\"\"\"\n",
    "filter_audio_paths 함수는 주어진 디렉토리에서 오디오 파일을 찾고, 지정된 조건(길이 등)에 맞는 오디오 파일만을 필터링\n",
    "\n",
    "\"\"\"\n",
    "\n",
    "negative_clips, negative_durations = openwakeword.data.filter_audio_paths(\n",
    "    [\n",
    "        \"/home/data/openwakeword/piper_negative_sample\",\n",
    "        \"/home/data/openwakeword/common_voice_Corpus_21.0/cv-corpus-21.0-2025-03-14/en/60sec_below_negative_clips\",\n",
    "        \"/home/data/openwakeword/background_sound/audioset_16k\",\n",
    "        \"/home/data/openwakeword/background_sound/custom_data\",\n",
    "        \"/home/data/openwakeword/background_sound/fma\"\n",
    "        # \"/home/data/openwakeword/common_voice_Corpus_21.0/cv-corpus-21.0-2025-03-14/en/clips\",\n",
    "        # \"/home/data/openwakeword/일반남여_자유대화_M_1555611171_40_수도권_실내\",\n",
    "        # \"/home/data/openwakeword/일반남여_자유대화_M_1556099813_51_수도권_실내\",\n",
    "        # \"/home/data/openwakeword/일반남여_자유대화_M_1556099813_51_수도권_실외\",\n",
    "        # \"/home/data/openwakeword/일반남여_자유대화_M_1556372575_28_수도권_실내\",\n",
    "        # \"/home/data/openwakeword/일반남여_자유대화_M_1556699339_43_수도권_실내\",\n",
    "        # \"/home/data/openwakeword/일반남여_자유대화_M_1556733030_20_충청_실내\",\n",
    "        # \"/home/data/openwakeword/일반남여_자유대화_M_1558793799_49_수도권_실내\",\n",
    "        # \"/home/data/openwakeword/일반남여_자유대화_M_1560004441_36_수도권_실내\",\n",
    "        # \"/home/data/openwakeword/일반남여_자유대화_M_1561592011_40_수도권_실내\",\n",
    "        # \"/home/data/openwakeword/일반남여_자유대화_M_1561592011_40_충청_실내\",\n",
    "        # \"/home/data/openwakeword/일반남여_자유대화_M_1561892242_33_수도권_실내\",\n",
    "        # \"/home/data/openwakeword/일반남여_자유대화_M_1561913420_56_수도권_실내\",\n",
    "        # \"/home/data/openwakeword/일반남여_자유대화_M_1562186261_57_전라_실내\",\n",
    "        # \"/home/data/openwakeword/일반남여_자유대화_M_1562186261_57_전라_실외\",\n",
    "        # \"/home/data/openwakeword/일반남여_자유대화_M_1565005422_41_수도권_실내\",\n",
    "        # \"/home/data/openwakeword/일반남여_자유대화_M_1566448306_35_수도권_실내\",\n",
    "        # \"/home/data/openwakeword/일반남여_자유대화_M_1567793164_37_수도권_실내\",\n",
    "        # \"/home/data/openwakeword/일반남여_자유대화_M_1569324717_25_충청_실내\",\n",
    "        # \"/home/data/openwakeword/일반남여_자유대화_M_1569387264_22_수도권_실내\",\n",
    "        # \"/home/data/openwakeword/일반남여_자유대화_M_1569774336_30_경상_실내\",\n",
    "        # \"/home/data/openwakeword/일반남여_자유대화_M_1570546615_33_강원_실내\",\n",
    "        # \"/home/data/openwakeword/일반남여_자유대화_M_1570548751_50_수도권_실내\",\n",
    "        # \"/home/data/openwakeword/일반남여_자유대화_M_1570658641_44_수도권_실내\",\n",
    "        # \"/home/data/openwakeword/일반남여_자유대화_M_1571286728_27_강원_실내\",\n",
    "        # \"/home/data/openwakeword/일반남여_자유대화_M_1571527490_28_충청_실내\",\n",
    "        # \"/home/data/openwakeword/일반남여_자유대화_M_1571546528_41_수도권_실내\",\n",
    "        # \"/home/data/openwakeword/일반남여_자유대화_M_1571674136_39_경상_실내\",\n",
    "        # \"/home/data/openwakeword/일반남여_자유대화_M_1572023165_26_수도권_실내\",\n",
    "        # \"/home/data/openwakeword/일반남여_자유대화_M_1572134067_32_수도권_실내\",\n",
    "        # \"/home/data/openwakeword/일반남여_자유대화_M_1572492209_29_수도권_실내\",\n",
    "        # \"/home/data/openwakeword/일반남여_자유대화_M_1572532050_43_수도권_실내\",\n",
    "        # \"/home/data/openwakeword/일반남여_자유대화_M_1572796115_58_수도권_실내\",\n",
    "        # \"/home/data/openwakeword/일반남여_자유대화_M_1573307262_55_전라_실내\",\n",
    "        # \"/home/data/openwakeword/일반남여_자유대화_M_1573535211_24_수도권_실내\",\n",
    "        # \"/home/data/openwakeword/일반남여_자유대화_M_1573631404_33_수도권_실내\",\n",
    "        # \"/home/data/openwakeword/일반남여_자유대화_M_1573837987_44_경상_실내\",\n",
    "        # \"/home/data/openwakeword/일반남여_자유대화_M_1573975642_37_경상_실내\",\n",
    "        # \"/home/data/openwakeword/일반남여_자유대화_M_1573975642_37_경상_실외\",\n",
    "        # \"/home/data/openwakeword/일반남여_자유대화_M_1574737562_26_전라_실내\",\n",
    "        # \"/home/data/openwakeword/일반남여_자유대화_M_1574981522_37_수도권_실내\",\n",
    "        # \"/home/data/openwakeword/일반남여_자유대화_M_1575782101_28_경상_실내\",\n",
    "        # \"/home/data/openwakeword/일반남여_자유대화_M_1576361575_40_경상_실내\",\n",
    "        # \"/home/data/openwakeword/일반남여_자유대화_M_1576376586_46_수도권_실내\",\n",
    "        # \"/home/data/openwakeword/일반남여_자유대화_M_1576523737_34_수도권_실내\",\n",
    "        # \"/home/data/openwakeword/일반남여_자유대화_M_1576523737_34_수도권_실외\",\n",
    "        # \"/home/data/openwakeword/일반남여_자유대화_M_1577116948_44_경상_실내\",\n",
    "        # \"/home/data/openwakeword/일반남여_자유대화_M_1577813879_31_수도권_실내\",\n",
    "        # \"/home/data/openwakeword/일반남여_자유대화_M_1577966558_26_경상_실내\",\n",
    "        # \"/home/data/openwakeword/일반남여_자유대화_M_1578018992_49_충청_실내\",\n",
    "        # \"/home/data/openwakeword/일반남여_자유대화_M_1578412985_32_수도권_실내\",\n",
    "        # \"/home/data/openwakeword/일반남여_자유대화_M_1579006059_32_강원_실내\",\n",
    "        # \"/home/data/openwakeword/일반남여_자유대화_M_1579053800_27_충청_실내\",\n",
    "        # \"/home/data/openwakeword/일반남여_자유대화_M_1579323786_25_수도권_실내\",\n",
    "        # \"/home/data/openwakeword/일반남여_자유대화_M_1579598480_37_강원_실내\",\n",
    "        # \"/home/data/openwakeword/일반남여_자유대화_M_1580225768_30_수도권_실내\",\n",
    "        # \"/home/data/openwakeword/일반남여_자유대화_M_1580840411_49_수도권_실내\",\n",
    "        # \"/home/data/openwakeword/일반남여_자유대화_M_1581844592_42_경상_실내\",\n",
    "        # \"/home/data/openwakeword/일반남여_자유대화_M_1581940186_30_강원_실내\"\n",
    "\n",
    "    ],\n",
    "    min_length_secs = 0.5, # minimum clip length in seconds\n",
    "    max_length_secs = 60*2, # maximum clip length in seconds\n",
    "    duration_method = \"header\" # use the file header to calculate duration\n",
    ")\n",
    "\n",
    "print(f\"{len(negative_clips)} negative clips after filtering, representing ~{sum(negative_durations)//3600} hours\")"
   ]
  },
  {
   "cell_type": "code",
   "execution_count": 6,
   "id": "221d8662",
   "metadata": {
    "ExecuteTime": {
     "end_time": "2023-02-18T03:28:06.568812Z",
     "start_time": "2023-02-18T03:28:06.524651Z"
    }
   },
   "outputs": [],
   "source": [
    "# Use HuggingFace datasets to load files from disk by batches\n",
    "\n",
    "audio_dataset = datasets.Dataset.from_dict({\"audio\": negative_clips})\n",
    "audio_dataset = audio_dataset.cast_column(\"audio\", datasets.Audio(sampling_rate=16000))"
   ]
  },
  {
   "cell_type": "code",
   "execution_count": 7,
   "id": "37ec1163",
   "metadata": {
    "ExecuteTime": {
     "end_time": "2023-02-18T03:30:38.082245Z",
     "start_time": "2023-02-18T03:29:08.355371Z"
    }
   },
   "outputs": [
    {
     "name": "stderr",
     "output_type": "stream",
     "text": [
      "  0%|          | 0/2670 [00:00<?, ?it/s]"
     ]
    },
    {
     "name": "stderr",
     "output_type": "stream",
     "text": [
      "100%|█████████▉| 2667/2670 [22:41<00:01,  1.96it/s]\n",
      "Trimming empty rows: 285it [00:03, 73.21it/s]                         \n"
     ]
    }
   ],
   "source": [
    "# Get audio embeddings (features) for negative clips and save to .npy file\n",
    "# Process files by batch and save to Numpy memory mapped file so that\n",
    "# an array larger than the available system memory can be created\n",
    "\n",
    "batch_size = 64 # number of files to load, compute features, and write to mmap at a time\n",
    "clip_size = 2  # the desired window size (in seconds) for the trained openWakeWord model\n",
    "N_total = int(sum(negative_durations)//clip_size) # maximum number of rows in mmap file\n",
    "n_feature_cols = F.get_embedding_shape(clip_size)\n",
    "\n",
    "output_file = \"negative_features.npy\"\n",
    "output_array_shape = (N_total, n_feature_cols[0], n_feature_cols[1])\n",
    "fp = open_memmap(output_file, mode='w+', dtype=np.float32, shape=output_array_shape)\n",
    "\n",
    "row_counter = 0\n",
    "for i in tqdm(np.arange(0, audio_dataset.num_rows, batch_size)):\n",
    "    # Load data in batches and shape into rectangular array\n",
    "    wav_data = [(j[\"array\"]*32767).astype(np.int16) for j in audio_dataset[i:i+batch_size][\"audio\"]]\n",
    "    wav_data = openwakeword.data.stack_clips(wav_data, clip_size=16000*clip_size).astype(np.int16)\n",
    "    \n",
    "    # Compute features (increase ncpu argument for faster processing)\n",
    "    features = F.embed_clips(x=wav_data, batch_size=1024, ncpu=8)\n",
    "    \n",
    "    # Save computed features to mmap array file (stopping once the desired size is reached)\n",
    "    # fp.flush()의 역할 : \n",
    "    if row_counter + features.shape[0] > N_total:\n",
    "        fp[row_counter:min(row_counter+features.shape[0], N_total), :, :] = features[0:N_total - row_counter, :, :]\n",
    "        fp.flush()\n",
    "        break\n",
    "    else:\n",
    "        fp[row_counter:row_counter+features.shape[0], :, :] = features\n",
    "        row_counter += features.shape[0]\n",
    "        fp.flush()\n",
    "        \n",
    "# Trip empty rows from the mmapped array\n",
    "openwakeword.data.trim_mmap(output_file)"
   ]
  },
  {
   "cell_type": "markdown",
   "id": "c60aa86d",
   "metadata": {},
   "source": [
    "Now we have all of the negative features prepared, and saved to fixed durations clips in a Numpy array. For this data, the array is small at ~160 MB, but in-practice the memory mapping allows the array to be very large (e.g., 100s of GBs)."
   ]
  },
  {
   "cell_type": "markdown",
   "id": "1b49b9c6",
   "metadata": {},
   "source": [
    "### Positive Clips"
   ]
  },
  {
   "cell_type": "markdown",
   "id": "6f3f9ed0",
   "metadata": {},
   "source": [
    "First, [download](https://f002.backblazeb2.com/file/openwakeword-resources/data/turn_on_the_office_lights.tar.gz) and extract the positive clips into the working directory.\n",
    "\n",
    "Then the positive clips will be prepared in two way:\n",
    "\n",
    "1) Mixing the synthetic positive clips with negative data at random SNRs to simulate noise data\n",
    "\n",
    "2) Aligning the positive clips with background data such that the end of the input window aligns with the end of the positive clip. This way the model will learn to predict the presence of the wakeword/phrase immediately after it is spoken.\n",
    "\n",
    "In practice, there are other possible ways to augment the positive data (e.g., creating reverberation with room impulse response files, mixing with synthetic noise, etc.) but in practice we have observed that mixing with realistic background data provides the best results. Again, see the [documentation](https://github.com/dscripka/openWakeWord/tree/main/docs/models) for the pre-trained openWakeWord models for more information about the types of data augmentation used.\n",
    "\n",
    "After this prepartion, the positive clips will be converted into the openWakeWord features in the same way as the negative files."
   ]
  },
  {
   "cell_type": "code",
   "execution_count": 6,
   "id": "54d973c8",
   "metadata": {},
   "outputs": [
    {
     "name": "stdout",
     "output_type": "stream",
     "text": [
      "cv11_test_clips  openwakeword\n"
     ]
    }
   ],
   "source": [
    "!cd /home/data && ls"
   ]
  },
  {
   "cell_type": "code",
   "execution_count": 8,
   "id": "fe1964fb",
   "metadata": {
    "ExecuteTime": {
     "end_time": "2023-02-18T03:31:01.912793Z",
     "start_time": "2023-02-18T03:30:43.623741Z"
    }
   },
   "outputs": [
    {
     "name": "stderr",
     "output_type": "stream",
     "text": [
      "51010it [00:18, 2697.30it/s]\n",
      "100%|██████████| 51010/51010 [05:25<00:00, 156.94it/s]\n",
      "4963it [00:01, 2657.60it/s]\n",
      "100%|██████████| 4963/4963 [00:31<00:00, 159.54it/s]\n",
      "4963it [00:01, 2648.88it/s]\n",
      "100%|██████████| 4963/4963 [00:31<00:00, 159.27it/s]\n",
      "4969it [00:01, 2688.02it/s]\n",
      "100%|██████████| 4969/4969 [00:30<00:00, 161.84it/s]"
     ]
    },
    {
     "name": "stdout",
     "output_type": "stream",
     "text": [
      "65905 positive clips after filtering\n"
     ]
    },
    {
     "name": "stderr",
     "output_type": "stream",
     "text": [
      "\n"
     ]
    }
   ],
   "source": [
    "# Get positive example paths, filtering out clips that are too long or too short\n",
    "\n",
    "positive_clips, durations = openwakeword.data.filter_audio_paths(\n",
    "    [\n",
    "        \"/home/data/openwakeword/openwakeword_positive_sample/piper_VITS_n_mix5_ratio0.5\",\n",
    "        \"/home/data/openwakeword/openwakeword_positive_sample/VITS_n_mix5_ratio0.8\",\n",
    "        \"/home/data/openwakeword/openwakeword_positive_sample/VITS_n_mix5_ratio0.2\",\n",
    "        \"/home/data/openwakeword/openwakeword_positive_sample/VITS_n_mix4_ratio0.5\"\n",
    "    ],\n",
    "    # min_length_secs = 1.0, # minimum clip length in seconds\n",
    "    min_length_secs = 0.5, # minimum clip length in seconds\n",
    "    max_length_secs = 30*1, # maximum clip length in seconds\n",
    "    duration_method = \"header\" # use the file header to calculate duration\n",
    ")\n",
    "\n",
    "print(f\"{len(positive_clips)} positive clips after filtering\")"
   ]
  },
  {
   "cell_type": "code",
   "execution_count": 16,
   "id": "5d9dc47b",
   "metadata": {
    "ExecuteTime": {
     "end_time": "2023-02-18T03:31:05.710564Z",
     "start_time": "2023-02-18T03:31:05.699618Z"
    }
   },
   "outputs": [],
   "source": [
    "# Define starting point for each positive clip based on its length, so that each one ends \n",
    "# between 0-200 ms from the end of the total window size chosen for the model.\n",
    "# This results in the model being most confident in the prediction right after the\n",
    "# end of the wakeword in the audio stream, reducing latency in operation.\n",
    "\n",
    "# Get start and end positions for the positive audio in the full window\n",
    "sr = 16000\n",
    "total_length_seconds = 2 # must be the some window length as that used for the negative examples\n",
    "total_length = int(sr*total_length_seconds)\n",
    "\n",
    "# jitters = (np.random.uniform(0, 0.2, len(positive_clips))*sr).astype(np.int32)\n",
    "# starts = [total_length - (int(np.ceil(i*sr))+j) for i,j in zip(durations, jitters)]\n",
    "# ends = [int(i*sr) + j for i, j in zip(durations, starts)]\n",
    "\n",
    "jitters = [\n",
    "        int(np.random.uniform(0, max(0, total_length - int(np.ceil(d * sr)))))\n",
    "        for d in durations\n",
    "    ]\n",
    "\n",
    "starts = [\n",
    "        max(0, total_length - (int(np.ceil(d * sr)) + j))\n",
    "        for d, j in zip(durations, jitters)\n",
    "    ]\n",
    "ends = [int(i*sr) + j for i, j in zip(durations, starts)]\n",
    "\n",
    "# Create generator to mix the positive audio with background audio\n",
    "batch_size = 8\n",
    "mixing_generator = openwakeword.data.mix_clips_batch(\n",
    "    foreground_clips = positive_clips,\n",
    "    background_clips = negative_clips,\n",
    "    combined_size = total_length,\n",
    "    batch_size = batch_size,\n",
    "    snr_low = 5,\n",
    "    snr_high = 15,\n",
    "    start_index = starts,\n",
    "    volume_augmentation=True, # randomly scale the volume of the audio after mixing\n",
    ")\n"
   ]
  },
  {
   "cell_type": "code",
   "execution_count": 17,
   "id": "70898754",
   "metadata": {
    "ExecuteTime": {
     "end_time": "2023-02-12T03:35:32.377177Z",
     "start_time": "2023-02-12T03:35:32.349576Z"
    }
   },
   "outputs": [
    {
     "data": {
      "text/html": [
       "\n",
       "                <audio  controls=\"controls\" >\n",
       "                    <source src=\"data:audio/wav;base64,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\" type=\"audio/wav\" />\n",
       "                    Your browser does not support the audio element.\n",
       "                </audio>\n",
       "              "
      ],
      "text/plain": [
       "<IPython.lib.display.Audio object>"
      ]
     },
     "metadata": {},
     "output_type": "display_data"
    }
   ],
   "source": [
    "# (Optionally) listen to mixed clips to confirm that the mixing appears correct\n",
    "mixed_clips, labels, background_clips = next(mixing_generator)\n",
    "ipd.display(ipd.Audio(mixed_clips[0], rate=16000, normalize=True, autoplay=False))"
   ]
  },
  {
   "cell_type": "code",
   "execution_count": 18,
   "id": "621c2ee6",
   "metadata": {
    "ExecuteTime": {
     "end_time": "2023-02-18T03:33:35.853508Z",
     "start_time": "2023-02-18T03:31:44.655774Z"
    }
   },
   "outputs": [
    {
     "name": "stderr",
     "output_type": "stream",
     "text": [
      "100%|██████████| 8238/8238 [30:43<00:00,  4.47it/s]  \n",
      "Trimming empty rows: 65it [00:01, 61.55it/s]                        \n"
     ]
    }
   ],
   "source": [
    "# Iterate through the mixing generator, computing audio features for positive examples and saving them\n",
    "\n",
    "\"\"\"\n",
    "bg가 0.5 ~ 2초 음성으로 짧으면, fg보다 작기 때문에 fg를 mix하지 못한다. 그래서 bg는 3초 보다 큰 애들을 대상으로 해야함. 아 근데, piper에서 추출한 데이터는 0.5 ~ 1.0 정도인데, 어떻게 해야하지?\n",
    "\n",
    "짧으면 믹싱하지 말고 그냥 fg를 bg shape으로 패딩해서 return\n",
    "\n",
    "근데 진짜 골때리는게 fg가 48000 사이즈가 넘는건 말이 안되는데\n",
    "\n",
    "\"\"\"\n",
    "\n",
    "N_total = len(positive_clips) # maximum number of rows in mmap file\n",
    "n_feature_cols = F.get_embedding_shape(total_length_seconds)\n",
    "# output_file = \"turn_on_the_office_lights_features.npy\"\n",
    "output_file = \"hey_thomas.npy\"\n",
    "output_array_shape = (N_total, n_feature_cols[0], n_feature_cols[1])\n",
    "# print(f\"N_total: {N_total}, n_feature_cols[0]: {n_feature_cols[0]}, n_feature_cols[1]: {n_feature_cols[1]}\")\n",
    "\n",
    "# fp is numpy.memmap\n",
    "fp = open_memmap(output_file, mode='w+', dtype=np.float32, shape=output_array_shape)\n",
    "# print(f\"fp: {fp}, fp.shape: {fp.shape}\")\n",
    "\n",
    "\n",
    "row_counter = 0\n",
    "for batch in tqdm(mixing_generator, total=N_total//batch_size):\n",
    "    batch, lbls, background = batch[0], batch[1], batch[2]\n",
    "    \n",
    "    # ⭐ 1차원 입력일 경우 처리\n",
    "    if isinstance(batch, list):\n",
    "        batch = np.stack(batch)\n",
    "    elif batch.ndim == 1:\n",
    "        batch = np.expand_dims(batch, axis=0)\n",
    "        \n",
    "    # Compute audio features\n",
    "    features = F.embed_clips(batch, batch_size=256)\n",
    "\n",
    "    # Save computed features\n",
    "    fp[row_counter:row_counter+features.shape[0], :, :] = features\n",
    "    row_counter += features.shape[0]\n",
    "    fp.flush()\n",
    "    \n",
    "    if row_counter >= N_total:\n",
    "        break\n",
    "\n",
    "# Trip empty rows from the mmapped array\n",
    "\"\"\"\n",
    "이 코드는 **메모리 매핑된 numpy 배열(Memory-Mapped Array)**에서 빈 행을 제거하고 새 파일로 저장하는 기능을 수행합니다.\n",
    "\"\"\"\n",
    "openwakeword.data.trim_mmap(output_file)\n"
   ]
  },
  {
   "cell_type": "markdown",
   "id": "77a31736",
   "metadata": {},
   "source": [
    "Alright! At this point the positive and negative features have been pre-computed and saved to disk, and now a model can be trained that takes these features and predicts whether the wakeword/phrase is present."
   ]
  },
  {
   "cell_type": "markdown",
   "id": "cab316e2",
   "metadata": {},
   "source": [
    "# Training the Model"
   ]
  },
  {
   "cell_type": "markdown",
   "id": "a514773d",
   "metadata": {},
   "source": [
    "At this point, you are free to use any type of model that you like, but in practice we've observed that a simple full-connected neural network can often perform quite well. For this example notebook, we'll create and train this network in Pytorch, but any framework that can export a model to the [ONNX](https://onnx.ai/) format will also work."
   ]
  },
  {
   "cell_type": "markdown",
   "id": "f0dab37e",
   "metadata": {},
   "source": [
    "## Loading Data"
   ]
  },
  {
   "cell_type": "code",
   "execution_count": 19,
   "id": "c7ed4de5",
   "metadata": {
    "ExecuteTime": {
     "end_time": "2023-02-18T03:33:52.884948Z",
     "start_time": "2023-02-18T03:33:51.191681Z"
    }
   },
   "outputs": [],
   "source": [
    "# Load the data prepared in previous steps (it's small enough to load entirely in memory)\n",
    "\n",
    "negative_features = np.load(\"negative_features.npy\")\n",
    "positive_features = np.load(\"hey_thomas.npy\")\n",
    "\n",
    "X = np.vstack((negative_features, positive_features))\n",
    "y = np.array([0]*len(negative_features) + [1]*len(positive_features)).astype(np.float32)[...,None]\n",
    "\n",
    "# Make Pytorch dataloader\n",
    "batch_size = 256\n",
    "# batch_size = 8\n",
    "training_data = torch.utils.data.DataLoader(\n",
    "    torch.utils.data.TensorDataset(torch.from_numpy(X), torch.from_numpy(y)),\n",
    "    batch_size = batch_size,\n",
    "    shuffle = True\n",
    ")\n"
   ]
  },
  {
   "cell_type": "markdown",
   "id": "1d1ba9e4",
   "metadata": {},
   "source": [
    "## Define Model"
   ]
  },
  {
   "cell_type": "code",
   "execution_count": 20,
   "id": "d7c71798",
   "metadata": {
    "ExecuteTime": {
     "end_time": "2023-02-18T03:33:54.913238Z",
     "start_time": "2023-02-18T03:33:54.896447Z"
    }
   },
   "outputs": [],
   "source": [
    "# Define fully-connected network in PyTorch\n",
    "\n",
    "# layer_dim = 32\n",
    "layer_dim = 64\n",
    "fcn = nn.Sequential(\n",
    "                    nn.Flatten(),\n",
    "                    nn.Linear(X.shape[1]*X.shape[2], layer_dim), # since the input is flattened, it's timesteps*feature columns\n",
    "                    nn.LayerNorm(layer_dim),\n",
    "                    nn.ReLU(),\n",
    "                    nn.Linear(layer_dim, layer_dim),\n",
    "                    nn.LayerNorm(layer_dim),\n",
    "                    nn.ReLU(),\n",
    "                    nn.Linear(layer_dim, 1),\n",
    "                    nn.Sigmoid(),\n",
    "                )\n",
    "\n",
    "loss_function = torch.nn.functional.binary_cross_entropy\n",
    "# optimizer = torch.optim.Adam(fcn.parameters(), lr=0.0005)\n",
    "optimizer = torch.optim.Adam(fcn.parameters(), lr=0.001)\n"
   ]
  },
  {
   "cell_type": "markdown",
   "id": "6bb834c1",
   "metadata": {},
   "source": [
    "## Train Model"
   ]
  },
  {
   "cell_type": "code",
   "execution_count": 21,
   "id": "5bc28f8b",
   "metadata": {
    "ExecuteTime": {
     "end_time": "2023-02-18T03:33:59.286835Z",
     "start_time": "2023-02-18T03:33:57.795926Z"
    }
   },
   "outputs": [
    {
     "name": "stderr",
     "output_type": "stream",
     "text": [
      "100%|██████████| 200/200 [16:27<00:00,  4.94s/it]\n"
     ]
    }
   ],
   "source": [
    "# Define training loop, metrics, and logging\n",
    "\n",
    "n_epochs = 200\n",
    "# n_epochs = 10\n",
    "history = collections.defaultdict(list)\n",
    "for i in tqdm(range(n_epochs), total=n_epochs):\n",
    "    for batch in training_data:\n",
    "        # Get data for batch\n",
    "        x, y = batch[0], batch[1]\n",
    "        \n",
    "        # Get weights for classes, and assign 10x higher weight to negative class\n",
    "        # to help the model learn to not have too many false-positives\n",
    "        # As you have more data (both positive and negative), this is less important\n",
    "        weights = torch.ones(y.shape[0])\n",
    "        weights[y.flatten() == 1] = 0.1\n",
    "        \n",
    "        # Zero gradients\n",
    "        optimizer.zero_grad()\n",
    "        \n",
    "        # Run forward pass\n",
    "        predictions = fcn(x)\n",
    "        \n",
    "        # Update model parameters\n",
    "        loss = loss_function(predictions, y, weights[..., None])\n",
    "        loss.backward()\n",
    "        optimizer.step()\n",
    "        \n",
    "        # Log metrics\n",
    "        history['loss'].append(float(loss.detach().numpy()))\n",
    "        \n",
    "        tp = torch.sum(predictions.flatten()[y.flatten() == 1] >= 0.5)\n",
    "        fn = torch.sum(predictions.flatten()[y.flatten() == 1] < 0.5)\n",
    "        history['recall'].append(float(tp/(tp+fn).detach().numpy()))\n",
    "        \n",
    "        \"\"\"아래 오류로 인해 두 코드 sum()에서 torch.sum()함수로 수정\n",
    "        tp = torch.sum(predictions.flatten()[y.flatten() == 1] >= 0.5)\n",
    "        fn = torch.sum(predictions.flatten()[y.flatten() == 1] < 0.5)\n",
    "        \n",
    "        ---------------------------------------------------------------------------\n",
    "        AttributeError                            Traceback (most recent call last)\n",
    "        Cell In[22], line 33\n",
    "            31 tp = sum(predictions.flatten()[y.flatten() == 1] >= 0.5)\n",
    "            32 fn = sum(predictions.flatten()[y.flatten() == 1] < 0.5)\n",
    "        ---> 33 history['recall'].append(float(tp/(tp+fn).detach().numpy()))\n",
    "\n",
    "        AttributeError: 'int' object has no attribute 'detach'\n",
    "\n",
    "        \"\"\"\n"
   ]
  },
  {
   "cell_type": "code",
   "execution_count": 34,
   "id": "4231dd84",
   "metadata": {
    "ExecuteTime": {
     "end_time": "2023-02-18T03:34:01.172348Z",
     "start_time": "2023-02-18T03:34:01.043030Z"
    }
   },
   "outputs": [
    {
     "data": {
      "text/plain": [
       "(0.0, 1.0)"
      ]
     },
     "execution_count": 34,
     "metadata": {},
     "output_type": "execute_result"
    },
    {
     "data": {
      "image/png": "[encoded data removed]",
      "text/plain": [
       "<Figure size 640x480 with 1 Axes>"
      ]
     },
     "metadata": {},
     "output_type": "display_data"
    }
   ],
   "source": [
    "# Plot training metrics\n",
    "\n",
    "plt.figure()\n",
    "plt.plot(history['loss'], label=\"loss\")\n",
    "plt.plot(history['recall'], label=\"recall\")\n",
    "plt.legend()\n",
    "plt.ylim(0,1)\n"
   ]
  },
  {
   "cell_type": "markdown",
   "id": "03a3ae78",
   "metadata": {},
   "source": [
    "## Try the Model on an Example Clip"
   ]
  },
  {
   "cell_type": "markdown",
   "id": "65c43bb6",
   "metadata": {},
   "source": [
    "To confirm that the model is working as expected, let's test it on an example audio file (obtained from Youtube) of someone talking and then saying the phrase \"turn on the office lights\" at the end of the clip. We'll simulate how the model would be used in production, by predicting every 80 ms (1280 samples) and plotting the predictions over time.\n",
    "\n",
    "This clip is a good sanity test to confirm the model is performing in the right way, as it contains about ~30 seconds of speech that does no contain the target phrase, but does contain related words (e.g., \"lights\") that should not result in an activation. So ideally, the model scores are low up to the end of the recording, where there should then be a spike right after the target spoken phrase."
   ]
  },
  {
   "cell_type": "code",
   "execution_count": 42,
   "id": "d6ad350e",
   "metadata": {
    "ExecuteTime": {
     "end_time": "2023-02-18T03:38:17.596854Z",
     "start_time": "2023-02-18T03:38:16.926888Z"
    }
   },
   "outputs": [
    {
     "name": "stderr",
     "output_type": "stream",
     "text": [
      "0it [00:00, ?it/s]"
     ]
    },
    {
     "name": "stderr",
     "output_type": "stream",
     "text": [
      "\n"
     ]
    },
    {
     "data": {
      "image/png": "[encoded data removed]",
      "text/plain": [
       "<Figure size 640x480 with 1 Axes>"
      ]
     },
     "metadata": {},
     "output_type": "display_data"
    }
   ],
   "source": [
    "# Load data\n",
    "# sr, dat = scipy.io.wavfile.read(\"/home/data/openwakeword/openwakeword_test_sample/KsponSpeech_000002.wav\")\n",
    "sr, dat = scipy.io.wavfile.read(\"/home/openWakeWord/sample_data/my_voice_heythomas/hey_thomas_wakeword_2_16000.wav\")\n",
    "\n",
    "# Pre-compute audio features using helper function\n",
    "features = F._get_embeddings(dat)\n",
    "\n",
    "# Get predictions for each window\n",
    "scores = []\n",
    "for i in tqdm(range(0, features.shape[0]-16)): # 28 is the number of timestep frames for this model\n",
    "    window = features[i:i+16][None,]\n",
    "    with torch.no_grad():\n",
    "        scores.append(float(fcn(torch.from_numpy(window)).detach().numpy()))\n",
    "    \n",
    "plt.figure()\n",
    "_ = plt.plot(scores)\n",
    "_ = plt.ylim(0,1)\n"
   ]
  },
  {
   "cell_type": "code",
   "execution_count": 32,
   "id": "9f0ceb86",
   "metadata": {},
   "outputs": [
    {
     "ename": "FileNotFoundError",
     "evalue": "[Errno 2] No such file or directory: '/home/data/openwakeword/일반남여_일반통합12_M_honortome_29_기타_실내/일반남여_일반통합12_M_honortome_29_기타_실내_16646.wav'",
     "output_type": "error",
     "traceback": [
      "\u001b[0;31m---------------------------------------------------------------------------\u001b[0m",
      "\u001b[0;31mFileNotFoundError\u001b[0m                         Traceback (most recent call last)",
      "Cell \u001b[0;32mIn[32], line 2\u001b[0m\n\u001b[1;32m      1\u001b[0m \u001b[38;5;66;03m# Load data\u001b[39;00m\n\u001b[0;32m----> 2\u001b[0m sr, dat \u001b[38;5;241m=\u001b[39m \u001b[43mscipy\u001b[49m\u001b[38;5;241;43m.\u001b[39;49m\u001b[43mio\u001b[49m\u001b[38;5;241;43m.\u001b[39;49m\u001b[43mwavfile\u001b[49m\u001b[38;5;241;43m.\u001b[39;49m\u001b[43mread\u001b[49m\u001b[43m(\u001b[49m\u001b[38;5;124;43m\"\u001b[39;49m\u001b[38;5;124;43m/home/data/openwakeword/일반남여_일반통합12_M_honortome_29_기타_실내/일반남여_일반통합12_M_honortome_29_기타_실내_16646.wav\u001b[39;49m\u001b[38;5;124;43m\"\u001b[39;49m\u001b[43m)\u001b[49m\n\u001b[1;32m      4\u001b[0m \u001b[38;5;66;03m# Pre-compute audio features using helper function\u001b[39;00m\n\u001b[1;32m      5\u001b[0m features \u001b[38;5;241m=\u001b[39m F\u001b[38;5;241m.\u001b[39m_get_embeddings(dat)\n",
      "File \u001b[0;32m/usr/local/lib/python3.10/dist-packages/scipy/io/wavfile.py:647\u001b[0m, in \u001b[0;36mread\u001b[0;34m(filename, mmap)\u001b[0m\n\u001b[1;32m    645\u001b[0m     mmap \u001b[38;5;241m=\u001b[39m \u001b[38;5;28;01mFalse\u001b[39;00m\n\u001b[1;32m    646\u001b[0m \u001b[38;5;28;01melse\u001b[39;00m:\n\u001b[0;32m--> 647\u001b[0m     fid \u001b[38;5;241m=\u001b[39m \u001b[38;5;28;43mopen\u001b[39;49m\u001b[43m(\u001b[49m\u001b[43mfilename\u001b[49m\u001b[43m,\u001b[49m\u001b[43m \u001b[49m\u001b[38;5;124;43m'\u001b[39;49m\u001b[38;5;124;43mrb\u001b[39;49m\u001b[38;5;124;43m'\u001b[39;49m\u001b[43m)\u001b[49m\n\u001b[1;32m    649\u001b[0m \u001b[38;5;28;01mtry\u001b[39;00m:\n\u001b[1;32m    650\u001b[0m     file_size, is_big_endian \u001b[38;5;241m=\u001b[39m _read_riff_chunk(fid)\n",
      "\u001b[0;31mFileNotFoundError\u001b[0m: [Errno 2] No such file or directory: '/home/data/openwakeword/일반남여_일반통합12_M_honortome_29_기타_실내/일반남여_일반통합12_M_honortome_29_기타_실내_16646.wav'"
     ]
    }
   ],
   "source": [
    "# Load data\n",
    "sr, dat = scipy.io.wavfile.read(\"/home/data/openwakeword/일반남여_일반통합12_M_honortome_29_기타_실내/일반남여_일반통합12_M_honortome_29_기타_실내_16646.wav\")\n",
    "\n",
    "# Pre-compute audio features using helper function\n",
    "features = F._get_embeddings(dat)\n",
    "\n",
    "# Get predictions for each window\n",
    "scores = []\n",
    "for i in tqdm(range(0, features.shape[0]-28)): # 28 is the number of timestep frames for this model\n",
    "    window = features[i:i+28][None,]\n",
    "    with torch.no_grad():\n",
    "        scores.append(float(fcn(torch.from_numpy(window)).detach().numpy()))\n",
    "    \n",
    "plt.figure()\n",
    "_ = plt.plot(scores)\n",
    "_ = plt.ylim(0,1)"
   ]
  },
  {
   "cell_type": "markdown",
   "id": "6531eefd",
   "metadata": {},
   "source": [
    "Overall, the model is working well on this test clip. There are a few spikes around the word \"lights\" spoken in other contexts, but the clear activation is around the entire phrase.\n",
    "\n",
    "To make this test a little more difficult, let's arbitrarily mix the test clip with some background music from the fma-large dataset at a low signal-to-noise ratio to simulate a more realistic (and challenging) scenario. Listen to the clip below to get a more intuitive feel of what the type of audio environment this represents."
   ]
  },
  {
   "cell_type": "code",
   "execution_count": null,
   "id": "2f72631b",
   "metadata": {
    "ExecuteTime": {
     "end_time": "2023-02-18T03:40:11.733430Z",
     "start_time": "2023-02-18T03:40:11.721719Z"
    }
   },
   "outputs": [],
   "source": [
    "# Load two clips and mix them\n",
    "_, dat = scipy.io.wavfile.read(\"/home/openWakeWord/sample_data/my_audio_hey_thomas.wav\")\n",
    "_, dat_music = scipy.io.wavfile.read(\"/home/data/openwakeword/일반남여_일반통합12_M_honortome_29_기타_실내/일반남여_일반통합12_M_honortome_29_기타_실내_16646.wav\")\n",
    "# _, dat = scipy.io.wavfile.read(\"turn_on_the_office_lights_test_clip.wav\")\n",
    "# _, dat_music = scipy.io.wavfile.read(\"fma_sample/000182.wav\")\n",
    "\n",
    "dat[-20*16000:] = (dat[-20*16000:] + dat_music[0:20*16000]*.7)/2 #quick manual mixing\n",
    "\n",
    "ipd.display(ipd.Audio(dat[-16000*6:], rate=16000, normalize=True, autoplay=False))"
   ]
  },
  {
   "cell_type": "code",
   "execution_count": 48,
   "id": "344383c7",
   "metadata": {
    "ExecuteTime": {
     "end_time": "2023-02-18T03:40:23.392725Z",
     "start_time": "2023-02-18T03:40:22.770119Z"
    }
   },
   "outputs": [
    {
     "name": "stderr",
     "output_type": "stream",
     "text": [
      "  0%|          | 0/30 [00:00<?, ?it/s]/tmp/ipykernel_214266/4060674433.py:9: DeprecationWarning: Conversion of an array with ndim > 0 to a scalar is deprecated, and will error in future. Ensure you extract a single element from your array before performing this operation. (Deprecated NumPy 1.25.)\n",
      "  scores.append(float(fcn(torch.from_numpy(window)).detach().numpy()))\n",
      "100%|██████████| 30/30 [00:00<00:00, 7268.32it/s]\n"
     ]
    },
    {
     "data": {
      "image/png": "[encoded data removed]",
      "text/plain": [
       "<Figure size 640x480 with 1 Axes>"
      ]
     },
     "metadata": {},
     "output_type": "display_data"
    }
   ],
   "source": [
    "# Pre-compute audio features using helper function\n",
    "features = F._get_embeddings(dat)\n",
    "\n",
    "# Get predictions for each window\n",
    "scores = []\n",
    "for i in tqdm(range(0, features.shape[0]-28)): # 28 is the number of timestep frames for this model\n",
    "    window = features[i:i+28][None,]\n",
    "    with torch.no_grad():\n",
    "        scores.append(float(fcn(torch.from_numpy(window)).detach().numpy()))\n",
    "     \n",
    "plt.figure()\n",
    "_ = plt.plot(scores)\n",
    "_ = plt.ylim(0,1)"
   ]
  },
  {
   "cell_type": "markdown",
   "id": "078a1bc2",
   "metadata": {},
   "source": [
    "The model is now less confidant in it's prediction than before, but the score is still above a default score of 0.5 which confirms that the model at least represents a good starting point."
   ]
  },
  {
   "cell_type": "markdown",
   "id": "0367ee93",
   "metadata": {},
   "source": [
    "# Export the Model"
   ]
  },
  {
   "cell_type": "markdown",
   "id": "f4eb66ce",
   "metadata": {
    "ExecuteTime": {
     "end_time": "2023-02-12T20:00:58.877229Z",
     "start_time": "2023-02-12T20:00:58.868037Z"
    }
   },
   "source": [
    "Now that the model is trained and passes basic performance validation tests, it can be exported to ONNX so that it can be used by the openWakeWord inference engine. With Torch, this process is quite simple."
   ]
  },
  {
   "cell_type": "code",
   "execution_count": 55,
   "id": "75acc3bb",
   "metadata": {
    "ExecuteTime": {
     "end_time": "2023-02-18T03:40:40.474020Z",
     "start_time": "2023-02-18T03:40:40.401258Z"
    }
   },
   "outputs": [],
   "source": [
    "# Export model to ONNX format\n",
    "\n",
    "output_path = \"/home/openWakeWord/models/hey_thomas20250409.onnx\"\n",
    "torch.onnx.export(fcn, args=torch.zeros((1, 16, 96)), f=output_path) # the 'args' is the shape of a single example"
   ]
  },
  {
   "cell_type": "markdown",
   "id": "03bd9f1e",
   "metadata": {},
   "source": [
    "# Evaluate the Model"
   ]
  },
  {
   "cell_type": "markdown",
   "id": "8c671f55",
   "metadata": {},
   "source": [
    "Let's now load in the ONNX model with openWakeWord, and use that to run some more rigorous testing. First, let's just confirm that the ONNX model works as expected."
   ]
  },
  {
   "cell_type": "code",
   "execution_count": 62,
   "id": "295fd55c",
   "metadata": {
    "ExecuteTime": {
     "end_time": "2023-02-18T03:41:08.824352Z",
     "start_time": "2023-02-18T03:41:08.615724Z"
    }
   },
   "outputs": [],
   "source": [
    "# Create openWakeWord instance\n",
    "\n",
    "oww = openwakeword.Model(\n",
    "    wakeword_models=[\"/home/openWakeWord/models/hey_thomas20250409.onnx\"],\n",
    "    enable_speex_noise_suppression=True,\n",
    "    vad_threshold=0.5,\n",
    "    inference_framework=\"onnx\"\n",
    ")\n"
   ]
  },
  {
   "cell_type": "code",
   "execution_count": 70,
   "id": "6f009d79",
   "metadata": {
    "ExecuteTime": {
     "end_time": "2023-02-18T03:41:13.924834Z",
     "start_time": "2023-02-18T03:41:12.995975Z"
    }
   },
   "outputs": [
    {
     "data": {
      "image/png": "[encoded data removed]",
      "text/plain": [
       "<Figure size 640x480 with 1 Axes>"
      ]
     },
     "metadata": {},
     "output_type": "display_data"
    }
   ],
   "source": [
    "# Do a quick test prediction on the test clip to confirm that the behavior is still as expected\n",
    "\n",
    "scores = oww.predict_clip(\"/home/openWakeWord/sample_data/my_voice_heythomas/lee_hey_thomas_only.wav\")\n",
    "\n",
    "plt.figure() \n",
    "_ = plt.plot([i[\"hey_thomas20250409\"] for i in scores])"
   ]
  },
  {
   "cell_type": "markdown",
   "id": "d26f14af",
   "metadata": {},
   "source": [
    "Since that looks fine, we can now conduct a more rigorous test to evaluate the false-accept rate in something closer to a production scenario. Specifically, we want the openWakeWord models to respond consistently when a user speaks the target wake word/phrase, but also does not activate even in the presence of many hours of continuous background noise and un-related speech.\n",
    "\n",
    "To test that, we'll use a few clips (for a total of ~ 1 hour) from the [Santa Barbara Corpus of Spoken American English](https://www.linguistics.ucsb.edu/research/santa-barbara-corpus) to produce a more realistic metric for the false-activation rate per hour.\n",
    "\n",
    "The combined clip (already converted to a single-channel, 16khz, 16-bit WAV file) can be downloaded [here](https://f002.backblazeb2.com/file/openwakeword-resources/data/santa_barbara_corpus_test_clip.wav).\n"
   ]
  },
  {
   "cell_type": "code",
   "execution_count": 54,
   "id": "756d7100",
   "metadata": {
    "ExecuteTime": {
     "end_time": "2023-02-18T03:43:13.392821Z",
     "start_time": "2023-02-18T03:41:57.091857Z"
    }
   },
   "outputs": [
    {
     "data": {
      "image/png": "[encoded data removed]",
      "text/plain": [
       "<Figure size 640x480 with 1 Axes>"
      ]
     },
     "metadata": {},
     "output_type": "display_data"
    }
   ],
   "source": [
    "# Estimate the false-accept rate on realistic test data (will take up to several minutes an a desktop-grade CPU)\n",
    "\n",
    "scores = oww.predict_clip(\"/home/openWakeWord/sample_data/my_voice_sample/일반남여_일반통합01_M_JSW00_20_수도권_녹음실_00012.wav\")\n",
    "\n",
    "# i[\"onnx model file name\"]으로 설정해야함. oww = openwakeword.Model 이 코드에서 객체 생성할때 내부 클래스에서 저장되는 것 같다.\n",
    "plt.figure()\n",
    "_ = plt.plot([i[\"hey_thomas20250409\"] for i in scores])\n",
    "_ = plt.ylim(0,1)"
   ]
  },
  {
   "cell_type": "code",
   "execution_count": null,
   "id": "b9e2f282",
   "metadata": {
    "ExecuteTime": {
     "end_time": "2023-02-18T03:43:20.326550Z",
     "start_time": "2023-02-18T03:43:20.309552Z"
    }
   },
   "outputs": [],
   "source": [
    "# Calculate the false-accept rate per hour from this result\n",
    "\n",
    "false_accepts = openwakeword.metrics.get_false_positives(\n",
    "    [i[\"hey_thomas\"] for i in scores], threshold=0.5\n",
    ")\n",
    "\n",
    "print(f\"False-accept rate per hour: {false_accepts/1}\")"
   ]
  },
  {
   "cell_type": "markdown",
   "id": "04d294cf",
   "metadata": {},
   "source": [
    "It looks like the false-accept rate for this model is very high, and would need to be reduced quite significantly to be viable for a production deployment. Of course, this was expected as the model was trained on a very small amount of positive and negative data."
   ]
  },
  {
   "cell_type": "markdown",
   "id": "c758890a",
   "metadata": {},
   "source": [
    "# Create a User-specific Verifier Model"
   ]
  },
  {
   "cell_type": "markdown",
   "id": "362c6812",
   "metadata": {},
   "source": [
    "As we saw, the simple model trained on this dataset performs quite well at detecting the presence of the wakeword/phrase, but often activates when it shouldn't, leading to an unnacceptably high false-accept rate.\n",
    "\n",
    "In practice, there are two ways to improve the performance of the model:\n",
    "\n",
    "1) Train on much larger amounts of positive and negative examples. The models released with openWakeWord are often trained on >100,000 positive examples, and over 30,000 hours of negative data.\n",
    "\n",
    "2) Create a user-specific \"verifier\" model based on examples of a specific person speaking the both the wake word/phrase and unrelated speech. The openWakeWord inference engine uses this verifier model to filter out likely false activations by focusing on only known speakers.\n",
    "\n",
    "We'll demonstrate the 2nd option here, as it's a very quick way to significantly improve performance at the cost of making the model far less likely to work well with other voices. The approach behind this verifier model are relatively simple, and are discussed in more detail in the openWakeWord documentation [here](https://github.com/dscripka/openWakeWord/docs/custom_verifier_models.md).\n",
    "\n",
    "For test data, we'll use 20 examples of the wake phrase generated with the [Tortoise](https://github.com/neonbjb/tortoise-tts) TTS model. While this is also synthetic data, it's very high quality and trained on different data than the TTS models used to generate training data. For unrelated speech, an English [phonetic pangram](https://www.liquisearch.com/list_of_pangrams/english_phonetic_pangrams) sentence was generated with the same TTS voice.\n",
    "\n",
    "This example wake phrase clips and reference negative speech (phonetic pangram) are included in the openWakeWord repo (in the `notebooks/training_tutorial_data` directory)."
   ]
  },
  {
   "cell_type": "code",
   "execution_count": null,
   "id": "f6b88046",
   "metadata": {
    "ExecuteTime": {
     "end_time": "2023-02-18T03:45:18.538259Z",
     "start_time": "2023-02-18T03:45:18.525190Z"
    }
   },
   "outputs": [],
   "source": [
    "# Provide paths to positive and negative speech from the target speaker for training a custom\n",
    "# verifier model\n",
    "\n",
    "reference_clips = [str(i) for i in Path(\"training_tutorial_data/positive/\").glob(\"*.wav\")]\n",
    "negative_clips = [str(i) for i in Path(\"training_tutorial_data/negative/\").glob(\"*.wav\")]\n",
    "\n",
    "# Listen to one of the clips\n",
    "ipd.display(ipd.Audio(reference_clips[0], rate=16000, normalize=True, autoplay=False))"
   ]
  },
  {
   "cell_type": "markdown",
   "id": "937e0df5",
   "metadata": {},
   "source": [
    "Now that we have the data (note that all of the clips *must* be 16 khz, 16-bit PCM WAV files), we can train a custom verifier model. This is simply a scikit-learn logistic regression model, using the same audio features from the normal openWakeWord pre-processor, so it is very fast to train and adds negligble time to the openWakeWord inference engine."
   ]
  },
  {
   "cell_type": "code",
   "execution_count": null,
   "id": "7f965293",
   "metadata": {
    "ExecuteTime": {
     "end_time": "2023-02-18T03:45:57.606472Z",
     "start_time": "2023-02-18T03:45:56.587146Z"
    }
   },
   "outputs": [],
   "source": [
    "# Train verifier model on the reference clips\n",
    "\n",
    "output_model_path = \"turn_on_the_office_lights_verifier.pkl\"\n",
    "openwakeword.train_custom_verifier(\n",
    "    positive_reference_clips = reference_clips[0:3], # use 3 reference examples for the wake phrase\n",
    "    negative_reference_clips = negative_clips,\n",
    "    output_path = output_model_path,\n",
    "    model_name = \"turn_on_the_office_lights.onnx\"\n",
    ")\n"
   ]
  },
  {
   "cell_type": "markdown",
   "id": "4ad4d2ec",
   "metadata": {},
   "source": [
    "After the model is trained, we can instantiate a new openWakeWord instance and include the path to the trained verifier model, as well as set the threshold score from the base model required to invoke the verifier. In practice, you can set this threshold score a bit lower than normal, though as usual actual testing in the deployment environment is recommended."
   ]
  },
  {
   "cell_type": "code",
   "execution_count": null,
   "id": "50b99677",
   "metadata": {
    "ExecuteTime": {
     "end_time": "2023-02-18T03:46:01.357976Z",
     "start_time": "2023-02-18T03:46:01.146646Z"
    }
   },
   "outputs": [],
   "source": [
    "# Create openWakeWord instance with verifier model\n",
    "\n",
    "oww = openwakeword.Model(\n",
    "    wakeword_model_paths=[\"turn_on_the_office_lights.onnx\"],\n",
    "    enable_speex_noise_suppression=True,\n",
    "    vad_threshold=0.5,\n",
    "    custom_verifier_models={\"turn_on_the_office_lights\": \"turn_on_the_office_lights_verifier.pkl\"},\n",
    "    custom_verifier_threshold=0.3,\n",
    ")\n"
   ]
  },
  {
   "cell_type": "markdown",
   "id": "6666dadb",
   "metadata": {},
   "source": [
    "Finally, we can run the model on our test clip from the Santa Barbara corpus and see if the false activation rate has decreased to an acceptable level."
   ]
  },
  {
   "cell_type": "code",
   "execution_count": null,
   "id": "19fd5f51",
   "metadata": {
    "ExecuteTime": {
     "end_time": "2023-02-18T03:47:25.076640Z",
     "start_time": "2023-02-18T03:46:07.021368Z"
    }
   },
   "outputs": [],
   "source": [
    "# Run false-accept rate test again, now with the verifier model\n",
    "\n",
    "scores = oww.predict_clip(\"santa_barbara_corpus_test_clip.wav\")\n",
    "\n",
    "plt.figure()\n",
    "plt.plot([i[\"turn_on_the_office_lights\"] for i in scores])\n",
    "_ = plt.ylim(0,1)\n"
   ]
  },
  {
   "cell_type": "code",
   "execution_count": 30,
   "id": "c59007d2",
   "metadata": {
    "ExecuteTime": {
     "end_time": "2023-02-18T03:47:29.856142Z",
     "start_time": "2023-02-18T03:47:29.836354Z"
    }
   },
   "outputs": [
    {
     "name": "stdout",
     "output_type": "stream",
     "text": [
      "False-accept rate per hour: 0.0\n"
     ]
    }
   ],
   "source": [
    "# Calculate the false-accept rate per hour from this new result\n",
    "\n",
    "false_accepts = openwakeword.metrics.get_false_positives(\n",
    "    [i[\"turn_on_the_office_lights\"] for i in scores], threshold=0.5\n",
    ")\n",
    "\n",
    "print(f\"False-accept rate per hour: {false_accepts/1}\")"
   ]
  },
  {
   "cell_type": "markdown",
   "id": "7c7375c6",
   "metadata": {},
   "source": [
    "Sucess! Now the false-activation rate is at most <1 per hour given that there weren't any false-positives in our ~1 hour test clip, which is an orders of magnitude decrease! This model is now much closer to being ready for a production deployment, assuming that each user is known and can provide the neccessary data to train the verifier model."
   ]
  }
 ],
 "metadata": {
  "kernelspec": {
   "display_name": "Python 3",
   "language": "python",
   "name": "python3"
  },
  "language_info": {
   "codemirror_mode": {
    "name": "ipython",
    "version": 3
   },
   "file_extension": ".py",
   "mimetype": "text/x-python",
   "name": "python",
   "nbconvert_exporter": "python",
   "pygments_lexer": "ipython3",
   "version": "3.10.12"
  },
  "toc": {
   "base_numbering": 1,
   "nav_menu": {},
   "number_sections": true,
   "sideBar": true,
   "skip_h1_title": false,
   "title_cell": "Table of Contents",
   "title_sidebar": "Contents",
   "toc_cell": false,
   "toc_position": {
    "height": "calc(100% - 180px)",
    "left": "10px",
    "top": "150px",
    "width": "384px"
   },
   "toc_section_display": true,
   "toc_window_display": true
  }
 },
 "nbformat": 4,
 "nbformat_minor": 5
}
