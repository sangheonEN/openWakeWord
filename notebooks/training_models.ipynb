{
 "cells": [
  {
   "cell_type": "markdown",
   "id": "825fe381",
   "metadata": {},
   "source": [
    "# Introduction\n",
    "\n",
    "This notebook demonstrates the process of training a new openWakeWord model, using synthetic speech generated with open-source TTS models, and negative data representing music, noise, and speech. While the process here is complete, only small samples of datasets are utilized so that a new model can be trained on CPUs. In practice, much larger volumes of data (both positive and negitive examples) is needed to produce robust models. See the [documentation](https://github.com/dscripka/openWakeWord/tree/main/docs/models) for the pre-trained openWakeWord models for more information about how these models were trained."
   ]
  },
  {
   "cell_type": "markdown",
   "id": "bd8e4597",
   "metadata": {},
   "source": [
    "To start, we'll need to install the requirements needed to train new openWakeWord models."
   ]
  },
  {
   "cell_type": "code",
   "execution_count": null,
   "id": "1ba07a8f",
   "metadata": {},
   "outputs": [],
   "source": [
    "# Install requirements (it's recommended that you do this in a new virtual environment)\n",
    "\n",
    "# !pip install openwakeword\n",
    "# !pip install speechbrain\n",
    "# !pip install datasets\n",
    "# !pip install scipy matplotlib"
   ]
  },
  {
   "cell_type": "code",
   "execution_count": 1,
   "id": "c914b0c9",
   "metadata": {
    "ExecuteTime": {
     "end_time": "2023-02-18T03:26:26.308309Z",
     "start_time": "2023-02-18T03:26:24.785801Z"
    }
   },
   "outputs": [
    {
     "name": "stderr",
     "output_type": "stream",
     "text": [
      "/usr/local/lib/python3.10/dist-packages/tqdm/auto.py:21: TqdmWarning: IProgress not found. Please update jupyter and ipywidgets. See https://ipywidgets.readthedocs.io/en/stable/user_install.html\n",
      "  from .autonotebook import tqdm as notebook_tqdm\n",
      "INFO:speechbrain.utils.quirks:Applied quirks (see `speechbrain.utils.quirks`): [disable_jit_profiling, allow_tf32]\n",
      "INFO:speechbrain.utils.quirks:Excluded quirks specified by the `SB_DISABLE_QUIRKS` environment (comma-separated list): []\n",
      "INFO:datasets:PyTorch version 2.5.1 available.\n"
     ]
    }
   ],
   "source": [
    "# Imports\n",
    "\n",
    "import os\n",
    "import collections\n",
    "import numpy as np\n",
    "from numpy.lib.format import open_memmap\n",
    "from pathlib import Path\n",
    "from tqdm import tqdm\n",
    "import openwakeword\n",
    "import openwakeword.data\n",
    "import openwakeword.utils\n",
    "import openwakeword.metrics\n",
    "\n",
    "import scipy\n",
    "import datasets\n",
    "import matplotlib.pyplot as plt\n",
    "import torch\n",
    "from torch import nn\n",
    "import IPython.display as ipd"
   ]
  },
  {
   "cell_type": "markdown",
   "id": "b40a7f25",
   "metadata": {},
   "source": [
    "# Data Preparation"
   ]
  },
  {
   "cell_type": "markdown",
   "id": "aee94c6e",
   "metadata": {},
   "source": [
    "## Download Data"
   ]
  },
  {
   "cell_type": "markdown",
   "id": "00ea736a",
   "metadata": {},
   "source": [
    "Next we'll load the data used for training. For the purposes of this demonstration, we'll use a small set of positive and negative.\n",
    "\n",
    "For the positive data, there are ~3400 synthetic examples of the phrase \"turn on the office lights\" that were produced with the text-to-speech models documented in a [separate repo](https://github.com/dscripka/synthetic_speech_dataset_generation).\n",
    "\n",
    "These positive examples can be downloaded [here](https://f002.backblazeb2.com/file/openwakeword-resources/data/turn_on_the_office_lights.tar.gz).\n",
    "\n",
    "For negative data, we'll use small, already prepared samples of the [fma-large dataset](https://github.com/mdeff/fma) for music, the [FSD50k dataset](https://zenodo.org/record/4060432#.Y-hA2BzMJhE) for noise, and the [Common Voice 11](https://huggingface.co/datasets/mozilla-foundation/common_voice_11_0) dataset for speech.\n",
    "\n",
    "The fma-large sample can be downloaded [here](https://f002.backblazeb2.com/file/openwakeword-resources/data/fma_sample.zip), and then extracted into the working director.\n",
    "\n",
    "The FSD50k sample can be downloaded [here](https://f002.backblazeb2.com/file/openwakeword-resources/data/fsd50k_sample.zip), and then extracted into the working directory.\n",
    "\n",
    "And we'll use the HuggingFace Datasets library to get a portion of the test split of the Common Voice 11 (CV11) corpus.\n",
    "\n",
    "Note the data provided here is intended for non-commerical applications only; you will need to verify the license status of this (and other) data if you intend to use it for commerical purposes."
   ]
  },
  {
   "cell_type": "code",
   "execution_count": 2,
   "id": "a31f760c",
   "metadata": {
    "ExecuteTime": {
     "end_time": "2023-02-12T16:08:32.045657Z",
     "start_time": "2023-02-12T16:07:24.104475Z"
    }
   },
   "outputs": [
    {
     "name": "stderr",
     "output_type": "stream",
     "text": [
      "Reading metadata...: 16354it [00:00, 27539.12it/s]\n",
      "100%|██████████| 5000/5000 [01:08<00:00, 73.52it/s] \n"
     ]
    }
   ],
   "source": [
    "# 필요없음.\n",
    "# Download CV11 test split from HuggingFace, and convert the audio into 16 khz, 16-bit wav files\n",
    "\n",
    "cv_11 = datasets.load_dataset(\"mozilla-foundation/common_voice_11_0\", \"en\", split=\"test\", streaming=True)\n",
    "cv_11 = cv_11.cast_column(\"audio\", datasets.Audio(sampling_rate=16000, mono=True)) # convert to 16-khz\n",
    "cv_11 = iter(cv_11)\n",
    "\n",
    "# Convert and save clips (only first 5000)\n",
    "limit = 5000\n",
    "for i in tqdm(range(limit)):\n",
    "    example = next(cv_11)\n",
    "    output = os.path.join(\"cv11_test_clips\", example[\"path\"][0:-4] + \".wav\")\n",
    "    os.makedirs(os.path.dirname(output), exist_ok=True)\n",
    "\n",
    "    wav_data = (example[\"audio\"][\"array\"]*32767).astype(np.int16) # convert to 16-bit PCM format\n",
    "    scipy.io.wavfile.write(output, 16000, wav_data)\n"
   ]
  },
  {
   "cell_type": "markdown",
   "id": "0a12ab3d",
   "metadata": {
    "ExecuteTime": {
     "end_time": "2023-02-12T02:04:47.611837Z",
     "start_time": "2023-02-12T02:04:47.606080Z"
    }
   },
   "source": [
    "## Compute Audio Embeddings"
   ]
  },
  {
   "cell_type": "markdown",
   "id": "bfea6a2b",
   "metadata": {},
   "source": [
    "Once all the data is downloaded, we can now get the audio embeddings for the positive and negative clips. As this part of the openWakeWord model is frozen (i.e., not updated during training), it makes sense to pre-compute these features so that they only need to be prepared once."
   ]
  },
  {
   "cell_type": "code",
   "execution_count": null,
   "id": "5518caf2",
   "metadata": {},
   "outputs": [
    {
     "name": "stderr",
     "output_type": "stream",
     "text": [
      "embedding_model.tflite: 100%|██████████| 1.33M/1.33M [00:00<00:00, 1.99MiB/s]\n",
      "embedding_model.onnx: 100%|██████████| 1.33M/1.33M [00:00<00:00, 2.04MiB/s]\n",
      "melspectrogram.tflite: 100%|██████████| 1.09M/1.09M [00:00<00:00, 1.89MiB/s]\n",
      "melspectrogram.onnx: 100%|██████████| 1.09M/1.09M [00:00<00:00, 1.79MiB/s]\n",
      "silero_vad.onnx: 100%|██████████| 1.81M/1.81M [00:00<00:00, 2.52MiB/s]\n",
      "alexa_v0.1.tflite: 100%|██████████| 855k/855k [00:00<00:00, 1.52MiB/s]\n",
      "alexa_v0.1.onnx: 100%|██████████| 854k/854k [00:00<00:00, 1.49MiB/s]\n",
      "hey_mycroft_v0.1.tflite: 100%|██████████| 860k/860k [00:00<00:00, 1.49MiB/s]\n",
      "hey_mycroft_v0.1.onnx: 100%|██████████| 858k/858k [00:00<00:00, 1.46MiB/s]\n",
      "hey_jarvis_v0.1.tflite: 100%|██████████| 1.28M/1.28M [00:00<00:00, 1.89MiB/s]\n",
      "hey_jarvis_v0.1.onnx: 100%|██████████| 1.27M/1.27M [00:00<00:00, 1.90MiB/s]\n",
      "hey_rhasspy_v0.1.tflite: 100%|██████████| 416k/416k [00:00<00:00, 908kiB/s] \n",
      "hey_rhasspy_v0.1.onnx: 100%|██████████| 204k/204k [00:00<00:00, 645kiB/s] \n",
      "timer_v0.1.tflite: 100%|██████████| 1.74M/1.74M [00:00<00:00, 2.45MiB/s]\n",
      "timer_v0.1.onnx: 100%|██████████| 1.74M/1.74M [00:00<00:00, 2.45MiB/s]\n",
      "weather_v0.1.tflite: 100%|██████████| 1.15M/1.15M [00:00<00:00, 1.88MiB/s]\n",
      "weather_v0.1.onnx: 100%|██████████| 1.15M/1.15M [00:00<00:00, 1.73MiB/s]\n"
     ]
    }
   ],
   "source": [
    "\"\"\"\n",
    "NoSuchFile: [ONNXRuntimeError] : 3 : NO_SUCHFILE : Load model from /usr/local/lib/python3.10/dist-packages/openwakeword/resources/models/melspectrogram.onnx failed:Load model /usr/local/lib/python3.10/dist-packages/openwakeword/resources/models/melspectrogram.onnx failed. File doesn't exist\n",
    "위 같이 melspectrogram.onnx 모델 파일을 찾지 못함. 그래서 해당 코드를 적용하면, 자동으로 /usr/local/lib/python3.10/dist-packages/openwakeword/resources/models/ 경로에 필요한 모델 파일들이 다운로드 됨.\n",
    "\n",
    "root@f68474bc0b98:/usr/local/lib/python3.10/dist-packages/openwakeword/resources/models# ls\n",
    "alexa_v0.1.onnx    embedding_model.onnx    hey_jarvis_v0.1.onnx    hey_mycroft_v0.1.onnx    hey_rhasspy_v0.1.onnx    melspectrogram.onnx    silero_vad.onnx  timer_v0.1.tflite  weather_v0.1.tflite\n",
    "alexa_v0.1.tflite  embedding_model.tflite  hey_jarvis_v0.1.tflite  hey_mycroft_v0.1.tflite  hey_rhasspy_v0.1.tflite  melspectrogram.tflite  timer_v0.1.onnx  weather_v0.1.onnx\n",
    "\"\"\"\n",
    "from openwakeword.utils import download_models\n",
    "download_models()"
   ]
  },
  {
   "cell_type": "code",
   "execution_count": 39,
   "id": "473349ce",
   "metadata": {
    "ExecuteTime": {
     "end_time": "2023-02-18T03:26:45.282504Z",
     "start_time": "2023-02-18T03:26:45.093446Z"
    }
   },
   "outputs": [],
   "source": [
    "# Create audio pre-processing object to get openWakeWord audio embeddings\n",
    "\n",
    "F = openwakeword.utils.AudioFeatures()"
   ]
  },
  {
   "cell_type": "markdown",
   "id": "9e757355",
   "metadata": {
    "ExecuteTime": {
     "end_time": "2023-02-12T02:14:32.160470Z",
     "start_time": "2023-02-12T02:14:32.154438Z"
    }
   },
   "source": [
    "### Negative Clips"
   ]
  },
  {
   "cell_type": "code",
   "execution_count": 42,
   "id": "ab401215",
   "metadata": {
    "ExecuteTime": {
     "end_time": "2023-02-18T03:27:23.911209Z",
     "start_time": "2023-02-18T03:26:47.968057Z"
    }
   },
   "outputs": [
    {
     "name": "stderr",
     "output_type": "stream",
     "text": [
      "319it [00:00, 2470.04it/s]\n",
      "100%|██████████| 319/319 [00:01<00:00, 317.74it/s]"
     ]
    },
    {
     "name": "stdout",
     "output_type": "stream",
     "text": [
      "319 negative clips after filtering, representing ~0.0 hours\n"
     ]
    },
    {
     "name": "stderr",
     "output_type": "stream",
     "text": [
      "\n"
     ]
    }
   ],
   "source": [
    "# Get negative example paths, filtering out clips that are too long or too short\n",
    "\"\"\"\n",
    "filter_audio_paths 함수는 주어진 디렉토리에서 오디오 파일을 찾고, 지정된 조건(길이 등)에 맞는 오디오 파일만을 필터링\n",
    "\n",
    "\"\"\"\n",
    "\n",
    "negative_clips, negative_durations = openwakeword.data.filter_audio_paths(\n",
    "    [\n",
    "        \"/home/data/openwakeword/일반남여_일반통합12_M_honortome_29_기타_실내\"\n",
    "    ],\n",
    "    min_length_secs = 1.0, # minimum clip length in seconds\n",
    "    max_length_secs = 60*30, # maximum clip length in seconds\n",
    "    duration_method = \"header\" # use the file header to calculate duration\n",
    ")\n",
    "\n",
    "print(f\"{len(negative_clips)} negative clips after filtering, representing ~{sum(negative_durations)//3600} hours\")"
   ]
  },
  {
   "cell_type": "code",
   "execution_count": 43,
   "id": "221d8662",
   "metadata": {
    "ExecuteTime": {
     "end_time": "2023-02-18T03:28:06.568812Z",
     "start_time": "2023-02-18T03:28:06.524651Z"
    }
   },
   "outputs": [],
   "source": [
    "# Use HuggingFace datasets to load files from disk by batches\n",
    "\n",
    "audio_dataset = datasets.Dataset.from_dict({\"audio\": negative_clips})\n",
    "audio_dataset = audio_dataset.cast_column(\"audio\", datasets.Audio(sampling_rate=16000))"
   ]
  },
  {
   "cell_type": "code",
   "execution_count": 44,
   "id": "37ec1163",
   "metadata": {
    "ExecuteTime": {
     "end_time": "2023-02-18T03:30:38.082245Z",
     "start_time": "2023-02-18T03:29:08.355371Z"
    }
   },
   "outputs": [
    {
     "name": "stderr",
     "output_type": "stream",
     "text": [
      "  0%|          | 0/5 [00:00<?, ?it/s]"
     ]
    },
    {
     "name": "stderr",
     "output_type": "stream",
     "text": [
      " 80%|████████  | 4/5 [00:04<00:01,  1.12s/it]\n",
      "Trimming empty rows: 1it [00:00, 71.70it/s]\n"
     ]
    }
   ],
   "source": [
    "# Get audio embeddings (features) for negative clips and save to .npy file\n",
    "# Process files by batch and save to Numpy memory mapped file so that\n",
    "# an array larger than the available system memory can be created\n",
    "\n",
    "batch_size = 64 # number of files to load, compute features, and write to mmap at a time\n",
    "clip_size = 3  # the desired window size (in seconds) for the trained openWakeWord model\n",
    "N_total = int(sum(negative_durations)//clip_size) # maximum number of rows in mmap file\n",
    "n_feature_cols = F.get_embedding_shape(clip_size)\n",
    "\n",
    "output_file = \"negative_features.npy\"\n",
    "output_array_shape = (N_total, n_feature_cols[0], n_feature_cols[1])\n",
    "fp = open_memmap(output_file, mode='w+', dtype=np.float32, shape=output_array_shape)\n",
    "\n",
    "row_counter = 0\n",
    "for i in tqdm(np.arange(0, audio_dataset.num_rows, batch_size)):\n",
    "    # Load data in batches and shape into rectangular array\n",
    "    wav_data = [(j[\"array\"]*32767).astype(np.int16) for j in audio_dataset[i:i+batch_size][\"audio\"]]\n",
    "    wav_data = openwakeword.data.stack_clips(wav_data, clip_size=16000*clip_size).astype(np.int16)\n",
    "    \n",
    "    # Compute features (increase ncpu argument for faster processing)\n",
    "    features = F.embed_clips(x=wav_data, batch_size=1024, ncpu=8)\n",
    "    \n",
    "    # Save computed features to mmap array file (stopping once the desired size is reached)\n",
    "    if row_counter + features.shape[0] > N_total:\n",
    "        fp[row_counter:min(row_counter+features.shape[0], N_total), :, :] = features[0:N_total - row_counter, :, :]\n",
    "        fp.flush()\n",
    "        break\n",
    "    else:\n",
    "        fp[row_counter:row_counter+features.shape[0], :, :] = features\n",
    "        row_counter += features.shape[0]\n",
    "        fp.flush()\n",
    "        \n",
    "# Trip empty rows from the mmapped array\n",
    "openwakeword.data.trim_mmap(output_file)"
   ]
  },
  {
   "cell_type": "markdown",
   "id": "c60aa86d",
   "metadata": {},
   "source": [
    "Now we have all of the negative features prepared, and saved to fixed durations clips in a Numpy array. For this data, the array is small at ~160 MB, but in-practice the memory mapping allows the array to be very large (e.g., 100s of GBs)."
   ]
  },
  {
   "cell_type": "markdown",
   "id": "1b49b9c6",
   "metadata": {},
   "source": [
    "### Positive Clips"
   ]
  },
  {
   "cell_type": "markdown",
   "id": "6f3f9ed0",
   "metadata": {},
   "source": [
    "First, [download](https://f002.backblazeb2.com/file/openwakeword-resources/data/turn_on_the_office_lights.tar.gz) and extract the positive clips into the working directory.\n",
    "\n",
    "Then the positive clips will be prepared in two way:\n",
    "\n",
    "1) Mixing the synthetic positive clips with negative data at random SNRs to simulate noise data\n",
    "\n",
    "2) Aligning the positive clips with background data such that the end of the input window aligns with the end of the positive clip. This way the model will learn to predict the presence of the wakeword/phrase immediately after it is spoken.\n",
    "\n",
    "In practice, there are other possible ways to augment the positive data (e.g., creating reverberation with room impulse response files, mixing with synthetic noise, etc.) but in practice we have observed that mixing with realistic background data provides the best results. Again, see the [documentation](https://github.com/dscripka/openWakeWord/tree/main/docs/models) for the pre-trained openWakeWord models for more information about the types of data augmentation used.\n",
    "\n",
    "After this prepartion, the positive clips will be converted into the openWakeWord features in the same way as the negative files."
   ]
  },
  {
   "cell_type": "code",
   "execution_count": 6,
   "id": "54d973c8",
   "metadata": {},
   "outputs": [
    {
     "name": "stdout",
     "output_type": "stream",
     "text": [
      "cv11_test_clips  openwakeword\n"
     ]
    }
   ],
   "source": [
    "!cd /home/data && ls"
   ]
  },
  {
   "cell_type": "code",
   "execution_count": 45,
   "id": "fe1964fb",
   "metadata": {
    "ExecuteTime": {
     "end_time": "2023-02-18T03:31:01.912793Z",
     "start_time": "2023-02-18T03:30:43.623741Z"
    }
   },
   "outputs": [
    {
     "name": "stderr",
     "output_type": "stream",
     "text": [
      "56it [00:00, 2048.98it/s]\n",
      "100%|██████████| 56/56 [00:00<00:00, 387.10it/s]"
     ]
    },
    {
     "name": "stdout",
     "output_type": "stream",
     "text": [
      "48 positive clips after filtering\n"
     ]
    },
    {
     "name": "stderr",
     "output_type": "stream",
     "text": [
      "\n"
     ]
    }
   ],
   "source": [
    "# Get positive example paths, filtering out clips that are too long or too short\n",
    "\n",
    "positive_clips, durations = openwakeword.data.filter_audio_paths(\n",
    "    [\n",
    "        \"/home/data/openwakeword/openwakeword_positive_sample\"\n",
    "    ],\n",
    "    # min_length_secs = 1.0, # minimum clip length in seconds\n",
    "    min_length_secs = 1.0, # minimum clip length in seconds\n",
    "    max_length_secs = 2.0, # maximum clip length in seconds\n",
    "    duration_method = \"header\" # use the file header to calculate duration\n",
    ")\n",
    "\n",
    "print(f\"{len(positive_clips)} positive clips after filtering\")"
   ]
  },
  {
   "cell_type": "code",
   "execution_count": 102,
   "id": "5d9dc47b",
   "metadata": {
    "ExecuteTime": {
     "end_time": "2023-02-18T03:31:05.710564Z",
     "start_time": "2023-02-18T03:31:05.699618Z"
    }
   },
   "outputs": [],
   "source": [
    "# Define starting point for each positive clip based on its length, so that each one ends \n",
    "# between 0-200 ms from the end of the total window size chosen for the model.\n",
    "# This results in the model being most confident in the prediction right after the\n",
    "# end of the wakeword in the audio stream, reducing latency in operation.\n",
    "\n",
    "# Get start and end positions for the positive audio in the full window\n",
    "sr = 16000\n",
    "total_length_seconds = 3 # must be the some window length as that used for the negative examples\n",
    "total_length = int(sr*total_length_seconds)\n",
    "\n",
    "jitters = (np.random.uniform(0, 0.2, len(positive_clips))*sr).astype(np.int32)\n",
    "starts = [total_length - (int(np.ceil(i*sr))+j) for i,j in zip(durations, jitters)]\n",
    "ends = [int(i*sr) + j for i, j in zip(durations, starts)]\n",
    "\n",
    "# Create generator to mix the positive audio with background audio\n",
    "batch_size = 8\n",
    "mixing_generator = openwakeword.data.mix_clips_batch(\n",
    "    foreground_clips = positive_clips,\n",
    "    background_clips = negative_clips,\n",
    "    combined_size = total_length,\n",
    "    batch_size = batch_size,\n",
    "    snr_low = 5,\n",
    "    snr_high = 15,\n",
    "    start_index = starts,\n",
    "    volume_augmentation=True, # randomly scale the volume of the audio after mixing\n",
    ")\n"
   ]
  },
  {
   "cell_type": "code",
   "execution_count": 37,
   "id": "70898754",
   "metadata": {
    "ExecuteTime": {
     "end_time": "2023-02-12T03:35:32.377177Z",
     "start_time": "2023-02-12T03:35:32.349576Z"
    }
   },
   "outputs": [
    {
     "ename": "StopIteration",
     "evalue": "",
     "output_type": "error",
     "traceback": [
      "\u001b[0;31m---------------------------------------------------------------------------\u001b[0m",
      "\u001b[0;31mStopIteration\u001b[0m                             Traceback (most recent call last)",
      "Cell \u001b[0;32mIn[37], line 2\u001b[0m\n\u001b[1;32m      1\u001b[0m \u001b[38;5;66;03m# (Optionally) listen to mixed clips to confirm that the mixing appears correct\u001b[39;00m\n\u001b[0;32m----> 2\u001b[0m mixed_clips, labels, background_clips \u001b[38;5;241m=\u001b[39m \u001b[38;5;28;43mnext\u001b[39;49m\u001b[43m(\u001b[49m\u001b[43mmixing_generator\u001b[49m\u001b[43m)\u001b[49m\n\u001b[1;32m      3\u001b[0m ipd\u001b[38;5;241m.\u001b[39mdisplay(ipd\u001b[38;5;241m.\u001b[39mAudio(mixed_clips[\u001b[38;5;241m0\u001b[39m], rate\u001b[38;5;241m=\u001b[39m\u001b[38;5;241m16000\u001b[39m, normalize\u001b[38;5;241m=\u001b[39m\u001b[38;5;28;01mTrue\u001b[39;00m, autoplay\u001b[38;5;241m=\u001b[39m\u001b[38;5;28;01mFalse\u001b[39;00m))\n",
      "\u001b[0;31mStopIteration\u001b[0m: "
     ]
    }
   ],
   "source": [
    "# (Optionally) listen to mixed clips to confirm that the mixing appears correct\n",
    "mixed_clips, labels, background_clips = next(mixing_generator)\n",
    "ipd.display(ipd.Audio(mixed_clips[0], rate=16000, normalize=True, autoplay=False))"
   ]
  },
  {
   "cell_type": "code",
   "execution_count": 107,
   "id": "621c2ee6",
   "metadata": {
    "ExecuteTime": {
     "end_time": "2023-02-18T03:33:35.853508Z",
     "start_time": "2023-02-18T03:31:44.655774Z"
    }
   },
   "outputs": [
    {
     "name": "stdout",
     "output_type": "stream",
     "text": [
      "N_total: 48, n_feature_cols[0]: 28, n_feature_cols[1]: 96\n",
      "fp: [[[0. 0. 0. ... 0. 0. 0.]\n",
      "  [0. 0. 0. ... 0. 0. 0.]\n",
      "  [0. 0. 0. ... 0. 0. 0.]\n",
      "  ...\n",
      "  [0. 0. 0. ... 0. 0. 0.]\n",
      "  [0. 0. 0. ... 0. 0. 0.]\n",
      "  [0. 0. 0. ... 0. 0. 0.]]\n",
      "\n",
      " [[0. 0. 0. ... 0. 0. 0.]\n",
      "  [0. 0. 0. ... 0. 0. 0.]\n",
      "  [0. 0. 0. ... 0. 0. 0.]\n",
      "  ...\n",
      "  [0. 0. 0. ... 0. 0. 0.]\n",
      "  [0. 0. 0. ... 0. 0. 0.]\n",
      "  [0. 0. 0. ... 0. 0. 0.]]\n",
      "\n",
      " [[0. 0. 0. ... 0. 0. 0.]\n",
      "  [0. 0. 0. ... 0. 0. 0.]\n",
      "  [0. 0. 0. ... 0. 0. 0.]\n",
      "  ...\n",
      "  [0. 0. 0. ... 0. 0. 0.]\n",
      "  [0. 0. 0. ... 0. 0. 0.]\n",
      "  [0. 0. 0. ... 0. 0. 0.]]\n",
      "\n",
      " ...\n",
      "\n",
      " [[0. 0. 0. ... 0. 0. 0.]\n",
      "  [0. 0. 0. ... 0. 0. 0.]\n",
      "  [0. 0. 0. ... 0. 0. 0.]\n",
      "  ...\n",
      "  [0. 0. 0. ... 0. 0. 0.]\n",
      "  [0. 0. 0. ... 0. 0. 0.]\n",
      "  [0. 0. 0. ... 0. 0. 0.]]\n",
      "\n",
      " [[0. 0. 0. ... 0. 0. 0.]\n",
      "  [0. 0. 0. ... 0. 0. 0.]\n",
      "  [0. 0. 0. ... 0. 0. 0.]\n",
      "  ...\n",
      "  [0. 0. 0. ... 0. 0. 0.]\n",
      "  [0. 0. 0. ... 0. 0. 0.]\n",
      "  [0. 0. 0. ... 0. 0. 0.]]\n",
      "\n",
      " [[0. 0. 0. ... 0. 0. 0.]\n",
      "  [0. 0. 0. ... 0. 0. 0.]\n",
      "  [0. 0. 0. ... 0. 0. 0.]\n",
      "  ...\n",
      "  [0. 0. 0. ... 0. 0. 0.]\n",
      "  [0. 0. 0. ... 0. 0. 0.]\n",
      "  [0. 0. 0. ... 0. 0. 0.]]], fp.shape: (48, 28, 96)\n"
     ]
    },
    {
     "name": "stderr",
     "output_type": "stream",
     "text": [
      "  0%|          | 0/6 [00:00<?, ?it/s]\n"
     ]
    },
    {
     "ename": "IndexError",
     "evalue": "index -49 is out of bounds for axis 0 with size 48",
     "output_type": "error",
     "traceback": [
      "\u001b[0;31m---------------------------------------------------------------------------\u001b[0m",
      "\u001b[0;31mIndexError\u001b[0m                                Traceback (most recent call last)",
      "Cell \u001b[0;32mIn[107], line 37\u001b[0m\n\u001b[1;32m     33\u001b[0m \u001b[38;5;66;03m# Trip empty rows from the mmapped array\u001b[39;00m\n\u001b[1;32m     34\u001b[0m \u001b[38;5;124;03m\"\"\"\u001b[39;00m\n\u001b[1;32m     35\u001b[0m \u001b[38;5;124;03m이 코드는 **메모리 매핑된 numpy 배열(Memory-Mapped Array)**에서 빈 행을 제거하고 새 파일로 저장하는 기능을 수행합니다.\u001b[39;00m\n\u001b[1;32m     36\u001b[0m \u001b[38;5;124;03m\"\"\"\u001b[39;00m\n\u001b[0;32m---> 37\u001b[0m \u001b[43mopenwakeword\u001b[49m\u001b[38;5;241;43m.\u001b[39;49m\u001b[43mdata\u001b[49m\u001b[38;5;241;43m.\u001b[39;49m\u001b[43mtrim_mmap\u001b[49m\u001b[43m(\u001b[49m\u001b[43moutput_file\u001b[49m\u001b[43m)\u001b[49m\n",
      "File \u001b[0;32m/usr/local/lib/python3.10/dist-packages/openwakeword/data.py:870\u001b[0m, in \u001b[0;36mtrim_mmap\u001b[0;34m(mmap_path)\u001b[0m\n\u001b[1;32m    868\u001b[0m mmap_file1 \u001b[38;5;241m=\u001b[39m np\u001b[38;5;241m.\u001b[39mload(mmap_path, mmap_mode\u001b[38;5;241m=\u001b[39m\u001b[38;5;124m'\u001b[39m\u001b[38;5;124mr\u001b[39m\u001b[38;5;124m'\u001b[39m)\n\u001b[1;32m    869\u001b[0m i \u001b[38;5;241m=\u001b[39m \u001b[38;5;241m-\u001b[39m\u001b[38;5;241m1\u001b[39m\n\u001b[0;32m--> 870\u001b[0m \u001b[38;5;28;01mwhile\u001b[39;00m np\u001b[38;5;241m.\u001b[39mall(\u001b[43mmmap_file1\u001b[49m\u001b[43m[\u001b[49m\u001b[43mi\u001b[49m\u001b[43m,\u001b[49m\u001b[43m \u001b[49m\u001b[43m:\u001b[49m\u001b[43m,\u001b[49m\u001b[43m \u001b[49m\u001b[43m:\u001b[49m\u001b[43m]\u001b[49m \u001b[38;5;241m==\u001b[39m \u001b[38;5;241m0\u001b[39m):\n\u001b[1;32m    871\u001b[0m     i \u001b[38;5;241m-\u001b[39m\u001b[38;5;241m=\u001b[39m \u001b[38;5;241m1\u001b[39m\n\u001b[1;32m    873\u001b[0m N_new \u001b[38;5;241m=\u001b[39m mmap_file1\u001b[38;5;241m.\u001b[39mshape[\u001b[38;5;241m0\u001b[39m] \u001b[38;5;241m+\u001b[39m i \u001b[38;5;241m+\u001b[39m \u001b[38;5;241m1\u001b[39m\n",
      "File \u001b[0;32m/usr/local/lib/python3.10/dist-packages/numpy/core/memmap.py:335\u001b[0m, in \u001b[0;36mmemmap.__getitem__\u001b[0;34m(self, index)\u001b[0m\n\u001b[1;32m    334\u001b[0m \u001b[38;5;28;01mdef\u001b[39;00m \u001b[38;5;21m__getitem__\u001b[39m(\u001b[38;5;28mself\u001b[39m, index):\n\u001b[0;32m--> 335\u001b[0m     res \u001b[38;5;241m=\u001b[39m \u001b[38;5;28;43msuper\u001b[39;49m\u001b[43m(\u001b[49m\u001b[43m)\u001b[49m\u001b[38;5;241;43m.\u001b[39;49m\u001b[38;5;21;43m__getitem__\u001b[39;49m\u001b[43m(\u001b[49m\u001b[43mindex\u001b[49m\u001b[43m)\u001b[49m\n\u001b[1;32m    336\u001b[0m     \u001b[38;5;28;01mif\u001b[39;00m \u001b[38;5;28mtype\u001b[39m(res) \u001b[38;5;129;01mis\u001b[39;00m memmap \u001b[38;5;129;01mand\u001b[39;00m res\u001b[38;5;241m.\u001b[39m_mmap \u001b[38;5;129;01mis\u001b[39;00m \u001b[38;5;28;01mNone\u001b[39;00m:\n\u001b[1;32m    337\u001b[0m         \u001b[38;5;28;01mreturn\u001b[39;00m res\u001b[38;5;241m.\u001b[39mview(\u001b[38;5;28mtype\u001b[39m\u001b[38;5;241m=\u001b[39mndarray)\n",
      "\u001b[0;31mIndexError\u001b[0m: index -49 is out of bounds for axis 0 with size 48"
     ]
    }
   ],
   "source": [
    "# Iterate through the mixing generator, computing audio features for positive examples and saving them\n",
    "\"\"\"\n",
    "np\n",
    "\n",
    "\"\"\"\n",
    "N_total = len(positive_clips) # maximum number of rows in mmap file\n",
    "n_feature_cols = F.get_embedding_shape(total_length_seconds)\n",
    "# output_file = \"turn_on_the_office_lights_features.npy\"\n",
    "output_file = \"hey_thomas.npy\"\n",
    "output_array_shape = (N_total, n_feature_cols[0], n_feature_cols[1])\n",
    "# print(f\"N_total: {N_total}, n_feature_cols[0]: {n_feature_cols[0]}, n_feature_cols[1]: {n_feature_cols[1]}\")\n",
    "\n",
    "# fp is numpy.memmap\n",
    "fp = open_memmap(output_file, mode='w+', dtype=np.float32, shape=output_array_shape)\n",
    "# print(f\"fp: {fp}, fp.shape: {fp.shape}\")\n",
    "\n",
    "\n",
    "row_counter = 0\n",
    "for batch in tqdm(mixing_generator, total=N_total//batch_size):\n",
    "    batch, lbls, background = batch[0], batch[1], batch[2]\n",
    "    \n",
    "    # Compute audio features\n",
    "    features = F.embed_clips(batch, batch_size=256)\n",
    "\n",
    "    # Save computed features\n",
    "    fp[row_counter:row_counter+features.shape[0], :, :] = features\n",
    "    row_counter += features.shape[0]\n",
    "    fp.flush()\n",
    "    \n",
    "    if row_counter >= N_total:\n",
    "        break\n",
    "\n",
    "# Trip empty rows from the mmapped array\n",
    "\"\"\"\n",
    "이 코드는 **메모리 매핑된 numpy 배열(Memory-Mapped Array)**에서 빈 행을 제거하고 새 파일로 저장하는 기능을 수행합니다.\n",
    "\"\"\"\n",
    "openwakeword.data.trim_mmap(output_file)\n"
   ]
  },
  {
   "cell_type": "markdown",
   "id": "77a31736",
   "metadata": {},
   "source": [
    "Alright! At this point the positive and negative features have been pre-computed and saved to disk, and now a model can be trained that takes these features and predicts whether the wakeword/phrase is present."
   ]
  },
  {
   "cell_type": "markdown",
   "id": "cab316e2",
   "metadata": {},
   "source": [
    "# Training the Model"
   ]
  },
  {
   "cell_type": "markdown",
   "id": "a514773d",
   "metadata": {},
   "source": [
    "At this point, you are free to use any type of model that you like, but in practice we've observed that a simple full-connected neural network can often perform quite well. For this example notebook, we'll create and train this network in Pytorch, but any framework that can export a model to the [ONNX](https://onnx.ai/) format will also work."
   ]
  },
  {
   "cell_type": "markdown",
   "id": "f0dab37e",
   "metadata": {},
   "source": [
    "## Loading Data"
   ]
  },
  {
   "cell_type": "code",
   "execution_count": 75,
   "id": "c7ed4de5",
   "metadata": {
    "ExecuteTime": {
     "end_time": "2023-02-18T03:33:52.884948Z",
     "start_time": "2023-02-18T03:33:51.191681Z"
    }
   },
   "outputs": [],
   "source": [
    "# Load the data prepared in previous steps (it's small enough to load entirely in memory)\n",
    "\n",
    "negative_features = np.load(\"negative_features.npy\")\n",
    "positive_features = np.load(\"hey_thomas.npy\")\n",
    "\n",
    "X = np.vstack((negative_features, positive_features))\n",
    "y = np.array([0]*len(negative_features) + [1]*len(positive_features)).astype(np.float32)[...,None]\n",
    "\n",
    "# Make Pytorch dataloader\n",
    "# batch_size = 512\n",
    "batch_size = 8\n",
    "training_data = torch.utils.data.DataLoader(\n",
    "    torch.utils.data.TensorDataset(torch.from_numpy(X), torch.from_numpy(y)),\n",
    "    batch_size = batch_size,\n",
    "    shuffle = True\n",
    ")\n"
   ]
  },
  {
   "cell_type": "markdown",
   "id": "1d1ba9e4",
   "metadata": {},
   "source": [
    "## Define Model"
   ]
  },
  {
   "cell_type": "code",
   "execution_count": 76,
   "id": "d7c71798",
   "metadata": {
    "ExecuteTime": {
     "end_time": "2023-02-18T03:33:54.913238Z",
     "start_time": "2023-02-18T03:33:54.896447Z"
    }
   },
   "outputs": [],
   "source": [
    "# Define fully-connected network in PyTorch\n",
    "\n",
    "# layer_dim = 32\n",
    "layer_dim = 64\n",
    "fcn = nn.Sequential(\n",
    "                    nn.Flatten(),\n",
    "                    nn.Linear(X.shape[1]*X.shape[2], layer_dim), # since the input is flattened, it's timesteps*feature columns\n",
    "                    nn.LayerNorm(layer_dim),\n",
    "                    nn.ReLU(),\n",
    "                    nn.Linear(layer_dim, layer_dim),\n",
    "                    nn.LayerNorm(layer_dim),\n",
    "                    nn.ReLU(),\n",
    "                    nn.Linear(layer_dim, 1),\n",
    "                    nn.Sigmoid(),\n",
    "                )\n",
    "\n",
    "loss_function = torch.nn.functional.binary_cross_entropy\n",
    "optimizer = torch.optim.Adam(fcn.parameters(), lr=0.001)\n"
   ]
  },
  {
   "cell_type": "markdown",
   "id": "6bb834c1",
   "metadata": {},
   "source": [
    "## Train Model"
   ]
  },
  {
   "cell_type": "code",
   "execution_count": 77,
   "id": "5bc28f8b",
   "metadata": {
    "ExecuteTime": {
     "end_time": "2023-02-18T03:33:59.286835Z",
     "start_time": "2023-02-18T03:33:57.795926Z"
    }
   },
   "outputs": [
    {
     "name": "stderr",
     "output_type": "stream",
     "text": [
      "100%|██████████| 10/10 [00:00<00:00, 71.14it/s]\n"
     ]
    }
   ],
   "source": [
    "# Define training loop, metrics, and logging\n",
    "\n",
    "# n_epochs = 50\n",
    "n_epochs = 10\n",
    "history = collections.defaultdict(list)\n",
    "for i in tqdm(range(n_epochs), total=n_epochs):\n",
    "    for batch in training_data:\n",
    "        # Get data for batch\n",
    "        x, y = batch[0], batch[1]\n",
    "        \n",
    "        # Get weights for classes, and assign 10x higher weight to negative class\n",
    "        # to help the model learn to not have too many false-positives\n",
    "        # As you have more data (both positive and negative), this is less important\n",
    "        weights = torch.ones(y.shape[0])\n",
    "        weights[y.flatten() == 1] = 0.1\n",
    "        \n",
    "        # Zero gradients\n",
    "        optimizer.zero_grad()\n",
    "        \n",
    "        # Run forward pass\n",
    "        predictions = fcn(x)\n",
    "        \n",
    "        # Update model parameters\n",
    "        loss = loss_function(predictions, y, weights[..., None])\n",
    "        loss.backward()\n",
    "        optimizer.step()\n",
    "        \n",
    "        # Log metrics\n",
    "        history['loss'].append(float(loss.detach().numpy()))\n",
    "        \n",
    "        tp = sum(predictions.flatten()[y.flatten() == 1] >= 0.5)\n",
    "        fn = sum(predictions.flatten()[y.flatten() == 1] < 0.5)\n",
    "        history['recall'].append(float(tp/(tp+fn).detach().numpy()))\n"
   ]
  },
  {
   "cell_type": "code",
   "execution_count": 78,
   "id": "4231dd84",
   "metadata": {
    "ExecuteTime": {
     "end_time": "2023-02-18T03:34:01.172348Z",
     "start_time": "2023-02-18T03:34:01.043030Z"
    }
   },
   "outputs": [
    {
     "data": {
      "text/plain": [
       "(0.0, 1.0)"
      ]
     },
     "execution_count": 78,
     "metadata": {},
     "output_type": "execute_result"
    },
    {
     "data": {
      "image/png": "[encoded data removed]",
      "text/plain": [
       "<Figure size 640x480 with 1 Axes>"
      ]
     },
     "metadata": {},
     "output_type": "display_data"
    }
   ],
   "source": [
    "# Plot training metrics\n",
    "\n",
    "plt.figure()\n",
    "plt.plot(history['loss'], label=\"loss\")\n",
    "plt.plot(history['recall'], label=\"recall\")\n",
    "plt.legend()\n",
    "plt.ylim(0,1)\n"
   ]
  },
  {
   "cell_type": "markdown",
   "id": "03a3ae78",
   "metadata": {},
   "source": [
    "## Try the Model on an Example Clip"
   ]
  },
  {
   "cell_type": "markdown",
   "id": "65c43bb6",
   "metadata": {},
   "source": [
    "To confirm that the model is working as expected, let's test it on an example audio file (obtained from Youtube) of someone talking and then saying the phrase \"turn on the office lights\" at the end of the clip. We'll simulate how the model would be used in production, by predicting every 80 ms (1280 samples) and plotting the predictions over time.\n",
    "\n",
    "This clip is a good sanity test to confirm the model is performing in the right way, as it contains about ~30 seconds of speech that does no contain the target phrase, but does contain related words (e.g., \"lights\") that should not result in an activation. So ideally, the model scores are low up to the end of the recording, where there should then be a spike right after the target spoken phrase."
   ]
  },
  {
   "cell_type": "code",
   "execution_count": 81,
   "id": "d6ad350e",
   "metadata": {
    "ExecuteTime": {
     "end_time": "2023-02-18T03:38:17.596854Z",
     "start_time": "2023-02-18T03:38:16.926888Z"
    }
   },
   "outputs": [
    {
     "name": "stderr",
     "output_type": "stream",
     "text": [
      "  0%|          | 0/129 [00:00<?, ?it/s]/tmp/ipykernel_1226599/3684828938.py:13: DeprecationWarning: Conversion of an array with ndim > 0 to a scalar is deprecated, and will error in future. Ensure you extract a single element from your array before performing this operation. (Deprecated NumPy 1.25.)\n",
      "  scores.append(float(fcn(torch.from_numpy(window)).detach().numpy()))\n",
      "100%|██████████| 129/129 [00:00<00:00, 4695.28it/s]\n"
     ]
    },
    {
     "data": {
      "image/png": "[encoded data removed]",
      "text/plain": [
       "<Figure size 640x480 with 1 Axes>"
      ]
     },
     "metadata": {},
     "output_type": "display_data"
    }
   ],
   "source": [
    "# Load data\n",
    "# sr, dat = scipy.io.wavfile.read(\"/home/data/openwakeword/openwakeword_test_sample/KsponSpeech_000002.wav\")\n",
    "sr, dat = scipy.io.wavfile.read(\"/home/openWakeWord/sample_data/fixed_hey_thomas.wav\")\n",
    "\n",
    "# Pre-compute audio features using helper function\n",
    "features = F._get_embeddings(dat)\n",
    "\n",
    "# Get predictions for each window\n",
    "scores = []\n",
    "for i in tqdm(range(0, features.shape[0]-28)): # 28 is the number of timestep frames for this model\n",
    "    window = features[i:i+28][None,]\n",
    "    with torch.no_grad():\n",
    "        scores.append(float(fcn(torch.from_numpy(window)).detach().numpy()))\n",
    "    \n",
    "plt.figure()\n",
    "_ = plt.plot(scores)\n",
    "_ = plt.ylim(0,1)\n"
   ]
  },
  {
   "cell_type": "code",
   "execution_count": 80,
   "id": "9f0ceb86",
   "metadata": {},
   "outputs": [
    {
     "name": "stderr",
     "output_type": "stream",
     "text": [
      "/tmp/ipykernel_1226599/3290251235.py:2: WavFileWarning: Chunk (non-data) not understood, skipping it.\n",
      "  sr, dat = scipy.io.wavfile.read(\"/home/data/openwakeword/일반남여_일반통합12_M_honortome_29_기타_실내/일반남여_일반통합12_M_honortome_29_기타_실내_16646.wav\")\n",
      "  0%|          | 0/30 [00:00<?, ?it/s]/tmp/ipykernel_1226599/3290251235.py:12: DeprecationWarning: Conversion of an array with ndim > 0 to a scalar is deprecated, and will error in future. Ensure you extract a single element from your array before performing this operation. (Deprecated NumPy 1.25.)\n",
      "  scores.append(float(fcn(torch.from_numpy(window)).detach().numpy()))\n",
      "100%|██████████| 30/30 [00:00<00:00, 5425.54it/s]\n"
     ]
    },
    {
     "data": {
      "image/png": "[encoded data removed]",
      "text/plain": [
       "<Figure size 640x480 with 1 Axes>"
      ]
     },
     "metadata": {},
     "output_type": "display_data"
    }
   ],
   "source": [
    "# Load data\n",
    "sr, dat = scipy.io.wavfile.read(\"/home/data/openwakeword/일반남여_일반통합12_M_honortome_29_기타_실내/일반남여_일반통합12_M_honortome_29_기타_실내_16646.wav\")\n",
    "\n",
    "# Pre-compute audio features using helper function\n",
    "features = F._get_embeddings(dat)\n",
    "\n",
    "# Get predictions for each window\n",
    "scores = []\n",
    "for i in tqdm(range(0, features.shape[0]-28)): # 28 is the number of timestep frames for this model\n",
    "    window = features[i:i+28][None,]\n",
    "    with torch.no_grad():\n",
    "        scores.append(float(fcn(torch.from_numpy(window)).detach().numpy()))\n",
    "    \n",
    "plt.figure()\n",
    "_ = plt.plot(scores)\n",
    "_ = plt.ylim(0,1)"
   ]
  },
  {
   "cell_type": "markdown",
   "id": "6531eefd",
   "metadata": {},
   "source": [
    "Overall, the model is working well on this test clip. There are a few spikes around the word \"lights\" spoken in other contexts, but the clear activation is around the entire phrase.\n",
    "\n",
    "To make this test a little more difficult, let's arbitrarily mix the test clip with some background music from the fma-large dataset at a low signal-to-noise ratio to simulate a more realistic (and challenging) scenario. Listen to the clip below to get a more intuitive feel of what the type of audio environment this represents."
   ]
  },
  {
   "cell_type": "code",
   "execution_count": 83,
   "id": "2f72631b",
   "metadata": {
    "ExecuteTime": {
     "end_time": "2023-02-18T03:40:11.733430Z",
     "start_time": "2023-02-18T03:40:11.721719Z"
    }
   },
   "outputs": [
    {
     "name": "stderr",
     "output_type": "stream",
     "text": [
      "/tmp/ipykernel_1226599/3830483547.py:3: WavFileWarning: Chunk (non-data) not understood, skipping it.\n",
      "  _, dat_music = scipy.io.wavfile.read(\"/home/data/openwakeword/일반남여_일반통합12_M_honortome_29_기타_실내/일반남여_일반통합12_M_honortome_29_기타_실내_16646.wav\")\n"
     ]
    },
    {
     "ename": "ValueError",
     "evalue": "operands could not be broadcast together with shapes (24266,) (86558,) ",
     "output_type": "error",
     "traceback": [
      "\u001b[0;31m---------------------------------------------------------------------------\u001b[0m",
      "\u001b[0;31mValueError\u001b[0m                                Traceback (most recent call last)",
      "Cell \u001b[0;32mIn[83], line 6\u001b[0m\n\u001b[1;32m      3\u001b[0m _, dat_music \u001b[38;5;241m=\u001b[39m scipy\u001b[38;5;241m.\u001b[39mio\u001b[38;5;241m.\u001b[39mwavfile\u001b[38;5;241m.\u001b[39mread(\u001b[38;5;124m\"\u001b[39m\u001b[38;5;124m/home/data/openwakeword/일반남여_일반통합12_M_honortome_29_기타_실내/일반남여_일반통합12_M_honortome_29_기타_실내_16646.wav\u001b[39m\u001b[38;5;124m\"\u001b[39m)\n\u001b[1;32m      4\u001b[0m \u001b[38;5;66;03m# _, dat = scipy.io.wavfile.read(\"turn_on_the_office_lights_test_clip.wav\")\u001b[39;00m\n\u001b[1;32m      5\u001b[0m \u001b[38;5;66;03m# _, dat_music = scipy.io.wavfile.read(\"fma_sample/000182.wav\")\u001b[39;00m\n\u001b[0;32m----> 6\u001b[0m dat[\u001b[38;5;241m-\u001b[39m\u001b[38;5;241m20\u001b[39m\u001b[38;5;241m*\u001b[39m\u001b[38;5;241m16000\u001b[39m:] \u001b[38;5;241m=\u001b[39m (\u001b[43mdat\u001b[49m\u001b[43m[\u001b[49m\u001b[38;5;241;43m-\u001b[39;49m\u001b[38;5;241;43m20\u001b[39;49m\u001b[38;5;241;43m*\u001b[39;49m\u001b[38;5;241;43m16000\u001b[39;49m\u001b[43m:\u001b[49m\u001b[43m]\u001b[49m\u001b[43m \u001b[49m\u001b[38;5;241;43m+\u001b[39;49m\u001b[43m \u001b[49m\u001b[43mdat_music\u001b[49m\u001b[43m[\u001b[49m\u001b[38;5;241;43m0\u001b[39;49m\u001b[43m:\u001b[49m\u001b[38;5;241;43m20\u001b[39;49m\u001b[38;5;241;43m*\u001b[39;49m\u001b[38;5;241;43m16000\u001b[39;49m\u001b[43m]\u001b[49m\u001b[38;5;241;43m*\u001b[39;49m\u001b[38;5;241;43m.7\u001b[39;49m)\u001b[38;5;241m/\u001b[39m\u001b[38;5;241m2\u001b[39m \u001b[38;5;66;03m#quick manual mixing\u001b[39;00m\n\u001b[1;32m      8\u001b[0m ipd\u001b[38;5;241m.\u001b[39mdisplay(ipd\u001b[38;5;241m.\u001b[39mAudio(dat[\u001b[38;5;241m-\u001b[39m\u001b[38;5;241m16000\u001b[39m\u001b[38;5;241m*\u001b[39m\u001b[38;5;241m6\u001b[39m:], rate\u001b[38;5;241m=\u001b[39m\u001b[38;5;241m16000\u001b[39m, normalize\u001b[38;5;241m=\u001b[39m\u001b[38;5;28;01mTrue\u001b[39;00m, autoplay\u001b[38;5;241m=\u001b[39m\u001b[38;5;28;01mFalse\u001b[39;00m))\n",
      "\u001b[0;31mValueError\u001b[0m: operands could not be broadcast together with shapes (24266,) (86558,) "
     ]
    }
   ],
   "source": [
    "# Load two clips and mix them\n",
    "_, dat = scipy.io.wavfile.read(\"/home/openWakeWord/sample_data/my_audio_hey_thomas.wav\")\n",
    "_, dat_music = scipy.io.wavfile.read(\"/home/data/openwakeword/일반남여_일반통합12_M_honortome_29_기타_실내/일반남여_일반통합12_M_honortome_29_기타_실내_16646.wav\")\n",
    "# _, dat = scipy.io.wavfile.read(\"turn_on_the_office_lights_test_clip.wav\")\n",
    "# _, dat_music = scipy.io.wavfile.read(\"fma_sample/000182.wav\")\n",
    "\n",
    "dat[-20*16000:] = (dat[-20*16000:] + dat_music[0:20*16000]*.7)/2 #quick manual mixing\n",
    "\n",
    "ipd.display(ipd.Audio(dat[-16000*6:], rate=16000, normalize=True, autoplay=False))"
   ]
  },
  {
   "cell_type": "code",
   "execution_count": 101,
   "id": "344383c7",
   "metadata": {
    "ExecuteTime": {
     "end_time": "2023-02-18T03:40:23.392725Z",
     "start_time": "2023-02-18T03:40:22.770119Z"
    }
   },
   "outputs": [
    {
     "name": "stderr",
     "output_type": "stream",
     "text": [
      "0it [00:00, ?it/s]"
     ]
    },
    {
     "name": "stderr",
     "output_type": "stream",
     "text": [
      "0it [00:00, ?it/s]\n"
     ]
    },
    {
     "data": {
      "image/png": "[encoded data removed]",
      "text/plain": [
       "<Figure size 640x480 with 1 Axes>"
      ]
     },
     "metadata": {},
     "output_type": "display_data"
    }
   ],
   "source": [
    "# Pre-compute audio features using helper function\n",
    "features = F._get_embeddings(dat)\n",
    "\n",
    "# Get predictions for each window\n",
    "scores = []\n",
    "for i in tqdm(range(0, features.shape[0]-28)): # 28 is the number of timestep frames for this model\n",
    "    window = features[i:i+28][None,]\n",
    "    with torch.no_grad():\n",
    "        scores.append(float(fcn(torch.from_numpy(window)).detach().numpy()))\n",
    "    \n",
    "plt.figure()\n",
    "_ = plt.plot(scores)\n",
    "_ = plt.ylim(0,1)"
   ]
  },
  {
   "cell_type": "markdown",
   "id": "078a1bc2",
   "metadata": {},
   "source": [
    "The model is now less confidant in it's prediction than before, but the score is still above a default score of 0.5 which confirms that the model at least represents a good starting point."
   ]
  },
  {
   "cell_type": "markdown",
   "id": "0367ee93",
   "metadata": {},
   "source": [
    "# Export the Model"
   ]
  },
  {
   "cell_type": "markdown",
   "id": "f4eb66ce",
   "metadata": {
    "ExecuteTime": {
     "end_time": "2023-02-12T20:00:58.877229Z",
     "start_time": "2023-02-12T20:00:58.868037Z"
    }
   },
   "source": [
    "Now that the model is trained and passes basic performance validation tests, it can be exported to ONNX so that it can be used by the openWakeWord inference engine. With Torch, this process is quite simple."
   ]
  },
  {
   "cell_type": "code",
   "execution_count": 85,
   "id": "75acc3bb",
   "metadata": {
    "ExecuteTime": {
     "end_time": "2023-02-18T03:40:40.474020Z",
     "start_time": "2023-02-18T03:40:40.401258Z"
    }
   },
   "outputs": [],
   "source": [
    "# Export model to ONNX format\n",
    "\n",
    "output_path = \"/home/openWakeWord/models/hey_thomas.onnx\"\n",
    "torch.onnx.export(fcn, args=torch.zeros((1, 28, 96)), f=output_path) # the 'args' is the shape of a single example"
   ]
  },
  {
   "cell_type": "markdown",
   "id": "03bd9f1e",
   "metadata": {},
   "source": [
    "# Evaluate the Model"
   ]
  },
  {
   "cell_type": "markdown",
   "id": "8c671f55",
   "metadata": {},
   "source": [
    "Let's now load in the ONNX model with openWakeWord, and use that to run some more rigorous testing. First, let's just confirm that the ONNX model works as expected."
   ]
  },
  {
   "cell_type": "code",
   "execution_count": 92,
   "id": "295fd55c",
   "metadata": {
    "ExecuteTime": {
     "end_time": "2023-02-18T03:41:08.824352Z",
     "start_time": "2023-02-18T03:41:08.615724Z"
    }
   },
   "outputs": [],
   "source": [
    "# Create openWakeWord instance\n",
    "\n",
    "oww = openwakeword.Model(\n",
    "    wakeword_models=[\"/home/openWakeWord/models/hey_thomas.onnx\"],\n",
    "    enable_speex_noise_suppression=True,\n",
    "    vad_threshold=0.5,\n",
    "    inference_framework=\"onnx\"\n",
    ")\n"
   ]
  },
  {
   "cell_type": "code",
   "execution_count": 93,
   "id": "6f009d79",
   "metadata": {
    "ExecuteTime": {
     "end_time": "2023-02-18T03:41:13.924834Z",
     "start_time": "2023-02-18T03:41:12.995975Z"
    }
   },
   "outputs": [
    {
     "data": {
      "image/png": "[encoded data removed]",
      "text/plain": [
       "<Figure size 640x480 with 1 Axes>"
      ]
     },
     "metadata": {},
     "output_type": "display_data"
    }
   ],
   "source": [
    "# Do a quick test prediction on the test clip to confirm that the behavior is still as expected\n",
    "\n",
    "scores = oww.predict_clip(\"/home/openWakeWord/sample_data/hey_thomas_female_test_sample.wav\")\n",
    "\n",
    "plt.figure()\n",
    "_ = plt.plot([i[\"hey_thomas\"] for i in scores])"
   ]
  },
  {
   "cell_type": "markdown",
   "id": "d26f14af",
   "metadata": {},
   "source": [
    "Since that looks fine, we can now conduct a more rigorous test to evaluate the false-accept rate in something closer to a production scenario. Specifically, we want the openWakeWord models to respond consistently when a user speaks the target wake word/phrase, but also does not activate even in the presence of many hours of continuous background noise and un-related speech.\n",
    "\n",
    "To test that, we'll use a few clips (for a total of ~ 1 hour) from the [Santa Barbara Corpus of Spoken American English](https://www.linguistics.ucsb.edu/research/santa-barbara-corpus) to produce a more realistic metric for the false-activation rate per hour.\n",
    "\n",
    "The combined clip (already converted to a single-channel, 16khz, 16-bit WAV file) can be downloaded [here](https://f002.backblazeb2.com/file/openwakeword-resources/data/santa_barbara_corpus_test_clip.wav).\n"
   ]
  },
  {
   "cell_type": "code",
   "execution_count": 99,
   "id": "756d7100",
   "metadata": {
    "ExecuteTime": {
     "end_time": "2023-02-18T03:43:13.392821Z",
     "start_time": "2023-02-18T03:41:57.091857Z"
    }
   },
   "outputs": [
    {
     "data": {
      "image/png": "[encoded data removed]",
      "text/plain": [
       "<Figure size 640x480 with 1 Axes>"
      ]
     },
     "metadata": {},
     "output_type": "display_data"
    }
   ],
   "source": [
    "# Estimate the false-accept rate on realistic test data (will take up to several minutes an a desktop-grade CPU)\n",
    "\n",
    "scores = oww.predict_clip(\"/home/data/openwakeword/일반남여_일반통합12_M_honortome_29_기타_실내/일반남여_일반통합12_M_honortome_29_기타_실내_16646.wav\")\n",
    "\n",
    "# i[\"onnx model file name\"]으로 설정해야함. oww = openwakeword.Model 이 코드에서 객체 생성할때 내부 클래스에서 저장되는 것 같다.\n",
    "plt.figure()\n",
    "_ = plt.plot([i[\"hey_thomas\"] for i in scores])\n",
    "_ = plt.ylim(0,1)"
   ]
  },
  {
   "cell_type": "code",
   "execution_count": 100,
   "id": "b9e2f282",
   "metadata": {
    "ExecuteTime": {
     "end_time": "2023-02-18T03:43:20.326550Z",
     "start_time": "2023-02-18T03:43:20.309552Z"
    }
   },
   "outputs": [
    {
     "name": "stdout",
     "output_type": "stream",
     "text": [
      "False-accept rate per hour: 0.0\n"
     ]
    }
   ],
   "source": [
    "# Calculate the false-accept rate per hour from this result\n",
    "\n",
    "false_accepts = openwakeword.metrics.get_false_positives(\n",
    "    [i[\"hey_thomas\"] for i in scores], threshold=0.5\n",
    ")\n",
    "\n",
    "print(f\"False-accept rate per hour: {false_accepts/1}\")"
   ]
  },
  {
   "cell_type": "markdown",
   "id": "04d294cf",
   "metadata": {},
   "source": [
    "It looks like the false-accept rate for this model is very high, and would need to be reduced quite significantly to be viable for a production deployment. Of course, this was expected as the model was trained on a very small amount of positive and negative data."
   ]
  },
  {
   "cell_type": "markdown",
   "id": "c758890a",
   "metadata": {},
   "source": [
    "# Create a User-specific Verifier Model"
   ]
  },
  {
   "cell_type": "markdown",
   "id": "362c6812",
   "metadata": {},
   "source": [
    "As we saw, the simple model trained on this dataset performs quite well at detecting the presence of the wakeword/phrase, but often activates when it shouldn't, leading to an unnacceptably high false-accept rate.\n",
    "\n",
    "In practice, there are two ways to improve the performance of the model:\n",
    "\n",
    "1) Train on much larger amounts of positive and negative examples. The models released with openWakeWord are often trained on >100,000 positive examples, and over 30,000 hours of negative data.\n",
    "\n",
    "2) Create a user-specific \"verifier\" model based on examples of a specific person speaking the both the wake word/phrase and unrelated speech. The openWakeWord inference engine uses this verifier model to filter out likely false activations by focusing on only known speakers.\n",
    "\n",
    "We'll demonstrate the 2nd option here, as it's a very quick way to significantly improve performance at the cost of making the model far less likely to work well with other voices. The approach behind this verifier model are relatively simple, and are discussed in more detail in the openWakeWord documentation [here](https://github.com/dscripka/openWakeWord/docs/custom_verifier_models.md).\n",
    "\n",
    "For test data, we'll use 20 examples of the wake phrase generated with the [Tortoise](https://github.com/neonbjb/tortoise-tts) TTS model. While this is also synthetic data, it's very high quality and trained on different data than the TTS models used to generate training data. For unrelated speech, an English [phonetic pangram](https://www.liquisearch.com/list_of_pangrams/english_phonetic_pangrams) sentence was generated with the same TTS voice.\n",
    "\n",
    "This example wake phrase clips and reference negative speech (phonetic pangram) are included in the openWakeWord repo (in the `notebooks/training_tutorial_data` directory)."
   ]
  },
  {
   "cell_type": "code",
   "execution_count": 26,
   "id": "f6b88046",
   "metadata": {
    "ExecuteTime": {
     "end_time": "2023-02-18T03:45:18.538259Z",
     "start_time": "2023-02-18T03:45:18.525190Z"
    }
   },
   "outputs": [
    {
     "data": {
      "text/html": [
       "\n",
       "                <audio  controls=\"controls\" >\n",
       "                    <source src=\"data:audio/x-wav;base64,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\" type=\"audio/x-wav\" />\n",
       "                    Your browser does not support the audio element.\n",
       "                </audio>\n",
       "              "
      ],
      "text/plain": [
       "<IPython.lib.display.Audio object>"
      ]
     },
     "metadata": {},
     "output_type": "display_data"
    }
   ],
   "source": [
    "# Provide paths to positive and negative speech from the target speaker for training a custom\n",
    "# verifier model\n",
    "\n",
    "reference_clips = [str(i) for i in Path(\"training_tutorial_data/positive/\").glob(\"*.wav\")]\n",
    "negative_clips = [str(i) for i in Path(\"training_tutorial_data/negative/\").glob(\"*.wav\")]\n",
    "\n",
    "# Listen to one of the clips\n",
    "ipd.display(ipd.Audio(reference_clips[0], rate=16000, normalize=True, autoplay=False))"
   ]
  },
  {
   "cell_type": "markdown",
   "id": "937e0df5",
   "metadata": {},
   "source": [
    "Now that we have the data (note that all of the clips *must* be 16 khz, 16-bit PCM WAV files), we can train a custom verifier model. This is simply a scikit-learn logistic regression model, using the same audio features from the normal openWakeWord pre-processor, so it is very fast to train and adds negligble time to the openWakeWord inference engine."
   ]
  },
  {
   "cell_type": "code",
   "execution_count": 27,
   "id": "7f965293",
   "metadata": {
    "ExecuteTime": {
     "end_time": "2023-02-18T03:45:57.606472Z",
     "start_time": "2023-02-18T03:45:56.587146Z"
    }
   },
   "outputs": [
    {
     "name": "stderr",
     "output_type": "stream",
     "text": [
      "Processing positive reference clips: 100%|██████████| 3/3 [00:00<00:00,  4.77it/s]\n",
      "Processing negative reference clips: 100%|██████████| 1/1 [00:00<00:00,  5.53it/s]\n"
     ]
    },
    {
     "name": "stdout",
     "output_type": "stream",
     "text": [
      "Training and saving verifier model...\n",
      "Done!\n"
     ]
    }
   ],
   "source": [
    "# Train verifier model on the reference clips\n",
    "\n",
    "output_model_path = \"turn_on_the_office_lights_verifier.pkl\"\n",
    "openwakeword.train_custom_verifier(\n",
    "    positive_reference_clips = reference_clips[0:3], # use 3 reference examples for the wake phrase\n",
    "    negative_reference_clips = negative_clips,\n",
    "    output_path = output_model_path,\n",
    "    model_name = \"turn_on_the_office_lights.onnx\"\n",
    ")\n"
   ]
  },
  {
   "cell_type": "markdown",
   "id": "4ad4d2ec",
   "metadata": {},
   "source": [
    "After the model is trained, we can instantiate a new openWakeWord instance and include the path to the trained verifier model, as well as set the threshold score from the base model required to invoke the verifier. In practice, you can set this threshold score a bit lower than normal, though as usual actual testing in the deployment environment is recommended."
   ]
  },
  {
   "cell_type": "code",
   "execution_count": 28,
   "id": "50b99677",
   "metadata": {
    "ExecuteTime": {
     "end_time": "2023-02-18T03:46:01.357976Z",
     "start_time": "2023-02-18T03:46:01.146646Z"
    }
   },
   "outputs": [
    {
     "name": "stderr",
     "output_type": "stream",
     "text": [
      "/home/dscripka/anaconda3/envs/torch_gpu/lib/python3.9/site-packages/onnxruntime/capi/onnxruntime_inference_collection.py:54: UserWarning: Specified provider 'CUDAExecutionProvider' is not in available provider names.Available providers: 'CPUExecutionProvider'\n",
      "  warnings.warn(\n"
     ]
    }
   ],
   "source": [
    "# Create openWakeWord instance with verifier model\n",
    "\n",
    "oww = openwakeword.Model(\n",
    "    wakeword_model_paths=[\"turn_on_the_office_lights.onnx\"],\n",
    "    enable_speex_noise_suppression=True,\n",
    "    vad_threshold=0.5,\n",
    "    custom_verifier_models={\"turn_on_the_office_lights\": \"turn_on_the_office_lights_verifier.pkl\"},\n",
    "    custom_verifier_threshold=0.3,\n",
    ")\n"
   ]
  },
  {
   "cell_type": "markdown",
   "id": "6666dadb",
   "metadata": {},
   "source": [
    "Finally, we can run the model on our test clip from the Santa Barbara corpus and see if the false activation rate has decreased to an acceptable level."
   ]
  },
  {
   "cell_type": "code",
   "execution_count": 29,
   "id": "19fd5f51",
   "metadata": {
    "ExecuteTime": {
     "end_time": "2023-02-18T03:47:25.076640Z",
     "start_time": "2023-02-18T03:46:07.021368Z"
    }
   },
   "outputs": [
    {
     "data": {
      "image/png": "[encoded data removed]",
      "text/plain": [
       "<Figure size 640x480 with 1 Axes>"
      ]
     },
     "metadata": {},
     "output_type": "display_data"
    }
   ],
   "source": [
    "# Run false-accept rate test again, now with the verifier model\n",
    "\n",
    "scores = oww.predict_clip(\"santa_barbara_corpus_test_clip.wav\")\n",
    "\n",
    "plt.figure()\n",
    "plt.plot([i[\"turn_on_the_office_lights\"] for i in scores])\n",
    "_ = plt.ylim(0,1)\n"
   ]
  },
  {
   "cell_type": "code",
   "execution_count": 30,
   "id": "c59007d2",
   "metadata": {
    "ExecuteTime": {
     "end_time": "2023-02-18T03:47:29.856142Z",
     "start_time": "2023-02-18T03:47:29.836354Z"
    }
   },
   "outputs": [
    {
     "name": "stdout",
     "output_type": "stream",
     "text": [
      "False-accept rate per hour: 0.0\n"
     ]
    }
   ],
   "source": [
    "# Calculate the false-accept rate per hour from this new result\n",
    "\n",
    "false_accepts = openwakeword.metrics.get_false_positives(\n",
    "    [i[\"turn_on_the_office_lights\"] for i in scores], threshold=0.5\n",
    ")\n",
    "\n",
    "print(f\"False-accept rate per hour: {false_accepts/1}\")"
   ]
  },
  {
   "cell_type": "markdown",
   "id": "7c7375c6",
   "metadata": {},
   "source": [
    "Sucess! Now the false-activation rate is at most <1 per hour given that there weren't any false-positives in our ~1 hour test clip, which is an orders of magnitude decrease! This model is now much closer to being ready for a production deployment, assuming that each user is known and can provide the neccessary data to train the verifier model."
   ]
  }
 ],
 "metadata": {
  "kernelspec": {
   "display_name": "Python 3",
   "language": "python",
   "name": "python3"
  },
  "language_info": {
   "codemirror_mode": {
    "name": "ipython",
    "version": 3
   },
   "file_extension": ".py",
   "mimetype": "text/x-python",
   "name": "python",
   "nbconvert_exporter": "python",
   "pygments_lexer": "ipython3",
   "version": "3.10.12"
  },
  "toc": {
   "base_numbering": 1,
   "nav_menu": {},
   "number_sections": true,
   "sideBar": true,
   "skip_h1_title": false,
   "title_cell": "Table of Contents",
   "title_sidebar": "Contents",
   "toc_cell": false,
   "toc_position": {
    "height": "calc(100% - 180px)",
    "left": "10px",
    "top": "150px",
    "width": "384px"
   },
   "toc_section_display": true,
   "toc_window_display": true
  }
 },
 "nbformat": 4,
 "nbformat_minor": 5
}
